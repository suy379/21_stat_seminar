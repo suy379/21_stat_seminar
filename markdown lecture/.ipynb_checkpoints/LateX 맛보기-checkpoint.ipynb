{
 "cells": [
  {
   "cell_type": "markdown",
   "metadata": {},
   "source": [
    "## 제목\n",
    "- 이렇게 마크다운을 활용하면 됩니다. 정말 쉽죠?\n",
    "    - 안에 또 쓸 수 있고\n",
    "        - 여기에 또 쓸 수 있당.\n",
    "    - 여기엔 __이렇게 볼드체__랑 *이탤릭체*도 쓸 수 있답니다."
   ]
  },
  {
   "cell_type": "markdown",
   "metadata": {},
   "source": [
    "## LateX math with $$\n",
    "this is mathematcial expression: $  \\sum_{i=0}^n X_i $"
   ]
  },
  {
   "cell_type": "markdown",
   "metadata": {},
   "source": [
    "$$\n",
    "\\sum_{i=1}^n \\frac{1}{x_i}\n",
    "$$"
   ]
  },
  {
   "cell_type": "markdown",
   "metadata": {},
   "source": [
    "google -> LateX syntax 검색."
   ]
  }
 ],
 "metadata": {
  "kernelspec": {
   "display_name": "Python 3",
   "language": "python",
   "name": "python3"
  },
  "language_info": {
   "codemirror_mode": {
    "name": "ipython",
    "version": 3
   },
   "file_extension": ".py",
   "mimetype": "text/x-python",
   "name": "python",
   "nbconvert_exporter": "python",
   "pygments_lexer": "ipython3",
   "version": "3.7.6"
  }
 },
 "nbformat": 4,
 "nbformat_minor": 4
}
