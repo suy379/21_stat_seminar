{
  "nbformat": 4,
  "nbformat_minor": 0,
  "metadata": {
    "colab": {
      "name": "R_practice2(tidyr)",
      "provenance": [],
      "collapsed_sections": [],
      "include_colab_link": true
    },
    "kernelspec": {
      "name": "ir",
      "display_name": "R"
    }
  },
  "cells": [
    {
      "cell_type": "markdown",
      "metadata": {
        "id": "view-in-github",
        "colab_type": "text"
      },
      "source": [
        "<a href=\"https://colab.research.google.com/github/suy379/21_stat_seminar/blob/main/R_practice2(tidyr).ipynb\" target=\"_parent\"><img src=\"https://colab.research.google.com/assets/colab-badge.svg\" alt=\"Open In Colab\"/></a>"
      ]
    },
    {
      "cell_type": "markdown",
      "metadata": {
        "id": "gstrndhz6psu"
      },
      "source": [
        "# Data Wrangling (tidyr)"
      ]
    },
    {
      "cell_type": "code",
      "metadata": {
        "id": "76FV1Zt07B11",
        "colab": {
          "base_uri": "https://localhost:8080/"
        },
        "outputId": "76ea15b2-0255-4f70-e539-d6a91f9d0cac"
      },
      "source": [
        "library(tidyverse)"
      ],
      "execution_count": 1,
      "outputs": [
        {
          "output_type": "stream",
          "text": [
            "Warning message in system(\"timedatectl\", intern = TRUE):\n",
            "“running command 'timedatectl' had status 1”\n",
            "── \u001b[1mAttaching packages\u001b[22m ─────────────────────────────────────── tidyverse 1.3.0 ──\n",
            "\n",
            "\u001b[32m✔\u001b[39m \u001b[34mggplot2\u001b[39m 3.3.3     \u001b[32m✔\u001b[39m \u001b[34mpurrr  \u001b[39m 0.3.4\n",
            "\u001b[32m✔\u001b[39m \u001b[34mtibble \u001b[39m 3.1.0     \u001b[32m✔\u001b[39m \u001b[34mdplyr  \u001b[39m 1.0.5\n",
            "\u001b[32m✔\u001b[39m \u001b[34mtidyr  \u001b[39m 1.1.3     \u001b[32m✔\u001b[39m \u001b[34mstringr\u001b[39m 1.4.0\n",
            "\u001b[32m✔\u001b[39m \u001b[34mreadr  \u001b[39m 1.4.0     \u001b[32m✔\u001b[39m \u001b[34mforcats\u001b[39m 0.5.1\n",
            "\n",
            "── \u001b[1mConflicts\u001b[22m ────────────────────────────────────────── tidyverse_conflicts() ──\n",
            "\u001b[31m✖\u001b[39m \u001b[34mdplyr\u001b[39m::\u001b[32mfilter()\u001b[39m masks \u001b[34mstats\u001b[39m::filter()\n",
            "\u001b[31m✖\u001b[39m \u001b[34mdplyr\u001b[39m::\u001b[32mlag()\u001b[39m    masks \u001b[34mstats\u001b[39m::lag()\n",
            "\n"
          ],
          "name": "stderr"
        }
      ]
    },
    {
      "cell_type": "markdown",
      "metadata": {
        "id": "RNJOq6-gLQik"
      },
      "source": [
        "## Example datasets"
      ]
    },
    {
      "cell_type": "code",
      "metadata": {
        "colab": {
          "base_uri": "https://localhost:8080/",
          "height": 271
        },
        "id": "NVHja2rs6-sx",
        "outputId": "18bd6e9b-ade2-4e7d-9349-ed668944eecd"
      },
      "source": [
        "table1"
      ],
      "execution_count": 2,
      "outputs": [
        {
          "output_type": "display_data",
          "data": {
            "text/plain": [
              "  country     year cases  population\n",
              "1 Afghanistan 1999    745   19987071\n",
              "2 Afghanistan 2000   2666   20595360\n",
              "3 Brazil      1999  37737  172006362\n",
              "4 Brazil      2000  80488  174504898\n",
              "5 China       1999 212258 1272915272\n",
              "6 China       2000 213766 1280428583"
            ],
            "text/latex": "A tibble: 6 × 4\n\\begin{tabular}{llll}\n country & year & cases & population\\\\\n <chr> & <int> & <int> & <int>\\\\\n\\hline\n\t Afghanistan & 1999 &    745 &   19987071\\\\\n\t Afghanistan & 2000 &   2666 &   20595360\\\\\n\t Brazil      & 1999 &  37737 &  172006362\\\\\n\t Brazil      & 2000 &  80488 &  174504898\\\\\n\t China       & 1999 & 212258 & 1272915272\\\\\n\t China       & 2000 & 213766 & 1280428583\\\\\n\\end{tabular}\n",
            "text/markdown": "\nA tibble: 6 × 4\n\n| country &lt;chr&gt; | year &lt;int&gt; | cases &lt;int&gt; | population &lt;int&gt; |\n|---|---|---|---|\n| Afghanistan | 1999 |    745 |   19987071 |\n| Afghanistan | 2000 |   2666 |   20595360 |\n| Brazil      | 1999 |  37737 |  172006362 |\n| Brazil      | 2000 |  80488 |  174504898 |\n| China       | 1999 | 212258 | 1272915272 |\n| China       | 2000 | 213766 | 1280428583 |\n\n",
            "text/html": [
              "<table class=\"dataframe\">\n",
              "<caption>A tibble: 6 × 4</caption>\n",
              "<thead>\n",
              "\t<tr><th scope=col>country</th><th scope=col>year</th><th scope=col>cases</th><th scope=col>population</th></tr>\n",
              "\t<tr><th scope=col>&lt;chr&gt;</th><th scope=col>&lt;int&gt;</th><th scope=col>&lt;int&gt;</th><th scope=col>&lt;int&gt;</th></tr>\n",
              "</thead>\n",
              "<tbody>\n",
              "\t<tr><td>Afghanistan</td><td>1999</td><td>   745</td><td>  19987071</td></tr>\n",
              "\t<tr><td>Afghanistan</td><td>2000</td><td>  2666</td><td>  20595360</td></tr>\n",
              "\t<tr><td>Brazil     </td><td>1999</td><td> 37737</td><td> 172006362</td></tr>\n",
              "\t<tr><td>Brazil     </td><td>2000</td><td> 80488</td><td> 174504898</td></tr>\n",
              "\t<tr><td>China      </td><td>1999</td><td>212258</td><td>1272915272</td></tr>\n",
              "\t<tr><td>China      </td><td>2000</td><td>213766</td><td>1280428583</td></tr>\n",
              "</tbody>\n",
              "</table>\n"
            ]
          },
          "metadata": {
            "tags": []
          }
        }
      ]
    },
    {
      "cell_type": "code",
      "metadata": {
        "colab": {
          "base_uri": "https://localhost:8080/",
          "height": 449
        },
        "id": "Yc0K2hUT62I0",
        "outputId": "7e81127f-baa1-4db1-aab6-9387790ed95a"
      },
      "source": [
        "table2"
      ],
      "execution_count": 3,
      "outputs": [
        {
          "output_type": "display_data",
          "data": {
            "text/plain": [
              "   country     year type       count     \n",
              "1  Afghanistan 1999 cases             745\n",
              "2  Afghanistan 1999 population   19987071\n",
              "3  Afghanistan 2000 cases            2666\n",
              "4  Afghanistan 2000 population   20595360\n",
              "5  Brazil      1999 cases           37737\n",
              "6  Brazil      1999 population  172006362\n",
              "7  Brazil      2000 cases           80488\n",
              "8  Brazil      2000 population  174504898\n",
              "9  China       1999 cases          212258\n",
              "10 China       1999 population 1272915272\n",
              "11 China       2000 cases          213766\n",
              "12 China       2000 population 1280428583"
            ],
            "text/latex": "A tibble: 12 × 4\n\\begin{tabular}{llll}\n country & year & type & count\\\\\n <chr> & <int> & <chr> & <int>\\\\\n\\hline\n\t Afghanistan & 1999 & cases      &        745\\\\\n\t Afghanistan & 1999 & population &   19987071\\\\\n\t Afghanistan & 2000 & cases      &       2666\\\\\n\t Afghanistan & 2000 & population &   20595360\\\\\n\t Brazil      & 1999 & cases      &      37737\\\\\n\t Brazil      & 1999 & population &  172006362\\\\\n\t Brazil      & 2000 & cases      &      80488\\\\\n\t Brazil      & 2000 & population &  174504898\\\\\n\t China       & 1999 & cases      &     212258\\\\\n\t China       & 1999 & population & 1272915272\\\\\n\t China       & 2000 & cases      &     213766\\\\\n\t China       & 2000 & population & 1280428583\\\\\n\\end{tabular}\n",
            "text/markdown": "\nA tibble: 12 × 4\n\n| country &lt;chr&gt; | year &lt;int&gt; | type &lt;chr&gt; | count &lt;int&gt; |\n|---|---|---|---|\n| Afghanistan | 1999 | cases      |        745 |\n| Afghanistan | 1999 | population |   19987071 |\n| Afghanistan | 2000 | cases      |       2666 |\n| Afghanistan | 2000 | population |   20595360 |\n| Brazil      | 1999 | cases      |      37737 |\n| Brazil      | 1999 | population |  172006362 |\n| Brazil      | 2000 | cases      |      80488 |\n| Brazil      | 2000 | population |  174504898 |\n| China       | 1999 | cases      |     212258 |\n| China       | 1999 | population | 1272915272 |\n| China       | 2000 | cases      |     213766 |\n| China       | 2000 | population | 1280428583 |\n\n",
            "text/html": [
              "<table class=\"dataframe\">\n",
              "<caption>A tibble: 12 × 4</caption>\n",
              "<thead>\n",
              "\t<tr><th scope=col>country</th><th scope=col>year</th><th scope=col>type</th><th scope=col>count</th></tr>\n",
              "\t<tr><th scope=col>&lt;chr&gt;</th><th scope=col>&lt;int&gt;</th><th scope=col>&lt;chr&gt;</th><th scope=col>&lt;int&gt;</th></tr>\n",
              "</thead>\n",
              "<tbody>\n",
              "\t<tr><td>Afghanistan</td><td>1999</td><td>cases     </td><td>       745</td></tr>\n",
              "\t<tr><td>Afghanistan</td><td>1999</td><td>population</td><td>  19987071</td></tr>\n",
              "\t<tr><td>Afghanistan</td><td>2000</td><td>cases     </td><td>      2666</td></tr>\n",
              "\t<tr><td>Afghanistan</td><td>2000</td><td>population</td><td>  20595360</td></tr>\n",
              "\t<tr><td>Brazil     </td><td>1999</td><td>cases     </td><td>     37737</td></tr>\n",
              "\t<tr><td>Brazil     </td><td>1999</td><td>population</td><td> 172006362</td></tr>\n",
              "\t<tr><td>Brazil     </td><td>2000</td><td>cases     </td><td>     80488</td></tr>\n",
              "\t<tr><td>Brazil     </td><td>2000</td><td>population</td><td> 174504898</td></tr>\n",
              "\t<tr><td>China      </td><td>1999</td><td>cases     </td><td>    212258</td></tr>\n",
              "\t<tr><td>China      </td><td>1999</td><td>population</td><td>1272915272</td></tr>\n",
              "\t<tr><td>China      </td><td>2000</td><td>cases     </td><td>    213766</td></tr>\n",
              "\t<tr><td>China      </td><td>2000</td><td>population</td><td>1280428583</td></tr>\n",
              "</tbody>\n",
              "</table>\n"
            ]
          },
          "metadata": {
            "tags": []
          }
        }
      ]
    },
    {
      "cell_type": "code",
      "metadata": {
        "colab": {
          "base_uri": "https://localhost:8080/",
          "height": 271
        },
        "id": "ruUuOM3Z6uHz",
        "outputId": "a1eb514a-df25-42a1-fccc-afc2e9e9d6e7"
      },
      "source": [
        "table3"
      ],
      "execution_count": 4,
      "outputs": [
        {
          "output_type": "display_data",
          "data": {
            "text/plain": [
              "  country     year rate             \n",
              "1 Afghanistan 1999 745/19987071     \n",
              "2 Afghanistan 2000 2666/20595360    \n",
              "3 Brazil      1999 37737/172006362  \n",
              "4 Brazil      2000 80488/174504898  \n",
              "5 China       1999 212258/1272915272\n",
              "6 China       2000 213766/1280428583"
            ],
            "text/latex": "A tibble: 6 × 3\n\\begin{tabular}{r|lll}\n  & country & year & rate\\\\\n  & <chr> & <int> & <chr>\\\\\n\\hline\n\t1 & Afghanistan & 1999 & 745/19987071     \\\\\n\t2 & Afghanistan & 2000 & 2666/20595360    \\\\\n\t3 & Brazil      & 1999 & 37737/172006362  \\\\\n\t4 & Brazil      & 2000 & 80488/174504898  \\\\\n\t5 & China       & 1999 & 212258/1272915272\\\\\n\t6 & China       & 2000 & 213766/1280428583\\\\\n\\end{tabular}\n",
            "text/markdown": "\nA tibble: 6 × 3\n\n| <!--/--> | country &lt;chr&gt; | year &lt;int&gt; | rate &lt;chr&gt; |\n|---|---|---|---|\n| 1 | Afghanistan | 1999 | 745/19987071      |\n| 2 | Afghanistan | 2000 | 2666/20595360     |\n| 3 | Brazil      | 1999 | 37737/172006362   |\n| 4 | Brazil      | 2000 | 80488/174504898   |\n| 5 | China       | 1999 | 212258/1272915272 |\n| 6 | China       | 2000 | 213766/1280428583 |\n\n",
            "text/html": [
              "<table class=\"dataframe\">\n",
              "<caption>A tibble: 6 × 3</caption>\n",
              "<thead>\n",
              "\t<tr><th></th><th scope=col>country</th><th scope=col>year</th><th scope=col>rate</th></tr>\n",
              "\t<tr><th></th><th scope=col>&lt;chr&gt;</th><th scope=col>&lt;int&gt;</th><th scope=col>&lt;chr&gt;</th></tr>\n",
              "</thead>\n",
              "<tbody>\n",
              "\t<tr><th scope=row>1</th><td>Afghanistan</td><td>1999</td><td>745/19987071     </td></tr>\n",
              "\t<tr><th scope=row>2</th><td>Afghanistan</td><td>2000</td><td>2666/20595360    </td></tr>\n",
              "\t<tr><th scope=row>3</th><td>Brazil     </td><td>1999</td><td>37737/172006362  </td></tr>\n",
              "\t<tr><th scope=row>4</th><td>Brazil     </td><td>2000</td><td>80488/174504898  </td></tr>\n",
              "\t<tr><th scope=row>5</th><td>China      </td><td>1999</td><td>212258/1272915272</td></tr>\n",
              "\t<tr><th scope=row>6</th><td>China      </td><td>2000</td><td>213766/1280428583</td></tr>\n",
              "</tbody>\n",
              "</table>\n"
            ]
          },
          "metadata": {
            "tags": []
          }
        }
      ]
    },
    {
      "cell_type": "code",
      "metadata": {
        "id": "g7pkx0_iKcLw",
        "colab": {
          "base_uri": "https://localhost:8080/",
          "height": 182
        },
        "outputId": "ec563560-2370-41bf-ad60-1081ae7f08b5"
      },
      "source": [
        "table4a # N. cases"
      ],
      "execution_count": 5,
      "outputs": [
        {
          "output_type": "display_data",
          "data": {
            "text/plain": [
              "  country     1999   2000  \n",
              "1 Afghanistan    745   2666\n",
              "2 Brazil       37737  80488\n",
              "3 China       212258 213766"
            ],
            "text/latex": "A tibble: 3 × 3\n\\begin{tabular}{r|lll}\n  & country & 1999 & 2000\\\\\n  & <chr> & <int> & <int>\\\\\n\\hline\n\t1 & Afghanistan &    745 &   2666\\\\\n\t2 & Brazil      &  37737 &  80488\\\\\n\t3 & China       & 212258 & 213766\\\\\n\\end{tabular}\n",
            "text/markdown": "\nA tibble: 3 × 3\n\n| <!--/--> | country &lt;chr&gt; | 1999 &lt;int&gt; | 2000 &lt;int&gt; |\n|---|---|---|---|\n| 1 | Afghanistan |    745 |   2666 |\n| 2 | Brazil      |  37737 |  80488 |\n| 3 | China       | 212258 | 213766 |\n\n",
            "text/html": [
              "<table class=\"dataframe\">\n",
              "<caption>A tibble: 3 × 3</caption>\n",
              "<thead>\n",
              "\t<tr><th></th><th scope=col>country</th><th scope=col>1999</th><th scope=col>2000</th></tr>\n",
              "\t<tr><th></th><th scope=col>&lt;chr&gt;</th><th scope=col>&lt;int&gt;</th><th scope=col>&lt;int&gt;</th></tr>\n",
              "</thead>\n",
              "<tbody>\n",
              "\t<tr><th scope=row>1</th><td>Afghanistan</td><td>   745</td><td>  2666</td></tr>\n",
              "\t<tr><th scope=row>2</th><td>Brazil     </td><td> 37737</td><td> 80488</td></tr>\n",
              "\t<tr><th scope=row>3</th><td>China      </td><td>212258</td><td>213766</td></tr>\n",
              "</tbody>\n",
              "</table>\n"
            ]
          },
          "metadata": {
            "tags": []
          }
        }
      ]
    },
    {
      "cell_type": "code",
      "metadata": {
        "id": "49S9TIboKeCV",
        "colab": {
          "base_uri": "https://localhost:8080/",
          "height": 182
        },
        "outputId": "5344de0f-8cef-4f5d-a007-e3c516431160"
      },
      "source": [
        "table4b # N. population"
      ],
      "execution_count": 6,
      "outputs": [
        {
          "output_type": "display_data",
          "data": {
            "text/plain": [
              "  country     1999       2000      \n",
              "1 Afghanistan   19987071   20595360\n",
              "2 Brazil       172006362  174504898\n",
              "3 China       1272915272 1280428583"
            ],
            "text/latex": "A tibble: 3 × 3\n\\begin{tabular}{r|lll}\n  & country & 1999 & 2000\\\\\n  & <chr> & <int> & <int>\\\\\n\\hline\n\t1 & Afghanistan &   19987071 &   20595360\\\\\n\t2 & Brazil      &  172006362 &  174504898\\\\\n\t3 & China       & 1272915272 & 1280428583\\\\\n\\end{tabular}\n",
            "text/markdown": "\nA tibble: 3 × 3\n\n| <!--/--> | country &lt;chr&gt; | 1999 &lt;int&gt; | 2000 &lt;int&gt; |\n|---|---|---|---|\n| 1 | Afghanistan |   19987071 |   20595360 |\n| 2 | Brazil      |  172006362 |  174504898 |\n| 3 | China       | 1272915272 | 1280428583 |\n\n",
            "text/html": [
              "<table class=\"dataframe\">\n",
              "<caption>A tibble: 3 × 3</caption>\n",
              "<thead>\n",
              "\t<tr><th></th><th scope=col>country</th><th scope=col>1999</th><th scope=col>2000</th></tr>\n",
              "\t<tr><th></th><th scope=col>&lt;chr&gt;</th><th scope=col>&lt;int&gt;</th><th scope=col>&lt;int&gt;</th></tr>\n",
              "</thead>\n",
              "<tbody>\n",
              "\t<tr><th scope=row>1</th><td>Afghanistan</td><td>  19987071</td><td>  20595360</td></tr>\n",
              "\t<tr><th scope=row>2</th><td>Brazil     </td><td> 172006362</td><td> 174504898</td></tr>\n",
              "\t<tr><th scope=row>3</th><td>China      </td><td>1272915272</td><td>1280428583</td></tr>\n",
              "</tbody>\n",
              "</table>\n"
            ]
          },
          "metadata": {
            "tags": []
          }
        }
      ]
    },
    {
      "cell_type": "markdown",
      "metadata": {
        "id": "Ja7B9v_QLXDw"
      },
      "source": [
        "## pivot_longer() "
      ]
    },
    {
      "cell_type": "markdown",
      "metadata": {
        "id": "_HaJOk7fMnEM"
      },
      "source": [
        "One variable might be spread across multiple columns"
      ]
    },
    {
      "cell_type": "markdown",
      "metadata": {
        "id": "CM7i75ShLcRx"
      },
      "source": [
        "Apply pivot_longer() to table4a"
      ]
    },
    {
      "cell_type": "code",
      "metadata": {
        "colab": {
          "base_uri": "https://localhost:8080/",
          "height": 182
        },
        "id": "Y4I20ckIrwdh",
        "outputId": "9a6c7398-3def-457b-dbe6-de2640645958"
      },
      "source": [
        "table4a #현재 country별 1999년, 2000년의 case 수를 담고있음."
      ],
      "execution_count": 7,
      "outputs": [
        {
          "output_type": "display_data",
          "data": {
            "text/plain": [
              "  country     1999   2000  \n",
              "1 Afghanistan    745   2666\n",
              "2 Brazil       37737  80488\n",
              "3 China       212258 213766"
            ],
            "text/latex": "A tibble: 3 × 3\n\\begin{tabular}{r|lll}\n  & country & 1999 & 2000\\\\\n  & <chr> & <int> & <int>\\\\\n\\hline\n\t1 & Afghanistan &    745 &   2666\\\\\n\t2 & Brazil      &  37737 &  80488\\\\\n\t3 & China       & 212258 & 213766\\\\\n\\end{tabular}\n",
            "text/markdown": "\nA tibble: 3 × 3\n\n| <!--/--> | country &lt;chr&gt; | 1999 &lt;int&gt; | 2000 &lt;int&gt; |\n|---|---|---|---|\n| 1 | Afghanistan |    745 |   2666 |\n| 2 | Brazil      |  37737 |  80488 |\n| 3 | China       | 212258 | 213766 |\n\n",
            "text/html": [
              "<table class=\"dataframe\">\n",
              "<caption>A tibble: 3 × 3</caption>\n",
              "<thead>\n",
              "\t<tr><th></th><th scope=col>country</th><th scope=col>1999</th><th scope=col>2000</th></tr>\n",
              "\t<tr><th></th><th scope=col>&lt;chr&gt;</th><th scope=col>&lt;int&gt;</th><th scope=col>&lt;int&gt;</th></tr>\n",
              "</thead>\n",
              "<tbody>\n",
              "\t<tr><th scope=row>1</th><td>Afghanistan</td><td>   745</td><td>  2666</td></tr>\n",
              "\t<tr><th scope=row>2</th><td>Brazil     </td><td> 37737</td><td> 80488</td></tr>\n",
              "\t<tr><th scope=row>3</th><td>China      </td><td>212258</td><td>213766</td></tr>\n",
              "</tbody>\n",
              "</table>\n"
            ]
          },
          "metadata": {
            "tags": []
          }
        }
      ]
    },
    {
      "cell_type": "code",
      "metadata": {
        "id": "BefFvDSOKo6I",
        "colab": {
          "base_uri": "https://localhost:8080/",
          "height": 271
        },
        "outputId": "d0563f41-fd59-4197-887d-e8cb5926455f"
      },
      "source": [
        "table4a %>% \n",
        "    #country별로 year, case 수라는 컬럼을 새로 만듦. \n",
        "    #그래서 원래 1999, 2000이라는 컬럼의 이름을 -> year로, 그 안에 들어갈 내용은 -> cases로 함.\n",
        "    pivot_longer(c('1999', '2000'), names_to = \"year\", values_to = \"cases\")"
      ],
      "execution_count": 8,
      "outputs": [
        {
          "output_type": "display_data",
          "data": {
            "text/plain": [
              "  country     year cases \n",
              "1 Afghanistan 1999    745\n",
              "2 Afghanistan 2000   2666\n",
              "3 Brazil      1999  37737\n",
              "4 Brazil      2000  80488\n",
              "5 China       1999 212258\n",
              "6 China       2000 213766"
            ],
            "text/latex": "A tibble: 6 × 3\n\\begin{tabular}{lll}\n country & year & cases\\\\\n <chr> & <chr> & <int>\\\\\n\\hline\n\t Afghanistan & 1999 &    745\\\\\n\t Afghanistan & 2000 &   2666\\\\\n\t Brazil      & 1999 &  37737\\\\\n\t Brazil      & 2000 &  80488\\\\\n\t China       & 1999 & 212258\\\\\n\t China       & 2000 & 213766\\\\\n\\end{tabular}\n",
            "text/markdown": "\nA tibble: 6 × 3\n\n| country &lt;chr&gt; | year &lt;chr&gt; | cases &lt;int&gt; |\n|---|---|---|\n| Afghanistan | 1999 |    745 |\n| Afghanistan | 2000 |   2666 |\n| Brazil      | 1999 |  37737 |\n| Brazil      | 2000 |  80488 |\n| China       | 1999 | 212258 |\n| China       | 2000 | 213766 |\n\n",
            "text/html": [
              "<table class=\"dataframe\">\n",
              "<caption>A tibble: 6 × 3</caption>\n",
              "<thead>\n",
              "\t<tr><th scope=col>country</th><th scope=col>year</th><th scope=col>cases</th></tr>\n",
              "\t<tr><th scope=col>&lt;chr&gt;</th><th scope=col>&lt;chr&gt;</th><th scope=col>&lt;int&gt;</th></tr>\n",
              "</thead>\n",
              "<tbody>\n",
              "\t<tr><td>Afghanistan</td><td>1999</td><td>   745</td></tr>\n",
              "\t<tr><td>Afghanistan</td><td>2000</td><td>  2666</td></tr>\n",
              "\t<tr><td>Brazil     </td><td>1999</td><td> 37737</td></tr>\n",
              "\t<tr><td>Brazil     </td><td>2000</td><td> 80488</td></tr>\n",
              "\t<tr><td>China      </td><td>1999</td><td>212258</td></tr>\n",
              "\t<tr><td>China      </td><td>2000</td><td>213766</td></tr>\n",
              "</tbody>\n",
              "</table>\n"
            ]
          },
          "metadata": {
            "tags": []
          }
        }
      ]
    },
    {
      "cell_type": "markdown",
      "metadata": {
        "id": "536HG8rsLgSu"
      },
      "source": [
        "apply it to table4b"
      ]
    },
    {
      "cell_type": "code",
      "metadata": {
        "colab": {
          "base_uri": "https://localhost:8080/",
          "height": 182
        },
        "id": "UTE75-hGsLMj",
        "outputId": "b9fc9826-4ba3-42ed-ab81-5113d67d46cb"
      },
      "source": [
        "table4b #table4a와 비슷하게, country별 1999, 2000년의 인구수 정보를 담고있음."
      ],
      "execution_count": 9,
      "outputs": [
        {
          "output_type": "display_data",
          "data": {
            "text/plain": [
              "  country     1999       2000      \n",
              "1 Afghanistan   19987071   20595360\n",
              "2 Brazil       172006362  174504898\n",
              "3 China       1272915272 1280428583"
            ],
            "text/latex": "A tibble: 3 × 3\n\\begin{tabular}{r|lll}\n  & country & 1999 & 2000\\\\\n  & <chr> & <int> & <int>\\\\\n\\hline\n\t1 & Afghanistan &   19987071 &   20595360\\\\\n\t2 & Brazil      &  172006362 &  174504898\\\\\n\t3 & China       & 1272915272 & 1280428583\\\\\n\\end{tabular}\n",
            "text/markdown": "\nA tibble: 3 × 3\n\n| <!--/--> | country &lt;chr&gt; | 1999 &lt;int&gt; | 2000 &lt;int&gt; |\n|---|---|---|---|\n| 1 | Afghanistan |   19987071 |   20595360 |\n| 2 | Brazil      |  172006362 |  174504898 |\n| 3 | China       | 1272915272 | 1280428583 |\n\n",
            "text/html": [
              "<table class=\"dataframe\">\n",
              "<caption>A tibble: 3 × 3</caption>\n",
              "<thead>\n",
              "\t<tr><th></th><th scope=col>country</th><th scope=col>1999</th><th scope=col>2000</th></tr>\n",
              "\t<tr><th></th><th scope=col>&lt;chr&gt;</th><th scope=col>&lt;int&gt;</th><th scope=col>&lt;int&gt;</th></tr>\n",
              "</thead>\n",
              "<tbody>\n",
              "\t<tr><th scope=row>1</th><td>Afghanistan</td><td>  19987071</td><td>  20595360</td></tr>\n",
              "\t<tr><th scope=row>2</th><td>Brazil     </td><td> 172006362</td><td> 174504898</td></tr>\n",
              "\t<tr><th scope=row>3</th><td>China      </td><td>1272915272</td><td>1280428583</td></tr>\n",
              "</tbody>\n",
              "</table>\n"
            ]
          },
          "metadata": {
            "tags": []
          }
        }
      ]
    },
    {
      "cell_type": "code",
      "metadata": {
        "id": "NcFsYuOTKf3b",
        "colab": {
          "base_uri": "https://localhost:8080/",
          "height": 271
        },
        "outputId": "231a9f2e-031c-4d0a-a9ce-a41008b512ca"
      },
      "source": [
        "table4b %>% \n",
        "    #마찬가지로 1999, 2000-> 컬럼 year로, 안에 들어갈 내용은 -> pop으로 함.\n",
        "    pivot_longer(c('1999','2000'), names_to='year', values_to='pop')"
      ],
      "execution_count": 10,
      "outputs": [
        {
          "output_type": "display_data",
          "data": {
            "text/plain": [
              "  country     year pop       \n",
              "1 Afghanistan 1999   19987071\n",
              "2 Afghanistan 2000   20595360\n",
              "3 Brazil      1999  172006362\n",
              "4 Brazil      2000  174504898\n",
              "5 China       1999 1272915272\n",
              "6 China       2000 1280428583"
            ],
            "text/latex": "A tibble: 6 × 3\n\\begin{tabular}{lll}\n country & year & pop\\\\\n <chr> & <chr> & <int>\\\\\n\\hline\n\t Afghanistan & 1999 &   19987071\\\\\n\t Afghanistan & 2000 &   20595360\\\\\n\t Brazil      & 1999 &  172006362\\\\\n\t Brazil      & 2000 &  174504898\\\\\n\t China       & 1999 & 1272915272\\\\\n\t China       & 2000 & 1280428583\\\\\n\\end{tabular}\n",
            "text/markdown": "\nA tibble: 6 × 3\n\n| country &lt;chr&gt; | year &lt;chr&gt; | pop &lt;int&gt; |\n|---|---|---|\n| Afghanistan | 1999 |   19987071 |\n| Afghanistan | 2000 |   20595360 |\n| Brazil      | 1999 |  172006362 |\n| Brazil      | 2000 |  174504898 |\n| China       | 1999 | 1272915272 |\n| China       | 2000 | 1280428583 |\n\n",
            "text/html": [
              "<table class=\"dataframe\">\n",
              "<caption>A tibble: 6 × 3</caption>\n",
              "<thead>\n",
              "\t<tr><th scope=col>country</th><th scope=col>year</th><th scope=col>pop</th></tr>\n",
              "\t<tr><th scope=col>&lt;chr&gt;</th><th scope=col>&lt;chr&gt;</th><th scope=col>&lt;int&gt;</th></tr>\n",
              "</thead>\n",
              "<tbody>\n",
              "\t<tr><td>Afghanistan</td><td>1999</td><td>  19987071</td></tr>\n",
              "\t<tr><td>Afghanistan</td><td>2000</td><td>  20595360</td></tr>\n",
              "\t<tr><td>Brazil     </td><td>1999</td><td> 172006362</td></tr>\n",
              "\t<tr><td>Brazil     </td><td>2000</td><td> 174504898</td></tr>\n",
              "\t<tr><td>China      </td><td>1999</td><td>1272915272</td></tr>\n",
              "\t<tr><td>China      </td><td>2000</td><td>1280428583</td></tr>\n",
              "</tbody>\n",
              "</table>\n"
            ]
          },
          "metadata": {
            "tags": []
          }
        }
      ]
    },
    {
      "cell_type": "markdown",
      "metadata": {
        "id": "Y8lndFAeLk6S"
      },
      "source": [
        "### Join two tables\n",
        "- left_join, right_join"
      ]
    },
    {
      "cell_type": "code",
      "metadata": {
        "id": "y3-IqtQCKfsR",
        "colab": {
          "base_uri": "https://localhost:8080/",
          "height": 305
        },
        "outputId": "90d1b14c-fecd-4ca6-d984-902b913cf73c"
      },
      "source": [
        "tidy4a <- table4a %>% \n",
        "  pivot_longer(c('1999', '2000'), names_to = \"year\", values_to = \"cases\")\n",
        "tidy4b <- table4b %>% \n",
        "  pivot_longer(c('1999', '2000'), names_to = \"year\", values_to = \"population\")\n",
        "\n",
        "left_join(tidy4a, tidy4b)"
      ],
      "execution_count": 11,
      "outputs": [
        {
          "output_type": "stream",
          "text": [
            "Joining, by = c(\"country\", \"year\")\n",
            "\n"
          ],
          "name": "stderr"
        },
        {
          "output_type": "display_data",
          "data": {
            "text/plain": [
              "  country     year cases  population\n",
              "1 Afghanistan 1999    745   19987071\n",
              "2 Afghanistan 2000   2666   20595360\n",
              "3 Brazil      1999  37737  172006362\n",
              "4 Brazil      2000  80488  174504898\n",
              "5 China       1999 212258 1272915272\n",
              "6 China       2000 213766 1280428583"
            ],
            "text/latex": "A tibble: 6 × 4\n\\begin{tabular}{llll}\n country & year & cases & population\\\\\n <chr> & <chr> & <int> & <int>\\\\\n\\hline\n\t Afghanistan & 1999 &    745 &   19987071\\\\\n\t Afghanistan & 2000 &   2666 &   20595360\\\\\n\t Brazil      & 1999 &  37737 &  172006362\\\\\n\t Brazil      & 2000 &  80488 &  174504898\\\\\n\t China       & 1999 & 212258 & 1272915272\\\\\n\t China       & 2000 & 213766 & 1280428583\\\\\n\\end{tabular}\n",
            "text/markdown": "\nA tibble: 6 × 4\n\n| country &lt;chr&gt; | year &lt;chr&gt; | cases &lt;int&gt; | population &lt;int&gt; |\n|---|---|---|---|\n| Afghanistan | 1999 |    745 |   19987071 |\n| Afghanistan | 2000 |   2666 |   20595360 |\n| Brazil      | 1999 |  37737 |  172006362 |\n| Brazil      | 2000 |  80488 |  174504898 |\n| China       | 1999 | 212258 | 1272915272 |\n| China       | 2000 | 213766 | 1280428583 |\n\n",
            "text/html": [
              "<table class=\"dataframe\">\n",
              "<caption>A tibble: 6 × 4</caption>\n",
              "<thead>\n",
              "\t<tr><th scope=col>country</th><th scope=col>year</th><th scope=col>cases</th><th scope=col>population</th></tr>\n",
              "\t<tr><th scope=col>&lt;chr&gt;</th><th scope=col>&lt;chr&gt;</th><th scope=col>&lt;int&gt;</th><th scope=col>&lt;int&gt;</th></tr>\n",
              "</thead>\n",
              "<tbody>\n",
              "\t<tr><td>Afghanistan</td><td>1999</td><td>   745</td><td>  19987071</td></tr>\n",
              "\t<tr><td>Afghanistan</td><td>2000</td><td>  2666</td><td>  20595360</td></tr>\n",
              "\t<tr><td>Brazil     </td><td>1999</td><td> 37737</td><td> 172006362</td></tr>\n",
              "\t<tr><td>Brazil     </td><td>2000</td><td> 80488</td><td> 174504898</td></tr>\n",
              "\t<tr><td>China      </td><td>1999</td><td>212258</td><td>1272915272</td></tr>\n",
              "\t<tr><td>China      </td><td>2000</td><td>213766</td><td>1280428583</td></tr>\n",
              "</tbody>\n",
              "</table>\n"
            ]
          },
          "metadata": {
            "tags": []
          }
        }
      ]
    },
    {
      "cell_type": "code",
      "metadata": {
        "colab": {
          "base_uri": "https://localhost:8080/",
          "height": 305
        },
        "id": "c6D4_PW5uUTA",
        "outputId": "afd12193-af02-4cda-b579-a755d167e2a0"
      },
      "source": [
        "right_join(tidy4a, tidy4b)"
      ],
      "execution_count": 12,
      "outputs": [
        {
          "output_type": "stream",
          "text": [
            "Joining, by = c(\"country\", \"year\")\n",
            "\n"
          ],
          "name": "stderr"
        },
        {
          "output_type": "display_data",
          "data": {
            "text/plain": [
              "  country     year cases  population\n",
              "1 Afghanistan 1999    745   19987071\n",
              "2 Afghanistan 2000   2666   20595360\n",
              "3 Brazil      1999  37737  172006362\n",
              "4 Brazil      2000  80488  174504898\n",
              "5 China       1999 212258 1272915272\n",
              "6 China       2000 213766 1280428583"
            ],
            "text/latex": "A tibble: 6 × 4\n\\begin{tabular}{llll}\n country & year & cases & population\\\\\n <chr> & <chr> & <int> & <int>\\\\\n\\hline\n\t Afghanistan & 1999 &    745 &   19987071\\\\\n\t Afghanistan & 2000 &   2666 &   20595360\\\\\n\t Brazil      & 1999 &  37737 &  172006362\\\\\n\t Brazil      & 2000 &  80488 &  174504898\\\\\n\t China       & 1999 & 212258 & 1272915272\\\\\n\t China       & 2000 & 213766 & 1280428583\\\\\n\\end{tabular}\n",
            "text/markdown": "\nA tibble: 6 × 4\n\n| country &lt;chr&gt; | year &lt;chr&gt; | cases &lt;int&gt; | population &lt;int&gt; |\n|---|---|---|---|\n| Afghanistan | 1999 |    745 |   19987071 |\n| Afghanistan | 2000 |   2666 |   20595360 |\n| Brazil      | 1999 |  37737 |  172006362 |\n| Brazil      | 2000 |  80488 |  174504898 |\n| China       | 1999 | 212258 | 1272915272 |\n| China       | 2000 | 213766 | 1280428583 |\n\n",
            "text/html": [
              "<table class=\"dataframe\">\n",
              "<caption>A tibble: 6 × 4</caption>\n",
              "<thead>\n",
              "\t<tr><th scope=col>country</th><th scope=col>year</th><th scope=col>cases</th><th scope=col>population</th></tr>\n",
              "\t<tr><th scope=col>&lt;chr&gt;</th><th scope=col>&lt;chr&gt;</th><th scope=col>&lt;int&gt;</th><th scope=col>&lt;int&gt;</th></tr>\n",
              "</thead>\n",
              "<tbody>\n",
              "\t<tr><td>Afghanistan</td><td>1999</td><td>   745</td><td>  19987071</td></tr>\n",
              "\t<tr><td>Afghanistan</td><td>2000</td><td>  2666</td><td>  20595360</td></tr>\n",
              "\t<tr><td>Brazil     </td><td>1999</td><td> 37737</td><td> 172006362</td></tr>\n",
              "\t<tr><td>Brazil     </td><td>2000</td><td> 80488</td><td> 174504898</td></tr>\n",
              "\t<tr><td>China      </td><td>1999</td><td>212258</td><td>1272915272</td></tr>\n",
              "\t<tr><td>China      </td><td>2000</td><td>213766</td><td>1280428583</td></tr>\n",
              "</tbody>\n",
              "</table>\n"
            ]
          },
          "metadata": {
            "tags": []
          }
        }
      ]
    },
    {
      "cell_type": "markdown",
      "metadata": {
        "id": "pFJXg7AAMIQR"
      },
      "source": [
        "### Q: What is right_join? try ?right_join and study join methods"
      ]
    },
    {
      "cell_type": "markdown",
      "metadata": {
        "id": "6tJiqPzUMZXe"
      },
      "source": [
        "## Pivot_wider()"
      ]
    },
    {
      "cell_type": "markdown",
      "metadata": {
        "id": "agZwBpgJMe3T"
      },
      "source": [
        "One observation might be scattered across multiple rows"
      ]
    },
    {
      "cell_type": "code",
      "metadata": {
        "id": "ef7xVxDvKfU6",
        "colab": {
          "base_uri": "https://localhost:8080/",
          "height": 449
        },
        "outputId": "c244c339-3dfd-4474-cce9-414d46dd5a70"
      },
      "source": [
        "table2"
      ],
      "execution_count": 13,
      "outputs": [
        {
          "output_type": "display_data",
          "data": {
            "text/plain": [
              "   country     year type       count     \n",
              "1  Afghanistan 1999 cases             745\n",
              "2  Afghanistan 1999 population   19987071\n",
              "3  Afghanistan 2000 cases            2666\n",
              "4  Afghanistan 2000 population   20595360\n",
              "5  Brazil      1999 cases           37737\n",
              "6  Brazil      1999 population  172006362\n",
              "7  Brazil      2000 cases           80488\n",
              "8  Brazil      2000 population  174504898\n",
              "9  China       1999 cases          212258\n",
              "10 China       1999 population 1272915272\n",
              "11 China       2000 cases          213766\n",
              "12 China       2000 population 1280428583"
            ],
            "text/latex": "A tibble: 12 × 4\n\\begin{tabular}{llll}\n country & year & type & count\\\\\n <chr> & <int> & <chr> & <int>\\\\\n\\hline\n\t Afghanistan & 1999 & cases      &        745\\\\\n\t Afghanistan & 1999 & population &   19987071\\\\\n\t Afghanistan & 2000 & cases      &       2666\\\\\n\t Afghanistan & 2000 & population &   20595360\\\\\n\t Brazil      & 1999 & cases      &      37737\\\\\n\t Brazil      & 1999 & population &  172006362\\\\\n\t Brazil      & 2000 & cases      &      80488\\\\\n\t Brazil      & 2000 & population &  174504898\\\\\n\t China       & 1999 & cases      &     212258\\\\\n\t China       & 1999 & population & 1272915272\\\\\n\t China       & 2000 & cases      &     213766\\\\\n\t China       & 2000 & population & 1280428583\\\\\n\\end{tabular}\n",
            "text/markdown": "\nA tibble: 12 × 4\n\n| country &lt;chr&gt; | year &lt;int&gt; | type &lt;chr&gt; | count &lt;int&gt; |\n|---|---|---|---|\n| Afghanistan | 1999 | cases      |        745 |\n| Afghanistan | 1999 | population |   19987071 |\n| Afghanistan | 2000 | cases      |       2666 |\n| Afghanistan | 2000 | population |   20595360 |\n| Brazil      | 1999 | cases      |      37737 |\n| Brazil      | 1999 | population |  172006362 |\n| Brazil      | 2000 | cases      |      80488 |\n| Brazil      | 2000 | population |  174504898 |\n| China       | 1999 | cases      |     212258 |\n| China       | 1999 | population | 1272915272 |\n| China       | 2000 | cases      |     213766 |\n| China       | 2000 | population | 1280428583 |\n\n",
            "text/html": [
              "<table class=\"dataframe\">\n",
              "<caption>A tibble: 12 × 4</caption>\n",
              "<thead>\n",
              "\t<tr><th scope=col>country</th><th scope=col>year</th><th scope=col>type</th><th scope=col>count</th></tr>\n",
              "\t<tr><th scope=col>&lt;chr&gt;</th><th scope=col>&lt;int&gt;</th><th scope=col>&lt;chr&gt;</th><th scope=col>&lt;int&gt;</th></tr>\n",
              "</thead>\n",
              "<tbody>\n",
              "\t<tr><td>Afghanistan</td><td>1999</td><td>cases     </td><td>       745</td></tr>\n",
              "\t<tr><td>Afghanistan</td><td>1999</td><td>population</td><td>  19987071</td></tr>\n",
              "\t<tr><td>Afghanistan</td><td>2000</td><td>cases     </td><td>      2666</td></tr>\n",
              "\t<tr><td>Afghanistan</td><td>2000</td><td>population</td><td>  20595360</td></tr>\n",
              "\t<tr><td>Brazil     </td><td>1999</td><td>cases     </td><td>     37737</td></tr>\n",
              "\t<tr><td>Brazil     </td><td>1999</td><td>population</td><td> 172006362</td></tr>\n",
              "\t<tr><td>Brazil     </td><td>2000</td><td>cases     </td><td>     80488</td></tr>\n",
              "\t<tr><td>Brazil     </td><td>2000</td><td>population</td><td> 174504898</td></tr>\n",
              "\t<tr><td>China      </td><td>1999</td><td>cases     </td><td>    212258</td></tr>\n",
              "\t<tr><td>China      </td><td>1999</td><td>population</td><td>1272915272</td></tr>\n",
              "\t<tr><td>China      </td><td>2000</td><td>cases     </td><td>    213766</td></tr>\n",
              "\t<tr><td>China      </td><td>2000</td><td>population</td><td>1280428583</td></tr>\n",
              "</tbody>\n",
              "</table>\n"
            ]
          },
          "metadata": {
            "tags": []
          }
        }
      ]
    },
    {
      "cell_type": "code",
      "metadata": {
        "id": "dxI9LeITM3j3",
        "colab": {
          "base_uri": "https://localhost:8080/",
          "height": 271
        },
        "outputId": "747e2379-b867-453c-ad78-977f9459102e"
      },
      "source": [
        "#앞의 table2를 변형하여, type컬럼 내 case, population를 새로운 컬럼명으로 하고\n",
        "#그 값을 count 컬럼에서 가져옴.\n",
        "table2 %>% pivot_wider(names_from = type, values_from = count)"
      ],
      "execution_count": 14,
      "outputs": [
        {
          "output_type": "display_data",
          "data": {
            "text/plain": [
              "  country     year cases  population\n",
              "1 Afghanistan 1999    745   19987071\n",
              "2 Afghanistan 2000   2666   20595360\n",
              "3 Brazil      1999  37737  172006362\n",
              "4 Brazil      2000  80488  174504898\n",
              "5 China       1999 212258 1272915272\n",
              "6 China       2000 213766 1280428583"
            ],
            "text/latex": "A tibble: 6 × 4\n\\begin{tabular}{llll}\n country & year & cases & population\\\\\n <chr> & <int> & <int> & <int>\\\\\n\\hline\n\t Afghanistan & 1999 &    745 &   19987071\\\\\n\t Afghanistan & 2000 &   2666 &   20595360\\\\\n\t Brazil      & 1999 &  37737 &  172006362\\\\\n\t Brazil      & 2000 &  80488 &  174504898\\\\\n\t China       & 1999 & 212258 & 1272915272\\\\\n\t China       & 2000 & 213766 & 1280428583\\\\\n\\end{tabular}\n",
            "text/markdown": "\nA tibble: 6 × 4\n\n| country &lt;chr&gt; | year &lt;int&gt; | cases &lt;int&gt; | population &lt;int&gt; |\n|---|---|---|---|\n| Afghanistan | 1999 |    745 |   19987071 |\n| Afghanistan | 2000 |   2666 |   20595360 |\n| Brazil      | 1999 |  37737 |  172006362 |\n| Brazil      | 2000 |  80488 |  174504898 |\n| China       | 1999 | 212258 | 1272915272 |\n| China       | 2000 | 213766 | 1280428583 |\n\n",
            "text/html": [
              "<table class=\"dataframe\">\n",
              "<caption>A tibble: 6 × 4</caption>\n",
              "<thead>\n",
              "\t<tr><th scope=col>country</th><th scope=col>year</th><th scope=col>cases</th><th scope=col>population</th></tr>\n",
              "\t<tr><th scope=col>&lt;chr&gt;</th><th scope=col>&lt;int&gt;</th><th scope=col>&lt;int&gt;</th><th scope=col>&lt;int&gt;</th></tr>\n",
              "</thead>\n",
              "<tbody>\n",
              "\t<tr><td>Afghanistan</td><td>1999</td><td>   745</td><td>  19987071</td></tr>\n",
              "\t<tr><td>Afghanistan</td><td>2000</td><td>  2666</td><td>  20595360</td></tr>\n",
              "\t<tr><td>Brazil     </td><td>1999</td><td> 37737</td><td> 172006362</td></tr>\n",
              "\t<tr><td>Brazil     </td><td>2000</td><td> 80488</td><td> 174504898</td></tr>\n",
              "\t<tr><td>China      </td><td>1999</td><td>212258</td><td>1272915272</td></tr>\n",
              "\t<tr><td>China      </td><td>2000</td><td>213766</td><td>1280428583</td></tr>\n",
              "</tbody>\n",
              "</table>\n"
            ]
          },
          "metadata": {
            "tags": []
          }
        }
      ]
    },
    {
      "cell_type": "markdown",
      "metadata": {
        "id": "gyxo4AYZNEAs"
      },
      "source": [
        "## Separating and Uniting "
      ]
    },
    {
      "cell_type": "markdown",
      "metadata": {
        "id": "ry9qAKWNNznX"
      },
      "source": [
        "## separate()"
      ]
    },
    {
      "cell_type": "markdown",
      "metadata": {
        "id": "I783ke7ANPUh"
      },
      "source": [
        "One column contains two variables "
      ]
    },
    {
      "cell_type": "code",
      "metadata": {
        "id": "v6XtM3tBM3RB",
        "colab": {
          "base_uri": "https://localhost:8080/",
          "height": 271
        },
        "outputId": "306da275-2b1f-4e3f-a794-b0b1968477c6"
      },
      "source": [
        "table3 "
      ],
      "execution_count": 15,
      "outputs": [
        {
          "output_type": "display_data",
          "data": {
            "text/plain": [
              "  country     year rate             \n",
              "1 Afghanistan 1999 745/19987071     \n",
              "2 Afghanistan 2000 2666/20595360    \n",
              "3 Brazil      1999 37737/172006362  \n",
              "4 Brazil      2000 80488/174504898  \n",
              "5 China       1999 212258/1272915272\n",
              "6 China       2000 213766/1280428583"
            ],
            "text/latex": "A tibble: 6 × 3\n\\begin{tabular}{r|lll}\n  & country & year & rate\\\\\n  & <chr> & <int> & <chr>\\\\\n\\hline\n\t1 & Afghanistan & 1999 & 745/19987071     \\\\\n\t2 & Afghanistan & 2000 & 2666/20595360    \\\\\n\t3 & Brazil      & 1999 & 37737/172006362  \\\\\n\t4 & Brazil      & 2000 & 80488/174504898  \\\\\n\t5 & China       & 1999 & 212258/1272915272\\\\\n\t6 & China       & 2000 & 213766/1280428583\\\\\n\\end{tabular}\n",
            "text/markdown": "\nA tibble: 6 × 3\n\n| <!--/--> | country &lt;chr&gt; | year &lt;int&gt; | rate &lt;chr&gt; |\n|---|---|---|---|\n| 1 | Afghanistan | 1999 | 745/19987071      |\n| 2 | Afghanistan | 2000 | 2666/20595360     |\n| 3 | Brazil      | 1999 | 37737/172006362   |\n| 4 | Brazil      | 2000 | 80488/174504898   |\n| 5 | China       | 1999 | 212258/1272915272 |\n| 6 | China       | 2000 | 213766/1280428583 |\n\n",
            "text/html": [
              "<table class=\"dataframe\">\n",
              "<caption>A tibble: 6 × 3</caption>\n",
              "<thead>\n",
              "\t<tr><th></th><th scope=col>country</th><th scope=col>year</th><th scope=col>rate</th></tr>\n",
              "\t<tr><th></th><th scope=col>&lt;chr&gt;</th><th scope=col>&lt;int&gt;</th><th scope=col>&lt;chr&gt;</th></tr>\n",
              "</thead>\n",
              "<tbody>\n",
              "\t<tr><th scope=row>1</th><td>Afghanistan</td><td>1999</td><td>745/19987071     </td></tr>\n",
              "\t<tr><th scope=row>2</th><td>Afghanistan</td><td>2000</td><td>2666/20595360    </td></tr>\n",
              "\t<tr><th scope=row>3</th><td>Brazil     </td><td>1999</td><td>37737/172006362  </td></tr>\n",
              "\t<tr><th scope=row>4</th><td>Brazil     </td><td>2000</td><td>80488/174504898  </td></tr>\n",
              "\t<tr><th scope=row>5</th><td>China      </td><td>1999</td><td>212258/1272915272</td></tr>\n",
              "\t<tr><th scope=row>6</th><td>China      </td><td>2000</td><td>213766/1280428583</td></tr>\n",
              "</tbody>\n",
              "</table>\n"
            ]
          },
          "metadata": {
            "tags": []
          }
        }
      ]
    },
    {
      "cell_type": "code",
      "metadata": {
        "id": "l14bCe7tNOXC",
        "colab": {
          "base_uri": "https://localhost:8080/",
          "height": 271
        },
        "outputId": "c094ba61-dba5-4009-b46a-31d9c6bf77a0"
      },
      "source": [
        "#rate 컬럼을 case, population으로 나누기\n",
        "table3 %>% separate(rate, into = c(\"cases\", \"population\"))"
      ],
      "execution_count": null,
      "outputs": [
        {
          "output_type": "display_data",
          "data": {
            "text/plain": [
              "  country     year cases  population\n",
              "1 Afghanistan 1999 745    19987071  \n",
              "2 Afghanistan 2000 2666   20595360  \n",
              "3 Brazil      1999 37737  172006362 \n",
              "4 Brazil      2000 80488  174504898 \n",
              "5 China       1999 212258 1272915272\n",
              "6 China       2000 213766 1280428583"
            ],
            "text/latex": "A tibble: 6 × 4\n\\begin{tabular}{llll}\n country & year & cases & population\\\\\n <chr> & <int> & <chr> & <chr>\\\\\n\\hline\n\t Afghanistan & 1999 & 745    & 19987071  \\\\\n\t Afghanistan & 2000 & 2666   & 20595360  \\\\\n\t Brazil      & 1999 & 37737  & 172006362 \\\\\n\t Brazil      & 2000 & 80488  & 174504898 \\\\\n\t China       & 1999 & 212258 & 1272915272\\\\\n\t China       & 2000 & 213766 & 1280428583\\\\\n\\end{tabular}\n",
            "text/markdown": "\nA tibble: 6 × 4\n\n| country &lt;chr&gt; | year &lt;int&gt; | cases &lt;chr&gt; | population &lt;chr&gt; |\n|---|---|---|---|\n| Afghanistan | 1999 | 745    | 19987071   |\n| Afghanistan | 2000 | 2666   | 20595360   |\n| Brazil      | 1999 | 37737  | 172006362  |\n| Brazil      | 2000 | 80488  | 174504898  |\n| China       | 1999 | 212258 | 1272915272 |\n| China       | 2000 | 213766 | 1280428583 |\n\n",
            "text/html": [
              "<table class=\"dataframe\">\n",
              "<caption>A tibble: 6 × 4</caption>\n",
              "<thead>\n",
              "\t<tr><th scope=col>country</th><th scope=col>year</th><th scope=col>cases</th><th scope=col>population</th></tr>\n",
              "\t<tr><th scope=col>&lt;chr&gt;</th><th scope=col>&lt;int&gt;</th><th scope=col>&lt;chr&gt;</th><th scope=col>&lt;chr&gt;</th></tr>\n",
              "</thead>\n",
              "<tbody>\n",
              "\t<tr><td>Afghanistan</td><td>1999</td><td>745   </td><td>19987071  </td></tr>\n",
              "\t<tr><td>Afghanistan</td><td>2000</td><td>2666  </td><td>20595360  </td></tr>\n",
              "\t<tr><td>Brazil     </td><td>1999</td><td>37737 </td><td>172006362 </td></tr>\n",
              "\t<tr><td>Brazil     </td><td>2000</td><td>80488 </td><td>174504898 </td></tr>\n",
              "\t<tr><td>China      </td><td>1999</td><td>212258</td><td>1272915272</td></tr>\n",
              "\t<tr><td>China      </td><td>2000</td><td>213766</td><td>1280428583</td></tr>\n",
              "</tbody>\n",
              "</table>\n"
            ]
          },
          "metadata": {
            "tags": []
          }
        }
      ]
    },
    {
      "cell_type": "code",
      "metadata": {
        "colab": {
          "base_uri": "https://localhost:8080/",
          "height": 271
        },
        "id": "C8x85wvmbgkG",
        "outputId": "f5baa527-84c2-44b5-ab50-b9522bbd279f"
      },
      "source": [
        "#sep 옵션 사용 가능. 여기선 rate에 문자 '/'가 있어서 '/' 기준으로 나눈다는 의미\n",
        "#문자가 여러개일 때 사용하면 좋겠지?\n",
        "table3 %>% separate(rate, into = c(\"cases\", \"population\"), sep='/')"
      ],
      "execution_count": 18,
      "outputs": [
        {
          "output_type": "display_data",
          "data": {
            "text/plain": [
              "  country     year cases  population\n",
              "1 Afghanistan 1999 745    19987071  \n",
              "2 Afghanistan 2000 2666   20595360  \n",
              "3 Brazil      1999 37737  172006362 \n",
              "4 Brazil      2000 80488  174504898 \n",
              "5 China       1999 212258 1272915272\n",
              "6 China       2000 213766 1280428583"
            ],
            "text/latex": "A tibble: 6 × 4\n\\begin{tabular}{llll}\n country & year & cases & population\\\\\n <chr> & <int> & <chr> & <chr>\\\\\n\\hline\n\t Afghanistan & 1999 & 745    & 19987071  \\\\\n\t Afghanistan & 2000 & 2666   & 20595360  \\\\\n\t Brazil      & 1999 & 37737  & 172006362 \\\\\n\t Brazil      & 2000 & 80488  & 174504898 \\\\\n\t China       & 1999 & 212258 & 1272915272\\\\\n\t China       & 2000 & 213766 & 1280428583\\\\\n\\end{tabular}\n",
            "text/markdown": "\nA tibble: 6 × 4\n\n| country &lt;chr&gt; | year &lt;int&gt; | cases &lt;chr&gt; | population &lt;chr&gt; |\n|---|---|---|---|\n| Afghanistan | 1999 | 745    | 19987071   |\n| Afghanistan | 2000 | 2666   | 20595360   |\n| Brazil      | 1999 | 37737  | 172006362  |\n| Brazil      | 2000 | 80488  | 174504898  |\n| China       | 1999 | 212258 | 1272915272 |\n| China       | 2000 | 213766 | 1280428583 |\n\n",
            "text/html": [
              "<table class=\"dataframe\">\n",
              "<caption>A tibble: 6 × 4</caption>\n",
              "<thead>\n",
              "\t<tr><th scope=col>country</th><th scope=col>year</th><th scope=col>cases</th><th scope=col>population</th></tr>\n",
              "\t<tr><th scope=col>&lt;chr&gt;</th><th scope=col>&lt;int&gt;</th><th scope=col>&lt;chr&gt;</th><th scope=col>&lt;chr&gt;</th></tr>\n",
              "</thead>\n",
              "<tbody>\n",
              "\t<tr><td>Afghanistan</td><td>1999</td><td>745   </td><td>19987071  </td></tr>\n",
              "\t<tr><td>Afghanistan</td><td>2000</td><td>2666  </td><td>20595360  </td></tr>\n",
              "\t<tr><td>Brazil     </td><td>1999</td><td>37737 </td><td>172006362 </td></tr>\n",
              "\t<tr><td>Brazil     </td><td>2000</td><td>80488 </td><td>174504898 </td></tr>\n",
              "\t<tr><td>China      </td><td>1999</td><td>212258</td><td>1272915272</td></tr>\n",
              "\t<tr><td>China      </td><td>2000</td><td>213766</td><td>1280428583</td></tr>\n",
              "</tbody>\n",
              "</table>\n"
            ]
          },
          "metadata": {
            "tags": []
          }
        }
      ]
    },
    {
      "cell_type": "code",
      "metadata": {
        "colab": {
          "base_uri": "https://localhost:8080/",
          "height": 271
        },
        "id": "jsxCSha60IJn",
        "outputId": "ed0057cc-3309-4447-a077-139227e341d3"
      },
      "source": [
        "#이렇게만 하면 cases, population이 chr로 되어있으므로, 숫자로 변경\n",
        "table3 %>% separate(rate, into = c(\"cases\", \"population\")) %>%\n",
        "mutate(cases = as.numeric(cases), population = as.numeric(population))"
      ],
      "execution_count": 16,
      "outputs": [
        {
          "output_type": "display_data",
          "data": {
            "text/plain": [
              "  country     year cases  population\n",
              "1 Afghanistan 1999    745   19987071\n",
              "2 Afghanistan 2000   2666   20595360\n",
              "3 Brazil      1999  37737  172006362\n",
              "4 Brazil      2000  80488  174504898\n",
              "5 China       1999 212258 1272915272\n",
              "6 China       2000 213766 1280428583"
            ],
            "text/latex": "A tibble: 6 × 4\n\\begin{tabular}{llll}\n country & year & cases & population\\\\\n <chr> & <int> & <dbl> & <dbl>\\\\\n\\hline\n\t Afghanistan & 1999 &    745 &   19987071\\\\\n\t Afghanistan & 2000 &   2666 &   20595360\\\\\n\t Brazil      & 1999 &  37737 &  172006362\\\\\n\t Brazil      & 2000 &  80488 &  174504898\\\\\n\t China       & 1999 & 212258 & 1272915272\\\\\n\t China       & 2000 & 213766 & 1280428583\\\\\n\\end{tabular}\n",
            "text/markdown": "\nA tibble: 6 × 4\n\n| country &lt;chr&gt; | year &lt;int&gt; | cases &lt;dbl&gt; | population &lt;dbl&gt; |\n|---|---|---|---|\n| Afghanistan | 1999 |    745 |   19987071 |\n| Afghanistan | 2000 |   2666 |   20595360 |\n| Brazil      | 1999 |  37737 |  172006362 |\n| Brazil      | 2000 |  80488 |  174504898 |\n| China       | 1999 | 212258 | 1272915272 |\n| China       | 2000 | 213766 | 1280428583 |\n\n",
            "text/html": [
              "<table class=\"dataframe\">\n",
              "<caption>A tibble: 6 × 4</caption>\n",
              "<thead>\n",
              "\t<tr><th scope=col>country</th><th scope=col>year</th><th scope=col>cases</th><th scope=col>population</th></tr>\n",
              "\t<tr><th scope=col>&lt;chr&gt;</th><th scope=col>&lt;int&gt;</th><th scope=col>&lt;dbl&gt;</th><th scope=col>&lt;dbl&gt;</th></tr>\n",
              "</thead>\n",
              "<tbody>\n",
              "\t<tr><td>Afghanistan</td><td>1999</td><td>   745</td><td>  19987071</td></tr>\n",
              "\t<tr><td>Afghanistan</td><td>2000</td><td>  2666</td><td>  20595360</td></tr>\n",
              "\t<tr><td>Brazil     </td><td>1999</td><td> 37737</td><td> 172006362</td></tr>\n",
              "\t<tr><td>Brazil     </td><td>2000</td><td> 80488</td><td> 174504898</td></tr>\n",
              "\t<tr><td>China      </td><td>1999</td><td>212258</td><td>1272915272</td></tr>\n",
              "\t<tr><td>China      </td><td>2000</td><td>213766</td><td>1280428583</td></tr>\n",
              "</tbody>\n",
              "</table>\n"
            ]
          },
          "metadata": {
            "tags": []
          }
        }
      ]
    },
    {
      "cell_type": "markdown",
      "metadata": {
        "id": "rcwEYGt7NwG_"
      },
      "source": [
        "## unite()\n",
        "\n",
        "Single variable is spread across multiple columns\n",
        "- 연산자를 이용해 새로운 컬럼 생성"
      ]
    },
    {
      "cell_type": "code",
      "metadata": {
        "id": "YUwleQUMN8sm",
        "colab": {
          "base_uri": "https://localhost:8080/",
          "height": 271
        },
        "outputId": "470da4c5-81e0-4c04-b3ca-3aed4c9984f8"
      },
      "source": [
        "table5"
      ],
      "execution_count": 19,
      "outputs": [
        {
          "output_type": "display_data",
          "data": {
            "text/plain": [
              "  country     century year rate             \n",
              "1 Afghanistan 19      99   745/19987071     \n",
              "2 Afghanistan 20      00   2666/20595360    \n",
              "3 Brazil      19      99   37737/172006362  \n",
              "4 Brazil      20      00   80488/174504898  \n",
              "5 China       19      99   212258/1272915272\n",
              "6 China       20      00   213766/1280428583"
            ],
            "text/latex": "A tibble: 6 × 4\n\\begin{tabular}{r|llll}\n  & country & century & year & rate\\\\\n  & <chr> & <chr> & <chr> & <chr>\\\\\n\\hline\n\t1 & Afghanistan & 19 & 99 & 745/19987071     \\\\\n\t2 & Afghanistan & 20 & 00 & 2666/20595360    \\\\\n\t3 & Brazil      & 19 & 99 & 37737/172006362  \\\\\n\t4 & Brazil      & 20 & 00 & 80488/174504898  \\\\\n\t5 & China       & 19 & 99 & 212258/1272915272\\\\\n\t6 & China       & 20 & 00 & 213766/1280428583\\\\\n\\end{tabular}\n",
            "text/markdown": "\nA tibble: 6 × 4\n\n| <!--/--> | country &lt;chr&gt; | century &lt;chr&gt; | year &lt;chr&gt; | rate &lt;chr&gt; |\n|---|---|---|---|---|\n| 1 | Afghanistan | 19 | 99 | 745/19987071      |\n| 2 | Afghanistan | 20 | 00 | 2666/20595360     |\n| 3 | Brazil      | 19 | 99 | 37737/172006362   |\n| 4 | Brazil      | 20 | 00 | 80488/174504898   |\n| 5 | China       | 19 | 99 | 212258/1272915272 |\n| 6 | China       | 20 | 00 | 213766/1280428583 |\n\n",
            "text/html": [
              "<table class=\"dataframe\">\n",
              "<caption>A tibble: 6 × 4</caption>\n",
              "<thead>\n",
              "\t<tr><th></th><th scope=col>country</th><th scope=col>century</th><th scope=col>year</th><th scope=col>rate</th></tr>\n",
              "\t<tr><th></th><th scope=col>&lt;chr&gt;</th><th scope=col>&lt;chr&gt;</th><th scope=col>&lt;chr&gt;</th><th scope=col>&lt;chr&gt;</th></tr>\n",
              "</thead>\n",
              "<tbody>\n",
              "\t<tr><th scope=row>1</th><td>Afghanistan</td><td>19</td><td>99</td><td>745/19987071     </td></tr>\n",
              "\t<tr><th scope=row>2</th><td>Afghanistan</td><td>20</td><td>00</td><td>2666/20595360    </td></tr>\n",
              "\t<tr><th scope=row>3</th><td>Brazil     </td><td>19</td><td>99</td><td>37737/172006362  </td></tr>\n",
              "\t<tr><th scope=row>4</th><td>Brazil     </td><td>20</td><td>00</td><td>80488/174504898  </td></tr>\n",
              "\t<tr><th scope=row>5</th><td>China      </td><td>19</td><td>99</td><td>212258/1272915272</td></tr>\n",
              "\t<tr><th scope=row>6</th><td>China      </td><td>20</td><td>00</td><td>213766/1280428583</td></tr>\n",
              "</tbody>\n",
              "</table>\n"
            ]
          },
          "metadata": {
            "tags": []
          }
        }
      ]
    },
    {
      "cell_type": "code",
      "metadata": {
        "id": "wn5qgG30N8gs",
        "colab": {
          "base_uri": "https://localhost:8080/",
          "height": 271
        },
        "outputId": "8433a322-e9b0-4753-d0ae-ea1867a13173"
      },
      "source": [
        "table5 %>% \n",
        "#new라는 컬럼 생성: century, year 합침(공백x)\n",
        "  unite(new, century, year, sep = \"\")\n"
      ],
      "execution_count": null,
      "outputs": [
        {
          "output_type": "display_data",
          "data": {
            "text/plain": [
              "  country     new  rate             \n",
              "1 Afghanistan 1999 745/19987071     \n",
              "2 Afghanistan 2000 2666/20595360    \n",
              "3 Brazil      1999 37737/172006362  \n",
              "4 Brazil      2000 80488/174504898  \n",
              "5 China       1999 212258/1272915272\n",
              "6 China       2000 213766/1280428583"
            ],
            "text/latex": "A tibble: 6 × 3\n\\begin{tabular}{lll}\n country & new & rate\\\\\n <chr> & <chr> & <chr>\\\\\n\\hline\n\t Afghanistan & 1999 & 745/19987071     \\\\\n\t Afghanistan & 2000 & 2666/20595360    \\\\\n\t Brazil      & 1999 & 37737/172006362  \\\\\n\t Brazil      & 2000 & 80488/174504898  \\\\\n\t China       & 1999 & 212258/1272915272\\\\\n\t China       & 2000 & 213766/1280428583\\\\\n\\end{tabular}\n",
            "text/markdown": "\nA tibble: 6 × 3\n\n| country &lt;chr&gt; | new &lt;chr&gt; | rate &lt;chr&gt; |\n|---|---|---|\n| Afghanistan | 1999 | 745/19987071      |\n| Afghanistan | 2000 | 2666/20595360     |\n| Brazil      | 1999 | 37737/172006362   |\n| Brazil      | 2000 | 80488/174504898   |\n| China       | 1999 | 212258/1272915272 |\n| China       | 2000 | 213766/1280428583 |\n\n",
            "text/html": [
              "<table class=\"dataframe\">\n",
              "<caption>A tibble: 6 × 3</caption>\n",
              "<thead>\n",
              "\t<tr><th scope=col>country</th><th scope=col>new</th><th scope=col>rate</th></tr>\n",
              "\t<tr><th scope=col>&lt;chr&gt;</th><th scope=col>&lt;chr&gt;</th><th scope=col>&lt;chr&gt;</th></tr>\n",
              "</thead>\n",
              "<tbody>\n",
              "\t<tr><td>Afghanistan</td><td>1999</td><td>745/19987071     </td></tr>\n",
              "\t<tr><td>Afghanistan</td><td>2000</td><td>2666/20595360    </td></tr>\n",
              "\t<tr><td>Brazil     </td><td>1999</td><td>37737/172006362  </td></tr>\n",
              "\t<tr><td>Brazil     </td><td>2000</td><td>80488/174504898  </td></tr>\n",
              "\t<tr><td>China      </td><td>1999</td><td>212258/1272915272</td></tr>\n",
              "\t<tr><td>China      </td><td>2000</td><td>213766/1280428583</td></tr>\n",
              "</tbody>\n",
              "</table>\n"
            ]
          },
          "metadata": {
            "tags": []
          }
        }
      ]
    },
    {
      "cell_type": "code",
      "metadata": {
        "colab": {
          "base_uri": "https://localhost:8080/",
          "height": 271
        },
        "id": "WXO506QZcMsQ",
        "outputId": "b0005a47-d23f-44e7-8c9c-165ba7120dcc"
      },
      "source": [
        "table5 %>% \n",
        "#new라는 컬럼 생성: century, year 합침(문자 *로 연결)\n",
        "  unite(new, century, year, sep = \"*\")"
      ],
      "execution_count": 20,
      "outputs": [
        {
          "output_type": "display_data",
          "data": {
            "text/plain": [
              "  country     new   rate             \n",
              "1 Afghanistan 19*99 745/19987071     \n",
              "2 Afghanistan 20*00 2666/20595360    \n",
              "3 Brazil      19*99 37737/172006362  \n",
              "4 Brazil      20*00 80488/174504898  \n",
              "5 China       19*99 212258/1272915272\n",
              "6 China       20*00 213766/1280428583"
            ],
            "text/latex": "A tibble: 6 × 3\n\\begin{tabular}{lll}\n country & new & rate\\\\\n <chr> & <chr> & <chr>\\\\\n\\hline\n\t Afghanistan & 19*99 & 745/19987071     \\\\\n\t Afghanistan & 20*00 & 2666/20595360    \\\\\n\t Brazil      & 19*99 & 37737/172006362  \\\\\n\t Brazil      & 20*00 & 80488/174504898  \\\\\n\t China       & 19*99 & 212258/1272915272\\\\\n\t China       & 20*00 & 213766/1280428583\\\\\n\\end{tabular}\n",
            "text/markdown": "\nA tibble: 6 × 3\n\n| country &lt;chr&gt; | new &lt;chr&gt; | rate &lt;chr&gt; |\n|---|---|---|\n| Afghanistan | 19*99 | 745/19987071      |\n| Afghanistan | 20*00 | 2666/20595360     |\n| Brazil      | 19*99 | 37737/172006362   |\n| Brazil      | 20*00 | 80488/174504898   |\n| China       | 19*99 | 212258/1272915272 |\n| China       | 20*00 | 213766/1280428583 |\n\n",
            "text/html": [
              "<table class=\"dataframe\">\n",
              "<caption>A tibble: 6 × 3</caption>\n",
              "<thead>\n",
              "\t<tr><th scope=col>country</th><th scope=col>new</th><th scope=col>rate</th></tr>\n",
              "\t<tr><th scope=col>&lt;chr&gt;</th><th scope=col>&lt;chr&gt;</th><th scope=col>&lt;chr&gt;</th></tr>\n",
              "</thead>\n",
              "<tbody>\n",
              "\t<tr><td>Afghanistan</td><td>19*99</td><td>745/19987071     </td></tr>\n",
              "\t<tr><td>Afghanistan</td><td>20*00</td><td>2666/20595360    </td></tr>\n",
              "\t<tr><td>Brazil     </td><td>19*99</td><td>37737/172006362  </td></tr>\n",
              "\t<tr><td>Brazil     </td><td>20*00</td><td>80488/174504898  </td></tr>\n",
              "\t<tr><td>China      </td><td>19*99</td><td>212258/1272915272</td></tr>\n",
              "\t<tr><td>China      </td><td>20*00</td><td>213766/1280428583</td></tr>\n",
              "</tbody>\n",
              "</table>\n"
            ]
          },
          "metadata": {
            "tags": []
          }
        }
      ]
    },
    {
      "cell_type": "markdown",
      "metadata": {
        "id": "-nwDA6IOOHp9"
      },
      "source": [
        "# Functional Programming"
      ]
    },
    {
      "cell_type": "code",
      "metadata": {
        "id": "Iav7G1uXODrT",
        "colab": {
          "base_uri": "https://localhost:8080/",
          "height": 390
        },
        "outputId": "f9254f36-af55-41fb-bfc4-e309f2716f37"
      },
      "source": [
        "df <- tibble(\n",
        "  a = rnorm(10),\n",
        "  b = rnorm(10),\n",
        "  c = rnorm(10),\n",
        "  d = rnorm(10)\n",
        ")\n",
        "df"
      ],
      "execution_count": 21,
      "outputs": [
        {
          "output_type": "display_data",
          "data": {
            "text/plain": [
              "   a          b          c           d         \n",
              "1  -1.2710413 -0.8580704 -0.63617056 -1.8304846\n",
              "2   0.8198179  0.6045496 -0.74747900 -1.1758803\n",
              "3  -0.2939266 -1.5919547  0.61410495 -0.3162020\n",
              "4  -1.4957052  0.8565168  0.44786004 -0.7330805\n",
              "5   0.2819272  0.4436678  1.96203322  0.2403147\n",
              "6   0.3886581 -1.0889072 -0.06204528  1.3579924\n",
              "7   0.3762756 -0.6888189  1.09930841 -0.9932850\n",
              "8  -1.0285255  1.4737447 -0.09906372  0.4972906\n",
              "9   0.6878300 -0.1342204 -0.65498938 -0.7963976\n",
              "10  0.4330806 -0.5795670 -0.58323508 -0.8131303"
            ],
            "text/latex": "A tibble: 10 × 4\n\\begin{tabular}{llll}\n a & b & c & d\\\\\n <dbl> & <dbl> & <dbl> & <dbl>\\\\\n\\hline\n\t -1.2710413 & -0.8580704 & -0.63617056 & -1.8304846\\\\\n\t  0.8198179 &  0.6045496 & -0.74747900 & -1.1758803\\\\\n\t -0.2939266 & -1.5919547 &  0.61410495 & -0.3162020\\\\\n\t -1.4957052 &  0.8565168 &  0.44786004 & -0.7330805\\\\\n\t  0.2819272 &  0.4436678 &  1.96203322 &  0.2403147\\\\\n\t  0.3886581 & -1.0889072 & -0.06204528 &  1.3579924\\\\\n\t  0.3762756 & -0.6888189 &  1.09930841 & -0.9932850\\\\\n\t -1.0285255 &  1.4737447 & -0.09906372 &  0.4972906\\\\\n\t  0.6878300 & -0.1342204 & -0.65498938 & -0.7963976\\\\\n\t  0.4330806 & -0.5795670 & -0.58323508 & -0.8131303\\\\\n\\end{tabular}\n",
            "text/markdown": "\nA tibble: 10 × 4\n\n| a &lt;dbl&gt; | b &lt;dbl&gt; | c &lt;dbl&gt; | d &lt;dbl&gt; |\n|---|---|---|---|\n| -1.2710413 | -0.8580704 | -0.63617056 | -1.8304846 |\n|  0.8198179 |  0.6045496 | -0.74747900 | -1.1758803 |\n| -0.2939266 | -1.5919547 |  0.61410495 | -0.3162020 |\n| -1.4957052 |  0.8565168 |  0.44786004 | -0.7330805 |\n|  0.2819272 |  0.4436678 |  1.96203322 |  0.2403147 |\n|  0.3886581 | -1.0889072 | -0.06204528 |  1.3579924 |\n|  0.3762756 | -0.6888189 |  1.09930841 | -0.9932850 |\n| -1.0285255 |  1.4737447 | -0.09906372 |  0.4972906 |\n|  0.6878300 | -0.1342204 | -0.65498938 | -0.7963976 |\n|  0.4330806 | -0.5795670 | -0.58323508 | -0.8131303 |\n\n",
            "text/html": [
              "<table class=\"dataframe\">\n",
              "<caption>A tibble: 10 × 4</caption>\n",
              "<thead>\n",
              "\t<tr><th scope=col>a</th><th scope=col>b</th><th scope=col>c</th><th scope=col>d</th></tr>\n",
              "\t<tr><th scope=col>&lt;dbl&gt;</th><th scope=col>&lt;dbl&gt;</th><th scope=col>&lt;dbl&gt;</th><th scope=col>&lt;dbl&gt;</th></tr>\n",
              "</thead>\n",
              "<tbody>\n",
              "\t<tr><td>-1.2710413</td><td>-0.8580704</td><td>-0.63617056</td><td>-1.8304846</td></tr>\n",
              "\t<tr><td> 0.8198179</td><td> 0.6045496</td><td>-0.74747900</td><td>-1.1758803</td></tr>\n",
              "\t<tr><td>-0.2939266</td><td>-1.5919547</td><td> 0.61410495</td><td>-0.3162020</td></tr>\n",
              "\t<tr><td>-1.4957052</td><td> 0.8565168</td><td> 0.44786004</td><td>-0.7330805</td></tr>\n",
              "\t<tr><td> 0.2819272</td><td> 0.4436678</td><td> 1.96203322</td><td> 0.2403147</td></tr>\n",
              "\t<tr><td> 0.3886581</td><td>-1.0889072</td><td>-0.06204528</td><td> 1.3579924</td></tr>\n",
              "\t<tr><td> 0.3762756</td><td>-0.6888189</td><td> 1.09930841</td><td>-0.9932850</td></tr>\n",
              "\t<tr><td>-1.0285255</td><td> 1.4737447</td><td>-0.09906372</td><td> 0.4972906</td></tr>\n",
              "\t<tr><td> 0.6878300</td><td>-0.1342204</td><td>-0.65498938</td><td>-0.7963976</td></tr>\n",
              "\t<tr><td> 0.4330806</td><td>-0.5795670</td><td>-0.58323508</td><td>-0.8131303</td></tr>\n",
              "</tbody>\n",
              "</table>\n"
            ]
          },
          "metadata": {
            "tags": []
          }
        }
      ]
    },
    {
      "cell_type": "code",
      "metadata": {
        "id": "7VSOl_mgODcd",
        "colab": {
          "base_uri": "https://localhost:8080/",
          "height": 84
        },
        "outputId": "2e50a4ce-58dd-45c0-ace7-4e7b2dda564a"
      },
      "source": [
        "median(df$a)\n",
        "#> [1] -0.2457625\n",
        "median(df$b)\n",
        "#> [1] -0.2873072\n",
        "median(df$c)\n",
        "#> [1] -0.05669771\n",
        "median(df$d)\n",
        "#> [1] 0.1442633"
      ],
      "execution_count": 22,
      "outputs": [
        {
          "output_type": "display_data",
          "data": {
            "text/plain": [
              "[1] 0.3291014"
            ],
            "text/latex": "0.329101429994063",
            "text/markdown": "0.329101429994063",
            "text/html": [
              "0.329101429994063"
            ]
          },
          "metadata": {
            "tags": []
          }
        },
        {
          "output_type": "display_data",
          "data": {
            "text/plain": [
              "[1] -0.3568937"
            ],
            "text/latex": "-0.356893710654944",
            "text/markdown": "-0.356893710654944",
            "text/html": [
              "-0.356893710654944"
            ]
          },
          "metadata": {
            "tags": []
          }
        },
        {
          "output_type": "display_data",
          "data": {
            "text/plain": [
              "[1] -0.0805545"
            ],
            "text/latex": "-0.0805545022560856",
            "text/markdown": "-0.0805545022560856",
            "text/html": [
              "-0.0805545022560856"
            ]
          },
          "metadata": {
            "tags": []
          }
        },
        {
          "output_type": "display_data",
          "data": {
            "text/plain": [
              "[1] -0.7647391"
            ],
            "text/latex": "-0.764739078465709",
            "text/markdown": "-0.764739078465709",
            "text/html": [
              "-0.764739078465709"
            ]
          },
          "metadata": {
            "tags": []
          }
        }
      ]
    },
    {
      "cell_type": "markdown",
      "metadata": {
        "id": "h6sbfW2BOYtb"
      },
      "source": [
        "### for loop 이용\n",
        "-  df의 각 열별 중위값을 넣은 output 벡터 만들기\n"
      ]
    },
    {
      "cell_type": "code",
      "metadata": {
        "colab": {
          "base_uri": "https://localhost:8080/",
          "height": 34
        },
        "id": "vqDCAMO7eubY",
        "outputId": "891e479e-c575-4cb4-b43c-9ac0cae1c923"
      },
      "source": [
        "output <- vector(\"double\", ncol(df))\n",
        "output"
      ],
      "execution_count": 33,
      "outputs": [
        {
          "output_type": "display_data",
          "data": {
            "text/plain": [
              "[1] 0 0 0 0"
            ],
            "text/latex": "\\begin{enumerate*}\n\\item 0\n\\item 0\n\\item 0\n\\item 0\n\\end{enumerate*}\n",
            "text/markdown": "1. 0\n2. 0\n3. 0\n4. 0\n\n\n",
            "text/html": [
              "<style>\n",
              ".list-inline {list-style: none; margin:0; padding: 0}\n",
              ".list-inline>li {display: inline-block}\n",
              ".list-inline>li:not(:last-child)::after {content: \"\\00b7\"; padding: 0 .5ex}\n",
              "</style>\n",
              "<ol class=list-inline><li>0</li><li>0</li><li>0</li><li>0</li></ol>\n"
            ]
          },
          "metadata": {
            "tags": []
          }
        }
      ]
    },
    {
      "cell_type": "code",
      "metadata": {
        "id": "8GlTKYa0ODPD",
        "colab": {
          "base_uri": "https://localhost:8080/",
          "height": 34
        },
        "outputId": "fe0864d6-f362-43e1-ab88-083b529f8fe5"
      },
      "source": [
        "output <- vector(\"double\", ncol(df))  # 1. output(df의 컬럼 수만큼 있음. 여기선 4)\n",
        "for (i in 1:ncol(df)) {            # 2. sequence\n",
        "  output[[i]] <- median(df[[i]])      # 3. body\n",
        "}\n",
        "\n",
        "output"
      ],
      "execution_count": 28,
      "outputs": [
        {
          "output_type": "display_data",
          "data": {
            "text/plain": [
              "[1]  0.3291014 -0.3568937 -0.0805545 -0.7647391"
            ],
            "text/latex": "\\begin{enumerate*}\n\\item 0.329101429994063\n\\item -0.356893710654944\n\\item -0.0805545022560856\n\\item -0.764739078465709\n\\end{enumerate*}\n",
            "text/markdown": "1. 0.329101429994063\n2. -0.356893710654944\n3. -0.0805545022560856\n4. -0.764739078465709\n\n\n",
            "text/html": [
              "<style>\n",
              ".list-inline {list-style: none; margin:0; padding: 0}\n",
              ".list-inline>li {display: inline-block}\n",
              ".list-inline>li:not(:last-child)::after {content: \"\\00b7\"; padding: 0 .5ex}\n",
              "</style>\n",
              "<ol class=list-inline><li>0.329101429994063</li><li>-0.356893710654944</li><li>-0.0805545022560856</li><li>-0.764739078465709</li></ol>\n"
            ]
          },
          "metadata": {
            "tags": []
          }
        }
      ]
    },
    {
      "cell_type": "code",
      "metadata": {
        "colab": {
          "base_uri": "https://localhost:8080/",
          "height": 34
        },
        "id": "afIWhGUseUV4",
        "outputId": "c4455ec5-5a2b-4b12-dac4-4898d904ddb9"
      },
      "source": [
        "class(output)"
      ],
      "execution_count": 30,
      "outputs": [
        {
          "output_type": "display_data",
          "data": {
            "text/plain": [
              "[1] \"numeric\""
            ],
            "text/latex": "'numeric'",
            "text/markdown": "'numeric'",
            "text/html": [
              "'numeric'"
            ]
          },
          "metadata": {
            "tags": []
          }
        }
      ]
    },
    {
      "cell_type": "code",
      "metadata": {
        "id": "AGLJM4dTOnxI",
        "colab": {
          "base_uri": "https://localhost:8080/",
          "height": 34
        },
        "outputId": "beb77560-5645-4bab-fa93-51fc1ba887a3"
      },
      "source": [
        "## c를 사용하는 건 시간이 오래걸려서 비추천 ##\n",
        "output <- c() #그냥 이렇게 기본형태 만들어도 됨.\n",
        "for (i in seq_along(df)) {            # 2. sequence\n",
        "  output <- c( output, median(df[[i]]) )      # 3. body\n",
        "}\n",
        "output\n"
      ],
      "execution_count": 31,
      "outputs": [
        {
          "output_type": "display_data",
          "data": {
            "text/plain": [
              "[1]  0.3291014 -0.3568937 -0.0805545 -0.7647391"
            ],
            "text/latex": "\\begin{enumerate*}\n\\item 0.329101429994063\n\\item -0.356893710654944\n\\item -0.0805545022560856\n\\item -0.764739078465709\n\\end{enumerate*}\n",
            "text/markdown": "1. 0.329101429994063\n2. -0.356893710654944\n3. -0.0805545022560856\n4. -0.764739078465709\n\n\n",
            "text/html": [
              "<style>\n",
              ".list-inline {list-style: none; margin:0; padding: 0}\n",
              ".list-inline>li {display: inline-block}\n",
              ".list-inline>li:not(:last-child)::after {content: \"\\00b7\"; padding: 0 .5ex}\n",
              "</style>\n",
              "<ol class=list-inline><li>0.329101429994063</li><li>-0.356893710654944</li><li>-0.0805545022560856</li><li>-0.764739078465709</li></ol>\n"
            ]
          },
          "metadata": {
            "tags": []
          }
        }
      ]
    },
    {
      "cell_type": "code",
      "metadata": {
        "id": "Pg0qclI4Onkm",
        "colab": {
          "base_uri": "https://localhost:8080/"
        },
        "outputId": "674e138d-3973-41f2-b98c-b8bbba740eb6"
      },
      "source": [
        "install.packages(\"rbenchmark\")\n",
        "library(rbenchmark)"
      ],
      "execution_count": 32,
      "outputs": [
        {
          "output_type": "stream",
          "text": [
            "Installing package into ‘/usr/local/lib/R/site-library’\n",
            "(as ‘lib’ is unspecified)\n",
            "\n"
          ],
          "name": "stderr"
        }
      ]
    },
    {
      "cell_type": "markdown",
      "metadata": {
        "id": "JUzNpx5De8Wt"
      },
      "source": [
        "#### 직접 function 만들기"
      ]
    },
    {
      "cell_type": "code",
      "metadata": {
        "id": "V7yYUKwmOnYF"
      },
      "source": [
        "#두 함수는 같은 기능\n",
        "simple1 <- function(n) {\n",
        "  output <- vector(\"double\", n)\n",
        "  for(i in 1:n) \n",
        "    output[i] = i\n",
        "  return(output)\n",
        "} \n",
        "\n",
        "simple2 <- function(n) {\n",
        "  output <- c()\n",
        "  for(i in 1:n) \n",
        "    output = c(output, i)\n",
        "  return(output)\n",
        "} \n"
      ],
      "execution_count": 34,
      "outputs": []
    },
    {
      "cell_type": "code",
      "metadata": {
        "id": "XlX9cKoiOnLT",
        "colab": {
          "base_uri": "https://localhost:8080/",
          "height": 34
        },
        "outputId": "06ba0f72-ce76-4c47-bdfb-f7a2db8c8611"
      },
      "source": [
        "simple1(10)"
      ],
      "execution_count": 37,
      "outputs": [
        {
          "output_type": "display_data",
          "data": {
            "text/plain": [
              " [1]  1  2  3  4  5  6  7  8  9 10"
            ],
            "text/latex": "\\begin{enumerate*}\n\\item 1\n\\item 2\n\\item 3\n\\item 4\n\\item 5\n\\item 6\n\\item 7\n\\item 8\n\\item 9\n\\item 10\n\\end{enumerate*}\n",
            "text/markdown": "1. 1\n2. 2\n3. 3\n4. 4\n5. 5\n6. 6\n7. 7\n8. 8\n9. 9\n10. 10\n\n\n",
            "text/html": [
              "<style>\n",
              ".list-inline {list-style: none; margin:0; padding: 0}\n",
              ".list-inline>li {display: inline-block}\n",
              ".list-inline>li:not(:last-child)::after {content: \"\\00b7\"; padding: 0 .5ex}\n",
              "</style>\n",
              "<ol class=list-inline><li>1</li><li>2</li><li>3</li><li>4</li><li>5</li><li>6</li><li>7</li><li>8</li><li>9</li><li>10</li></ol>\n"
            ]
          },
          "metadata": {
            "tags": []
          }
        }
      ]
    },
    {
      "cell_type": "code",
      "metadata": {
        "id": "zqTIyo1ZPuMH",
        "colab": {
          "base_uri": "https://localhost:8080/",
          "height": 34
        },
        "outputId": "d9c2783d-55b5-400b-ab1c-922ce65a543d"
      },
      "source": [
        "simple2(3)"
      ],
      "execution_count": 36,
      "outputs": [
        {
          "output_type": "display_data",
          "data": {
            "text/plain": [
              "[1] 1 2 3"
            ],
            "text/latex": "\\begin{enumerate*}\n\\item 1\n\\item 2\n\\item 3\n\\end{enumerate*}\n",
            "text/markdown": "1. 1\n2. 2\n3. 3\n\n\n",
            "text/html": [
              "<style>\n",
              ".list-inline {list-style: none; margin:0; padding: 0}\n",
              ".list-inline>li {display: inline-block}\n",
              ".list-inline>li:not(:last-child)::after {content: \"\\00b7\"; padding: 0 .5ex}\n",
              "</style>\n",
              "<ol class=list-inline><li>1</li><li>2</li><li>3</li></ol>\n"
            ]
          },
          "metadata": {
            "tags": []
          }
        }
      ]
    },
    {
      "cell_type": "code",
      "metadata": {
        "id": "MVBXWP7vPuHh",
        "colab": {
          "base_uri": "https://localhost:8080/",
          "height": 153
        },
        "outputId": "84f5d652-31bc-445c-f187-dc5e1aa2859a"
      },
      "source": [
        "benchmark(\"fc1\"=simple1(1000),\n",
        "          \"fc2\"=simple2(1000),\n",
        "          replications=100,\n",
        "          columns=c('test', 'elapsed', 'replications'))\n",
        "          ## 결과를 보면 시간이 fc1이 훨씬 더 빠름. 그래서 fc2처럼 c()를 이용해서 만드는 건 비효율적임"
      ],
      "execution_count": 38,
      "outputs": [
        {
          "output_type": "display_data",
          "data": {
            "text/plain": [
              "  test elapsed replications\n",
              "1 fc1  0.006   100         \n",
              "2 fc2  0.211   100         "
            ],
            "text/latex": "A data.frame: 2 × 3\n\\begin{tabular}{r|lll}\n  & test & elapsed & replications\\\\\n  & <chr> & <dbl> & <int>\\\\\n\\hline\n\t1 & fc1 & 0.006 & 100\\\\\n\t2 & fc2 & 0.211 & 100\\\\\n\\end{tabular}\n",
            "text/markdown": "\nA data.frame: 2 × 3\n\n| <!--/--> | test &lt;chr&gt; | elapsed &lt;dbl&gt; | replications &lt;int&gt; |\n|---|---|---|---|\n| 1 | fc1 | 0.006 | 100 |\n| 2 | fc2 | 0.211 | 100 |\n\n",
            "text/html": [
              "<table class=\"dataframe\">\n",
              "<caption>A data.frame: 2 × 3</caption>\n",
              "<thead>\n",
              "\t<tr><th></th><th scope=col>test</th><th scope=col>elapsed</th><th scope=col>replications</th></tr>\n",
              "\t<tr><th></th><th scope=col>&lt;chr&gt;</th><th scope=col>&lt;dbl&gt;</th><th scope=col>&lt;int&gt;</th></tr>\n",
              "</thead>\n",
              "<tbody>\n",
              "\t<tr><th scope=row>1</th><td>fc1</td><td>0.006</td><td>100</td></tr>\n",
              "\t<tr><th scope=row>2</th><td>fc2</td><td>0.211</td><td>100</td></tr>\n",
              "</tbody>\n",
              "</table>\n"
            ]
          },
          "metadata": {
            "tags": []
          }
        }
      ]
    },
    {
      "cell_type": "markdown",
      "metadata": {
        "id": "WrlRNlaqRY9_"
      },
      "source": [
        "## for_loops vs functional\n",
        "\n",
        "Possible to wrap up for loops in a function\n"
      ]
    },
    {
      "cell_type": "code",
      "metadata": {
        "id": "X5Tgr73_ROJ9",
        "colab": {
          "base_uri": "https://localhost:8080/",
          "height": 34
        },
        "outputId": "8ee408bf-3ec3-4aab-bca4-95a183e73828"
      },
      "source": [
        "col_mean <- function(df) {\n",
        "  output <- vector(\"double\", ncol(df)) \n",
        "  for (i in seq_along(df)) {\n",
        "    output[[i]] <- mean(df[[i]])\n",
        "  }\n",
        "  output\n",
        "}\n",
        "\n",
        "col_median <- function(df) {\n",
        "  output <- vector(\"double\", ncol(df)) \n",
        "  for (i in seq_along(df)) {\n",
        "    output[[i]] <- median(df[[i]])\n",
        "  }\n",
        "  output\n",
        "}\n",
        "\n",
        "col_sd <- function(df) {\n",
        "  output <- vector(\"double\", ncol(df)) \n",
        "  for (i in seq_along(df)) {\n",
        "    output[[i]] <- sd(df[[i]])\n",
        "  }\n",
        "  output\n",
        "}\n",
        "\n",
        "col_mean(df)"
      ],
      "execution_count": null,
      "outputs": [
        {
          "output_type": "display_data",
          "data": {
            "text/plain": [
              "[1] -0.084639104 -0.002400303 -0.030917685 -0.083247511"
            ],
            "text/latex": "\\begin{enumerate*}\n\\item -0.0846391036597818\n\\item -0.00240030324052032\n\\item -0.0309176854543395\n\\item -0.0832475108396539\n\\end{enumerate*}\n",
            "text/markdown": "1. -0.0846391036597818\n2. -0.00240030324052032\n3. -0.0309176854543395\n4. -0.0832475108396539\n\n\n",
            "text/html": [
              "<style>\n",
              ".list-inline {list-style: none; margin:0; padding: 0}\n",
              ".list-inline>li {display: inline-block}\n",
              ".list-inline>li:not(:last-child)::after {content: \"\\00b7\"; padding: 0 .5ex}\n",
              "</style>\n",
              "<ol class=list-inline><li>-0.0846391036597818</li><li>-0.00240030324052032</li><li>-0.0309176854543395</li><li>-0.0832475108396539</li></ol>\n"
            ]
          },
          "metadata": {
            "tags": []
          }
        }
      ]
    },
    {
      "cell_type": "markdown",
      "metadata": {
        "id": "l74rc-m5Rx1G"
      },
      "source": [
        "You can make function as a variable"
      ]
    },
    {
      "cell_type": "code",
      "metadata": {
        "id": "2Q7gR6NZRN8g",
        "colab": {
          "base_uri": "https://localhost:8080/",
          "height": 34
        },
        "outputId": "32ea6d60-5932-47bf-85a5-143903098785"
      },
      "source": [
        "col_summary <- function(df, fun) {\n",
        "  out <- vector(\"double\", length(df))\n",
        "  for (i in seq_along(df)) {\n",
        "    out[i] <- fun(df[[i]])\n",
        "  }\n",
        "  out\n",
        "}\n",
        "col_summary(df, median)\n"
      ],
      "execution_count": null,
      "outputs": [
        {
          "output_type": "display_data",
          "data": {
            "text/plain": [
              "[1]  0.42390995  0.02690741 -0.08069307  0.04684442"
            ],
            "text/latex": "\\begin{enumerate*}\n\\item 0.423909950150083\n\\item 0.0269074082896925\n\\item -0.0806930728782541\n\\item 0.0468444173239768\n\\end{enumerate*}\n",
            "text/markdown": "1. 0.423909950150083\n2. 0.0269074082896925\n3. -0.0806930728782541\n4. 0.0468444173239768\n\n\n",
            "text/html": [
              "<style>\n",
              ".list-inline {list-style: none; margin:0; padding: 0}\n",
              ".list-inline>li {display: inline-block}\n",
              ".list-inline>li:not(:last-child)::after {content: \"\\00b7\"; padding: 0 .5ex}\n",
              "</style>\n",
              "<ol class=list-inline><li>0.423909950150083</li><li>0.0269074082896925</li><li>-0.0806930728782541</li><li>0.0468444173239768</li></ol>\n"
            ]
          },
          "metadata": {
            "tags": []
          }
        }
      ]
    },
    {
      "cell_type": "markdown",
      "metadata": {
        "id": "LrExb-kvR4LJ"
      },
      "source": [
        "## The map function (purrr)\n",
        "\n",
        "the purrr package provides a family of functions for looping patterns over a vector\n",
        "\n",
        "remind apply()"
      ]
    },
    {
      "cell_type": "code",
      "metadata": {
        "id": "Xn_9vUMJSRLU",
        "colab": {
          "base_uri": "https://localhost:8080/"
        },
        "outputId": "8a51b258-6f35-4300-c595-b2cfb09c0224"
      },
      "source": [
        "str(df)"
      ],
      "execution_count": 39,
      "outputs": [
        {
          "output_type": "stream",
          "text": [
            "tibble [10 × 4] (S3: tbl_df/tbl/data.frame)\n",
            " $ a: num [1:10] -1.271 0.82 -0.294 -1.496 0.282 ...\n",
            " $ b: num [1:10] -0.858 0.605 -1.592 0.857 0.444 ...\n",
            " $ c: num [1:10] -0.636 -0.747 0.614 0.448 1.962 ...\n",
            " $ d: num [1:10] -1.83 -1.176 -0.316 -0.733 0.24 ...\n"
          ],
          "name": "stdout"
        }
      ]
    },
    {
      "cell_type": "code",
      "metadata": {
        "id": "fH1NXXsZPuD8",
        "colab": {
          "base_uri": "https://localhost:8080/",
          "height": 50
        },
        "outputId": "7e066289-280e-4516-ec65-6f928bbfbf4d"
      },
      "source": [
        "#각 컬럼별 mean\n",
        "df %>% map_dbl(mean)"
      ],
      "execution_count": 40,
      "outputs": [
        {
          "output_type": "display_data",
          "data": {
            "text/plain": [
              "         a          b          c          d \n",
              "-0.1101609 -0.1563060  0.1340324 -0.4562863 "
            ],
            "text/latex": "\\begin{description*}\n\\item[a] -0.110160917883773\n\\item[b] -0.156305959604238\n\\item[c] 0.134032359749095\n\\item[d] -0.456286270584679\n\\end{description*}\n",
            "text/markdown": "a\n:   -0.110160917883773b\n:   -0.156305959604238c\n:   0.134032359749095d\n:   -0.456286270584679\n\n",
            "text/html": [
              "<style>\n",
              ".dl-inline {width: auto; margin:0; padding: 0}\n",
              ".dl-inline>dt, .dl-inline>dd {float: none; width: auto; display: inline-block}\n",
              ".dl-inline>dt::after {content: \":\\0020\"; padding-right: .5ex}\n",
              ".dl-inline>dt:not(:first-of-type) {padding-left: .5ex}\n",
              "</style><dl class=dl-inline><dt>a</dt><dd>-0.110160917883773</dd><dt>b</dt><dd>-0.156305959604238</dd><dt>c</dt><dd>0.134032359749095</dd><dt>d</dt><dd>-0.456286270584679</dd></dl>\n"
            ]
          },
          "metadata": {
            "tags": []
          }
        }
      ]
    },
    {
      "cell_type": "code",
      "metadata": {
        "id": "elT_8EcUSi3R",
        "colab": {
          "base_uri": "https://localhost:8080/",
          "height": 50
        },
        "outputId": "de4e6e9a-e821-4e0b-c802-09fe981acb7a"
      },
      "source": [
        "#각 컬럼멸 median\n",
        "df %>% map_dbl(median)\n",
        "## 이뿐만 아니라, map_dbl(function)을 써서 다양한 값을 도출가능."
      ],
      "execution_count": 41,
      "outputs": [
        {
          "output_type": "display_data",
          "data": {
            "text/plain": [
              "         a          b          c          d \n",
              " 0.3291014 -0.3568937 -0.0805545 -0.7647391 "
            ],
            "text/latex": "\\begin{description*}\n\\item[a] 0.329101429994063\n\\item[b] -0.356893710654944\n\\item[c] -0.0805545022560856\n\\item[d] -0.764739078465709\n\\end{description*}\n",
            "text/markdown": "a\n:   0.329101429994063b\n:   -0.356893710654944c\n:   -0.0805545022560856d\n:   -0.764739078465709\n\n",
            "text/html": [
              "<style>\n",
              ".dl-inline {width: auto; margin:0; padding: 0}\n",
              ".dl-inline>dt, .dl-inline>dd {float: none; width: auto; display: inline-block}\n",
              ".dl-inline>dt::after {content: \":\\0020\"; padding-right: .5ex}\n",
              ".dl-inline>dt:not(:first-of-type) {padding-left: .5ex}\n",
              "</style><dl class=dl-inline><dt>a</dt><dd>0.329101429994063</dd><dt>b</dt><dd>-0.356893710654944</dd><dt>c</dt><dd>-0.0805545022560856</dd><dt>d</dt><dd>-0.764739078465709</dd></dl>\n"
            ]
          },
          "metadata": {
            "tags": []
          }
        }
      ]
    },
    {
      "cell_type": "code",
      "metadata": {
        "colab": {
          "base_uri": "https://localhost:8080/",
          "height": 179
        },
        "id": "jaWFjrDkj3yC",
        "outputId": "fb2f2349-1671-4d86-d91d-c45f32e6a238"
      },
      "source": [
        "#각 컬럼별 mean 계산\n",
        "df %>% map(~mean(.)) #모든 컬럼에 대해(.) mean "
      ],
      "execution_count": 44,
      "outputs": [
        {
          "output_type": "display_data",
          "data": {
            "text/plain": [
              "$a\n",
              "[1] -0.1101609\n",
              "\n",
              "$b\n",
              "[1] -0.156306\n",
              "\n",
              "$c\n",
              "[1] 0.1340324\n",
              "\n",
              "$d\n",
              "[1] -0.4562863\n"
            ],
            "text/latex": "\\begin{description}\n\\item[\\$a] -0.110160917883773\n\\item[\\$b] -0.156305959604238\n\\item[\\$c] 0.134032359749095\n\\item[\\$d] -0.456286270584679\n\\end{description}\n",
            "text/markdown": "$a\n:   -0.110160917883773\n$b\n:   -0.156305959604238\n$c\n:   0.134032359749095\n$d\n:   -0.456286270584679\n\n\n",
            "text/html": [
              "<dl>\n",
              "\t<dt>$a</dt>\n",
              "\t\t<dd>-0.110160917883773</dd>\n",
              "\t<dt>$b</dt>\n",
              "\t\t<dd>-0.156305959604238</dd>\n",
              "\t<dt>$c</dt>\n",
              "\t\t<dd>0.134032359749095</dd>\n",
              "\t<dt>$d</dt>\n",
              "\t\t<dd>-0.456286270584679</dd>\n",
              "</dl>\n"
            ]
          },
          "metadata": {
            "tags": []
          }
        }
      ]
    },
    {
      "cell_type": "code",
      "metadata": {
        "colab": {
          "base_uri": "https://localhost:8080/",
          "height": 50
        },
        "id": "BBKtuc3qkad-",
        "outputId": "65891de4-f214-495f-a17f-bc67b974fe6b"
      },
      "source": [
        "df %>% map_dbl(~mean(.)) #벡터 형태 반환 "
      ],
      "execution_count": 45,
      "outputs": [
        {
          "output_type": "display_data",
          "data": {
            "text/plain": [
              "         a          b          c          d \n",
              "-0.1101609 -0.1563060  0.1340324 -0.4562863 "
            ],
            "text/latex": "\\begin{description*}\n\\item[a] -0.110160917883773\n\\item[b] -0.156305959604238\n\\item[c] 0.134032359749095\n\\item[d] -0.456286270584679\n\\end{description*}\n",
            "text/markdown": "a\n:   -0.110160917883773b\n:   -0.156305959604238c\n:   0.134032359749095d\n:   -0.456286270584679\n\n",
            "text/html": [
              "<style>\n",
              ".dl-inline {width: auto; margin:0; padding: 0}\n",
              ".dl-inline>dt, .dl-inline>dd {float: none; width: auto; display: inline-block}\n",
              ".dl-inline>dt::after {content: \":\\0020\"; padding-right: .5ex}\n",
              ".dl-inline>dt:not(:first-of-type) {padding-left: .5ex}\n",
              "</style><dl class=dl-inline><dt>a</dt><dd>-0.110160917883773</dd><dt>b</dt><dd>-0.156305959604238</dd><dt>c</dt><dd>0.134032359749095</dd><dt>d</dt><dd>-0.456286270584679</dd></dl>\n"
            ]
          },
          "metadata": {
            "tags": []
          }
        }
      ]
    },
    {
      "cell_type": "code",
      "metadata": {
        "colab": {
          "base_uri": "https://localhost:8080/",
          "height": 375
        },
        "id": "Dx3wfP7RkjaM",
        "outputId": "9afd8db6-ee8c-40d8-ed37-ff791a77702f"
      },
      "source": [
        "head(mtcars)"
      ],
      "execution_count": 46,
      "outputs": [
        {
          "output_type": "display_data",
          "data": {
            "text/plain": [
              "                  mpg  cyl disp hp  drat wt    qsec  vs am gear carb\n",
              "Mazda RX4         21.0 6   160  110 3.90 2.620 16.46 0  1  4    4   \n",
              "Mazda RX4 Wag     21.0 6   160  110 3.90 2.875 17.02 0  1  4    4   \n",
              "Datsun 710        22.8 4   108   93 3.85 2.320 18.61 1  1  4    1   \n",
              "Hornet 4 Drive    21.4 6   258  110 3.08 3.215 19.44 1  0  3    1   \n",
              "Hornet Sportabout 18.7 8   360  175 3.15 3.440 17.02 0  0  3    2   \n",
              "Valiant           18.1 6   225  105 2.76 3.460 20.22 1  0  3    1   "
            ],
            "text/latex": "A data.frame: 6 × 11\n\\begin{tabular}{r|lllllllllll}\n  & mpg & cyl & disp & hp & drat & wt & qsec & vs & am & gear & carb\\\\\n  & <dbl> & <dbl> & <dbl> & <dbl> & <dbl> & <dbl> & <dbl> & <dbl> & <dbl> & <dbl> & <dbl>\\\\\n\\hline\n\tMazda RX4 & 21.0 & 6 & 160 & 110 & 3.90 & 2.620 & 16.46 & 0 & 1 & 4 & 4\\\\\n\tMazda RX4 Wag & 21.0 & 6 & 160 & 110 & 3.90 & 2.875 & 17.02 & 0 & 1 & 4 & 4\\\\\n\tDatsun 710 & 22.8 & 4 & 108 &  93 & 3.85 & 2.320 & 18.61 & 1 & 1 & 4 & 1\\\\\n\tHornet 4 Drive & 21.4 & 6 & 258 & 110 & 3.08 & 3.215 & 19.44 & 1 & 0 & 3 & 1\\\\\n\tHornet Sportabout & 18.7 & 8 & 360 & 175 & 3.15 & 3.440 & 17.02 & 0 & 0 & 3 & 2\\\\\n\tValiant & 18.1 & 6 & 225 & 105 & 2.76 & 3.460 & 20.22 & 1 & 0 & 3 & 1\\\\\n\\end{tabular}\n",
            "text/markdown": "\nA data.frame: 6 × 11\n\n| <!--/--> | mpg &lt;dbl&gt; | cyl &lt;dbl&gt; | disp &lt;dbl&gt; | hp &lt;dbl&gt; | drat &lt;dbl&gt; | wt &lt;dbl&gt; | qsec &lt;dbl&gt; | vs &lt;dbl&gt; | am &lt;dbl&gt; | gear &lt;dbl&gt; | carb &lt;dbl&gt; |\n|---|---|---|---|---|---|---|---|---|---|---|---|\n| Mazda RX4 | 21.0 | 6 | 160 | 110 | 3.90 | 2.620 | 16.46 | 0 | 1 | 4 | 4 |\n| Mazda RX4 Wag | 21.0 | 6 | 160 | 110 | 3.90 | 2.875 | 17.02 | 0 | 1 | 4 | 4 |\n| Datsun 710 | 22.8 | 4 | 108 |  93 | 3.85 | 2.320 | 18.61 | 1 | 1 | 4 | 1 |\n| Hornet 4 Drive | 21.4 | 6 | 258 | 110 | 3.08 | 3.215 | 19.44 | 1 | 0 | 3 | 1 |\n| Hornet Sportabout | 18.7 | 8 | 360 | 175 | 3.15 | 3.440 | 17.02 | 0 | 0 | 3 | 2 |\n| Valiant | 18.1 | 6 | 225 | 105 | 2.76 | 3.460 | 20.22 | 1 | 0 | 3 | 1 |\n\n",
            "text/html": [
              "<table class=\"dataframe\">\n",
              "<caption>A data.frame: 6 × 11</caption>\n",
              "<thead>\n",
              "\t<tr><th></th><th scope=col>mpg</th><th scope=col>cyl</th><th scope=col>disp</th><th scope=col>hp</th><th scope=col>drat</th><th scope=col>wt</th><th scope=col>qsec</th><th scope=col>vs</th><th scope=col>am</th><th scope=col>gear</th><th scope=col>carb</th></tr>\n",
              "\t<tr><th></th><th scope=col>&lt;dbl&gt;</th><th scope=col>&lt;dbl&gt;</th><th scope=col>&lt;dbl&gt;</th><th scope=col>&lt;dbl&gt;</th><th scope=col>&lt;dbl&gt;</th><th scope=col>&lt;dbl&gt;</th><th scope=col>&lt;dbl&gt;</th><th scope=col>&lt;dbl&gt;</th><th scope=col>&lt;dbl&gt;</th><th scope=col>&lt;dbl&gt;</th><th scope=col>&lt;dbl&gt;</th></tr>\n",
              "</thead>\n",
              "<tbody>\n",
              "\t<tr><th scope=row>Mazda RX4</th><td>21.0</td><td>6</td><td>160</td><td>110</td><td>3.90</td><td>2.620</td><td>16.46</td><td>0</td><td>1</td><td>4</td><td>4</td></tr>\n",
              "\t<tr><th scope=row>Mazda RX4 Wag</th><td>21.0</td><td>6</td><td>160</td><td>110</td><td>3.90</td><td>2.875</td><td>17.02</td><td>0</td><td>1</td><td>4</td><td>4</td></tr>\n",
              "\t<tr><th scope=row>Datsun 710</th><td>22.8</td><td>4</td><td>108</td><td> 93</td><td>3.85</td><td>2.320</td><td>18.61</td><td>1</td><td>1</td><td>4</td><td>1</td></tr>\n",
              "\t<tr><th scope=row>Hornet 4 Drive</th><td>21.4</td><td>6</td><td>258</td><td>110</td><td>3.08</td><td>3.215</td><td>19.44</td><td>1</td><td>0</td><td>3</td><td>1</td></tr>\n",
              "\t<tr><th scope=row>Hornet Sportabout</th><td>18.7</td><td>8</td><td>360</td><td>175</td><td>3.15</td><td>3.440</td><td>17.02</td><td>0</td><td>0</td><td>3</td><td>2</td></tr>\n",
              "\t<tr><th scope=row>Valiant</th><td>18.1</td><td>6</td><td>225</td><td>105</td><td>2.76</td><td>3.460</td><td>20.22</td><td>1</td><td>0</td><td>3</td><td>1</td></tr>\n",
              "</tbody>\n",
              "</table>\n"
            ]
          },
          "metadata": {
            "tags": []
          }
        }
      ]
    },
    {
      "cell_type": "code",
      "metadata": {
        "id": "cFaUZ4KpUi-v",
        "colab": {
          "base_uri": "https://localhost:8080/",
          "height": 1000
        },
        "outputId": "64119985-163d-46bd-b1c9-4281980261cd"
      },
      "source": [
        "mtcars %>% \n",
        "#cyl 컬럼의 값에 따라 mtcars 데이터를 나눔.\n",
        "  split(.$cyl) "
      ],
      "execution_count": 47,
      "outputs": [
        {
          "output_type": "display_data",
          "data": {
            "text/plain": [
              "$`4`\n",
              "                mpg cyl  disp  hp drat    wt  qsec vs am gear carb\n",
              "Datsun 710     22.8   4 108.0  93 3.85 2.320 18.61  1  1    4    1\n",
              "Merc 240D      24.4   4 146.7  62 3.69 3.190 20.00  1  0    4    2\n",
              "Merc 230       22.8   4 140.8  95 3.92 3.150 22.90  1  0    4    2\n",
              "Fiat 128       32.4   4  78.7  66 4.08 2.200 19.47  1  1    4    1\n",
              "Honda Civic    30.4   4  75.7  52 4.93 1.615 18.52  1  1    4    2\n",
              "Toyota Corolla 33.9   4  71.1  65 4.22 1.835 19.90  1  1    4    1\n",
              "Toyota Corona  21.5   4 120.1  97 3.70 2.465 20.01  1  0    3    1\n",
              "Fiat X1-9      27.3   4  79.0  66 4.08 1.935 18.90  1  1    4    1\n",
              "Porsche 914-2  26.0   4 120.3  91 4.43 2.140 16.70  0  1    5    2\n",
              "Lotus Europa   30.4   4  95.1 113 3.77 1.513 16.90  1  1    5    2\n",
              "Volvo 142E     21.4   4 121.0 109 4.11 2.780 18.60  1  1    4    2\n",
              "\n",
              "$`6`\n",
              "                mpg cyl  disp  hp drat    wt  qsec vs am gear carb\n",
              "Mazda RX4      21.0   6 160.0 110 3.90 2.620 16.46  0  1    4    4\n",
              "Mazda RX4 Wag  21.0   6 160.0 110 3.90 2.875 17.02  0  1    4    4\n",
              "Hornet 4 Drive 21.4   6 258.0 110 3.08 3.215 19.44  1  0    3    1\n",
              "Valiant        18.1   6 225.0 105 2.76 3.460 20.22  1  0    3    1\n",
              "Merc 280       19.2   6 167.6 123 3.92 3.440 18.30  1  0    4    4\n",
              "Merc 280C      17.8   6 167.6 123 3.92 3.440 18.90  1  0    4    4\n",
              "Ferrari Dino   19.7   6 145.0 175 3.62 2.770 15.50  0  1    5    6\n",
              "\n",
              "$`8`\n",
              "                     mpg cyl  disp  hp drat    wt  qsec vs am gear carb\n",
              "Hornet Sportabout   18.7   8 360.0 175 3.15 3.440 17.02  0  0    3    2\n",
              "Duster 360          14.3   8 360.0 245 3.21 3.570 15.84  0  0    3    4\n",
              "Merc 450SE          16.4   8 275.8 180 3.07 4.070 17.40  0  0    3    3\n",
              "Merc 450SL          17.3   8 275.8 180 3.07 3.730 17.60  0  0    3    3\n",
              "Merc 450SLC         15.2   8 275.8 180 3.07 3.780 18.00  0  0    3    3\n",
              "Cadillac Fleetwood  10.4   8 472.0 205 2.93 5.250 17.98  0  0    3    4\n",
              "Lincoln Continental 10.4   8 460.0 215 3.00 5.424 17.82  0  0    3    4\n",
              "Chrysler Imperial   14.7   8 440.0 230 3.23 5.345 17.42  0  0    3    4\n",
              "Dodge Challenger    15.5   8 318.0 150 2.76 3.520 16.87  0  0    3    2\n",
              "AMC Javelin         15.2   8 304.0 150 3.15 3.435 17.30  0  0    3    2\n",
              "Camaro Z28          13.3   8 350.0 245 3.73 3.840 15.41  0  0    3    4\n",
              "Pontiac Firebird    19.2   8 400.0 175 3.08 3.845 17.05  0  0    3    2\n",
              "Ford Pantera L      15.8   8 351.0 264 4.22 3.170 14.50  0  1    5    4\n",
              "Maserati Bora       15.0   8 301.0 335 3.54 3.570 14.60  0  1    5    8\n"
            ],
            "text/latex": "\\begin{description}\n\\item[\\$`4`] A data.frame: 11 × 11\n\\begin{tabular}{r|lllllllllll}\n  & mpg & cyl & disp & hp & drat & wt & qsec & vs & am & gear & carb\\\\\n  & <dbl> & <dbl> & <dbl> & <dbl> & <dbl> & <dbl> & <dbl> & <dbl> & <dbl> & <dbl> & <dbl>\\\\\n\\hline\n\tDatsun 710 & 22.8 & 4 & 108.0 &  93 & 3.85 & 2.320 & 18.61 & 1 & 1 & 4 & 1\\\\\n\tMerc 240D & 24.4 & 4 & 146.7 &  62 & 3.69 & 3.190 & 20.00 & 1 & 0 & 4 & 2\\\\\n\tMerc 230 & 22.8 & 4 & 140.8 &  95 & 3.92 & 3.150 & 22.90 & 1 & 0 & 4 & 2\\\\\n\tFiat 128 & 32.4 & 4 &  78.7 &  66 & 4.08 & 2.200 & 19.47 & 1 & 1 & 4 & 1\\\\\n\tHonda Civic & 30.4 & 4 &  75.7 &  52 & 4.93 & 1.615 & 18.52 & 1 & 1 & 4 & 2\\\\\n\tToyota Corolla & 33.9 & 4 &  71.1 &  65 & 4.22 & 1.835 & 19.90 & 1 & 1 & 4 & 1\\\\\n\tToyota Corona & 21.5 & 4 & 120.1 &  97 & 3.70 & 2.465 & 20.01 & 1 & 0 & 3 & 1\\\\\n\tFiat X1-9 & 27.3 & 4 &  79.0 &  66 & 4.08 & 1.935 & 18.90 & 1 & 1 & 4 & 1\\\\\n\tPorsche 914-2 & 26.0 & 4 & 120.3 &  91 & 4.43 & 2.140 & 16.70 & 0 & 1 & 5 & 2\\\\\n\tLotus Europa & 30.4 & 4 &  95.1 & 113 & 3.77 & 1.513 & 16.90 & 1 & 1 & 5 & 2\\\\\n\tVolvo 142E & 21.4 & 4 & 121.0 & 109 & 4.11 & 2.780 & 18.60 & 1 & 1 & 4 & 2\\\\\n\\end{tabular}\n\n\\item[\\$`6`] A data.frame: 7 × 11\n\\begin{tabular}{r|lllllllllll}\n  & mpg & cyl & disp & hp & drat & wt & qsec & vs & am & gear & carb\\\\\n  & <dbl> & <dbl> & <dbl> & <dbl> & <dbl> & <dbl> & <dbl> & <dbl> & <dbl> & <dbl> & <dbl>\\\\\n\\hline\n\tMazda RX4 & 21.0 & 6 & 160.0 & 110 & 3.90 & 2.620 & 16.46 & 0 & 1 & 4 & 4\\\\\n\tMazda RX4 Wag & 21.0 & 6 & 160.0 & 110 & 3.90 & 2.875 & 17.02 & 0 & 1 & 4 & 4\\\\\n\tHornet 4 Drive & 21.4 & 6 & 258.0 & 110 & 3.08 & 3.215 & 19.44 & 1 & 0 & 3 & 1\\\\\n\tValiant & 18.1 & 6 & 225.0 & 105 & 2.76 & 3.460 & 20.22 & 1 & 0 & 3 & 1\\\\\n\tMerc 280 & 19.2 & 6 & 167.6 & 123 & 3.92 & 3.440 & 18.30 & 1 & 0 & 4 & 4\\\\\n\tMerc 280C & 17.8 & 6 & 167.6 & 123 & 3.92 & 3.440 & 18.90 & 1 & 0 & 4 & 4\\\\\n\tFerrari Dino & 19.7 & 6 & 145.0 & 175 & 3.62 & 2.770 & 15.50 & 0 & 1 & 5 & 6\\\\\n\\end{tabular}\n\n\\item[\\$`8`] A data.frame: 14 × 11\n\\begin{tabular}{r|lllllllllll}\n  & mpg & cyl & disp & hp & drat & wt & qsec & vs & am & gear & carb\\\\\n  & <dbl> & <dbl> & <dbl> & <dbl> & <dbl> & <dbl> & <dbl> & <dbl> & <dbl> & <dbl> & <dbl>\\\\\n\\hline\n\tHornet Sportabout & 18.7 & 8 & 360.0 & 175 & 3.15 & 3.440 & 17.02 & 0 & 0 & 3 & 2\\\\\n\tDuster 360 & 14.3 & 8 & 360.0 & 245 & 3.21 & 3.570 & 15.84 & 0 & 0 & 3 & 4\\\\\n\tMerc 450SE & 16.4 & 8 & 275.8 & 180 & 3.07 & 4.070 & 17.40 & 0 & 0 & 3 & 3\\\\\n\tMerc 450SL & 17.3 & 8 & 275.8 & 180 & 3.07 & 3.730 & 17.60 & 0 & 0 & 3 & 3\\\\\n\tMerc 450SLC & 15.2 & 8 & 275.8 & 180 & 3.07 & 3.780 & 18.00 & 0 & 0 & 3 & 3\\\\\n\tCadillac Fleetwood & 10.4 & 8 & 472.0 & 205 & 2.93 & 5.250 & 17.98 & 0 & 0 & 3 & 4\\\\\n\tLincoln Continental & 10.4 & 8 & 460.0 & 215 & 3.00 & 5.424 & 17.82 & 0 & 0 & 3 & 4\\\\\n\tChrysler Imperial & 14.7 & 8 & 440.0 & 230 & 3.23 & 5.345 & 17.42 & 0 & 0 & 3 & 4\\\\\n\tDodge Challenger & 15.5 & 8 & 318.0 & 150 & 2.76 & 3.520 & 16.87 & 0 & 0 & 3 & 2\\\\\n\tAMC Javelin & 15.2 & 8 & 304.0 & 150 & 3.15 & 3.435 & 17.30 & 0 & 0 & 3 & 2\\\\\n\tCamaro Z28 & 13.3 & 8 & 350.0 & 245 & 3.73 & 3.840 & 15.41 & 0 & 0 & 3 & 4\\\\\n\tPontiac Firebird & 19.2 & 8 & 400.0 & 175 & 3.08 & 3.845 & 17.05 & 0 & 0 & 3 & 2\\\\\n\tFord Pantera L & 15.8 & 8 & 351.0 & 264 & 4.22 & 3.170 & 14.50 & 0 & 1 & 5 & 4\\\\\n\tMaserati Bora & 15.0 & 8 & 301.0 & 335 & 3.54 & 3.570 & 14.60 & 0 & 1 & 5 & 8\\\\\n\\end{tabular}\n\n\\end{description}\n",
            "text/markdown": "$`4`\n:   \nA data.frame: 11 × 11\n\n| <!--/--> | mpg &lt;dbl&gt; | cyl &lt;dbl&gt; | disp &lt;dbl&gt; | hp &lt;dbl&gt; | drat &lt;dbl&gt; | wt &lt;dbl&gt; | qsec &lt;dbl&gt; | vs &lt;dbl&gt; | am &lt;dbl&gt; | gear &lt;dbl&gt; | carb &lt;dbl&gt; |\n|---|---|---|---|---|---|---|---|---|---|---|---|\n| Datsun 710 | 22.8 | 4 | 108.0 |  93 | 3.85 | 2.320 | 18.61 | 1 | 1 | 4 | 1 |\n| Merc 240D | 24.4 | 4 | 146.7 |  62 | 3.69 | 3.190 | 20.00 | 1 | 0 | 4 | 2 |\n| Merc 230 | 22.8 | 4 | 140.8 |  95 | 3.92 | 3.150 | 22.90 | 1 | 0 | 4 | 2 |\n| Fiat 128 | 32.4 | 4 |  78.7 |  66 | 4.08 | 2.200 | 19.47 | 1 | 1 | 4 | 1 |\n| Honda Civic | 30.4 | 4 |  75.7 |  52 | 4.93 | 1.615 | 18.52 | 1 | 1 | 4 | 2 |\n| Toyota Corolla | 33.9 | 4 |  71.1 |  65 | 4.22 | 1.835 | 19.90 | 1 | 1 | 4 | 1 |\n| Toyota Corona | 21.5 | 4 | 120.1 |  97 | 3.70 | 2.465 | 20.01 | 1 | 0 | 3 | 1 |\n| Fiat X1-9 | 27.3 | 4 |  79.0 |  66 | 4.08 | 1.935 | 18.90 | 1 | 1 | 4 | 1 |\n| Porsche 914-2 | 26.0 | 4 | 120.3 |  91 | 4.43 | 2.140 | 16.70 | 0 | 1 | 5 | 2 |\n| Lotus Europa | 30.4 | 4 |  95.1 | 113 | 3.77 | 1.513 | 16.90 | 1 | 1 | 5 | 2 |\n| Volvo 142E | 21.4 | 4 | 121.0 | 109 | 4.11 | 2.780 | 18.60 | 1 | 1 | 4 | 2 |\n\n\n$`6`\n:   \nA data.frame: 7 × 11\n\n| <!--/--> | mpg &lt;dbl&gt; | cyl &lt;dbl&gt; | disp &lt;dbl&gt; | hp &lt;dbl&gt; | drat &lt;dbl&gt; | wt &lt;dbl&gt; | qsec &lt;dbl&gt; | vs &lt;dbl&gt; | am &lt;dbl&gt; | gear &lt;dbl&gt; | carb &lt;dbl&gt; |\n|---|---|---|---|---|---|---|---|---|---|---|---|\n| Mazda RX4 | 21.0 | 6 | 160.0 | 110 | 3.90 | 2.620 | 16.46 | 0 | 1 | 4 | 4 |\n| Mazda RX4 Wag | 21.0 | 6 | 160.0 | 110 | 3.90 | 2.875 | 17.02 | 0 | 1 | 4 | 4 |\n| Hornet 4 Drive | 21.4 | 6 | 258.0 | 110 | 3.08 | 3.215 | 19.44 | 1 | 0 | 3 | 1 |\n| Valiant | 18.1 | 6 | 225.0 | 105 | 2.76 | 3.460 | 20.22 | 1 | 0 | 3 | 1 |\n| Merc 280 | 19.2 | 6 | 167.6 | 123 | 3.92 | 3.440 | 18.30 | 1 | 0 | 4 | 4 |\n| Merc 280C | 17.8 | 6 | 167.6 | 123 | 3.92 | 3.440 | 18.90 | 1 | 0 | 4 | 4 |\n| Ferrari Dino | 19.7 | 6 | 145.0 | 175 | 3.62 | 2.770 | 15.50 | 0 | 1 | 5 | 6 |\n\n\n$`8`\n:   \nA data.frame: 14 × 11\n\n| <!--/--> | mpg &lt;dbl&gt; | cyl &lt;dbl&gt; | disp &lt;dbl&gt; | hp &lt;dbl&gt; | drat &lt;dbl&gt; | wt &lt;dbl&gt; | qsec &lt;dbl&gt; | vs &lt;dbl&gt; | am &lt;dbl&gt; | gear &lt;dbl&gt; | carb &lt;dbl&gt; |\n|---|---|---|---|---|---|---|---|---|---|---|---|\n| Hornet Sportabout | 18.7 | 8 | 360.0 | 175 | 3.15 | 3.440 | 17.02 | 0 | 0 | 3 | 2 |\n| Duster 360 | 14.3 | 8 | 360.0 | 245 | 3.21 | 3.570 | 15.84 | 0 | 0 | 3 | 4 |\n| Merc 450SE | 16.4 | 8 | 275.8 | 180 | 3.07 | 4.070 | 17.40 | 0 | 0 | 3 | 3 |\n| Merc 450SL | 17.3 | 8 | 275.8 | 180 | 3.07 | 3.730 | 17.60 | 0 | 0 | 3 | 3 |\n| Merc 450SLC | 15.2 | 8 | 275.8 | 180 | 3.07 | 3.780 | 18.00 | 0 | 0 | 3 | 3 |\n| Cadillac Fleetwood | 10.4 | 8 | 472.0 | 205 | 2.93 | 5.250 | 17.98 | 0 | 0 | 3 | 4 |\n| Lincoln Continental | 10.4 | 8 | 460.0 | 215 | 3.00 | 5.424 | 17.82 | 0 | 0 | 3 | 4 |\n| Chrysler Imperial | 14.7 | 8 | 440.0 | 230 | 3.23 | 5.345 | 17.42 | 0 | 0 | 3 | 4 |\n| Dodge Challenger | 15.5 | 8 | 318.0 | 150 | 2.76 | 3.520 | 16.87 | 0 | 0 | 3 | 2 |\n| AMC Javelin | 15.2 | 8 | 304.0 | 150 | 3.15 | 3.435 | 17.30 | 0 | 0 | 3 | 2 |\n| Camaro Z28 | 13.3 | 8 | 350.0 | 245 | 3.73 | 3.840 | 15.41 | 0 | 0 | 3 | 4 |\n| Pontiac Firebird | 19.2 | 8 | 400.0 | 175 | 3.08 | 3.845 | 17.05 | 0 | 0 | 3 | 2 |\n| Ford Pantera L | 15.8 | 8 | 351.0 | 264 | 4.22 | 3.170 | 14.50 | 0 | 1 | 5 | 4 |\n| Maserati Bora | 15.0 | 8 | 301.0 | 335 | 3.54 | 3.570 | 14.60 | 0 | 1 | 5 | 8 |\n\n\n\n\n",
            "text/html": [
              "<dl>\n",
              "\t<dt>$`4`</dt>\n",
              "\t\t<dd><table class=\"dataframe\">\n",
              "<caption>A data.frame: 11 × 11</caption>\n",
              "<thead>\n",
              "\t<tr><th></th><th scope=col>mpg</th><th scope=col>cyl</th><th scope=col>disp</th><th scope=col>hp</th><th scope=col>drat</th><th scope=col>wt</th><th scope=col>qsec</th><th scope=col>vs</th><th scope=col>am</th><th scope=col>gear</th><th scope=col>carb</th></tr>\n",
              "\t<tr><th></th><th scope=col>&lt;dbl&gt;</th><th scope=col>&lt;dbl&gt;</th><th scope=col>&lt;dbl&gt;</th><th scope=col>&lt;dbl&gt;</th><th scope=col>&lt;dbl&gt;</th><th scope=col>&lt;dbl&gt;</th><th scope=col>&lt;dbl&gt;</th><th scope=col>&lt;dbl&gt;</th><th scope=col>&lt;dbl&gt;</th><th scope=col>&lt;dbl&gt;</th><th scope=col>&lt;dbl&gt;</th></tr>\n",
              "</thead>\n",
              "<tbody>\n",
              "\t<tr><th scope=row>Datsun 710</th><td>22.8</td><td>4</td><td>108.0</td><td> 93</td><td>3.85</td><td>2.320</td><td>18.61</td><td>1</td><td>1</td><td>4</td><td>1</td></tr>\n",
              "\t<tr><th scope=row>Merc 240D</th><td>24.4</td><td>4</td><td>146.7</td><td> 62</td><td>3.69</td><td>3.190</td><td>20.00</td><td>1</td><td>0</td><td>4</td><td>2</td></tr>\n",
              "\t<tr><th scope=row>Merc 230</th><td>22.8</td><td>4</td><td>140.8</td><td> 95</td><td>3.92</td><td>3.150</td><td>22.90</td><td>1</td><td>0</td><td>4</td><td>2</td></tr>\n",
              "\t<tr><th scope=row>Fiat 128</th><td>32.4</td><td>4</td><td> 78.7</td><td> 66</td><td>4.08</td><td>2.200</td><td>19.47</td><td>1</td><td>1</td><td>4</td><td>1</td></tr>\n",
              "\t<tr><th scope=row>Honda Civic</th><td>30.4</td><td>4</td><td> 75.7</td><td> 52</td><td>4.93</td><td>1.615</td><td>18.52</td><td>1</td><td>1</td><td>4</td><td>2</td></tr>\n",
              "\t<tr><th scope=row>Toyota Corolla</th><td>33.9</td><td>4</td><td> 71.1</td><td> 65</td><td>4.22</td><td>1.835</td><td>19.90</td><td>1</td><td>1</td><td>4</td><td>1</td></tr>\n",
              "\t<tr><th scope=row>Toyota Corona</th><td>21.5</td><td>4</td><td>120.1</td><td> 97</td><td>3.70</td><td>2.465</td><td>20.01</td><td>1</td><td>0</td><td>3</td><td>1</td></tr>\n",
              "\t<tr><th scope=row>Fiat X1-9</th><td>27.3</td><td>4</td><td> 79.0</td><td> 66</td><td>4.08</td><td>1.935</td><td>18.90</td><td>1</td><td>1</td><td>4</td><td>1</td></tr>\n",
              "\t<tr><th scope=row>Porsche 914-2</th><td>26.0</td><td>4</td><td>120.3</td><td> 91</td><td>4.43</td><td>2.140</td><td>16.70</td><td>0</td><td>1</td><td>5</td><td>2</td></tr>\n",
              "\t<tr><th scope=row>Lotus Europa</th><td>30.4</td><td>4</td><td> 95.1</td><td>113</td><td>3.77</td><td>1.513</td><td>16.90</td><td>1</td><td>1</td><td>5</td><td>2</td></tr>\n",
              "\t<tr><th scope=row>Volvo 142E</th><td>21.4</td><td>4</td><td>121.0</td><td>109</td><td>4.11</td><td>2.780</td><td>18.60</td><td>1</td><td>1</td><td>4</td><td>2</td></tr>\n",
              "</tbody>\n",
              "</table>\n",
              "</dd>\n",
              "\t<dt>$`6`</dt>\n",
              "\t\t<dd><table class=\"dataframe\">\n",
              "<caption>A data.frame: 7 × 11</caption>\n",
              "<thead>\n",
              "\t<tr><th></th><th scope=col>mpg</th><th scope=col>cyl</th><th scope=col>disp</th><th scope=col>hp</th><th scope=col>drat</th><th scope=col>wt</th><th scope=col>qsec</th><th scope=col>vs</th><th scope=col>am</th><th scope=col>gear</th><th scope=col>carb</th></tr>\n",
              "\t<tr><th></th><th scope=col>&lt;dbl&gt;</th><th scope=col>&lt;dbl&gt;</th><th scope=col>&lt;dbl&gt;</th><th scope=col>&lt;dbl&gt;</th><th scope=col>&lt;dbl&gt;</th><th scope=col>&lt;dbl&gt;</th><th scope=col>&lt;dbl&gt;</th><th scope=col>&lt;dbl&gt;</th><th scope=col>&lt;dbl&gt;</th><th scope=col>&lt;dbl&gt;</th><th scope=col>&lt;dbl&gt;</th></tr>\n",
              "</thead>\n",
              "<tbody>\n",
              "\t<tr><th scope=row>Mazda RX4</th><td>21.0</td><td>6</td><td>160.0</td><td>110</td><td>3.90</td><td>2.620</td><td>16.46</td><td>0</td><td>1</td><td>4</td><td>4</td></tr>\n",
              "\t<tr><th scope=row>Mazda RX4 Wag</th><td>21.0</td><td>6</td><td>160.0</td><td>110</td><td>3.90</td><td>2.875</td><td>17.02</td><td>0</td><td>1</td><td>4</td><td>4</td></tr>\n",
              "\t<tr><th scope=row>Hornet 4 Drive</th><td>21.4</td><td>6</td><td>258.0</td><td>110</td><td>3.08</td><td>3.215</td><td>19.44</td><td>1</td><td>0</td><td>3</td><td>1</td></tr>\n",
              "\t<tr><th scope=row>Valiant</th><td>18.1</td><td>6</td><td>225.0</td><td>105</td><td>2.76</td><td>3.460</td><td>20.22</td><td>1</td><td>0</td><td>3</td><td>1</td></tr>\n",
              "\t<tr><th scope=row>Merc 280</th><td>19.2</td><td>6</td><td>167.6</td><td>123</td><td>3.92</td><td>3.440</td><td>18.30</td><td>1</td><td>0</td><td>4</td><td>4</td></tr>\n",
              "\t<tr><th scope=row>Merc 280C</th><td>17.8</td><td>6</td><td>167.6</td><td>123</td><td>3.92</td><td>3.440</td><td>18.90</td><td>1</td><td>0</td><td>4</td><td>4</td></tr>\n",
              "\t<tr><th scope=row>Ferrari Dino</th><td>19.7</td><td>6</td><td>145.0</td><td>175</td><td>3.62</td><td>2.770</td><td>15.50</td><td>0</td><td>1</td><td>5</td><td>6</td></tr>\n",
              "</tbody>\n",
              "</table>\n",
              "</dd>\n",
              "\t<dt>$`8`</dt>\n",
              "\t\t<dd><table class=\"dataframe\">\n",
              "<caption>A data.frame: 14 × 11</caption>\n",
              "<thead>\n",
              "\t<tr><th></th><th scope=col>mpg</th><th scope=col>cyl</th><th scope=col>disp</th><th scope=col>hp</th><th scope=col>drat</th><th scope=col>wt</th><th scope=col>qsec</th><th scope=col>vs</th><th scope=col>am</th><th scope=col>gear</th><th scope=col>carb</th></tr>\n",
              "\t<tr><th></th><th scope=col>&lt;dbl&gt;</th><th scope=col>&lt;dbl&gt;</th><th scope=col>&lt;dbl&gt;</th><th scope=col>&lt;dbl&gt;</th><th scope=col>&lt;dbl&gt;</th><th scope=col>&lt;dbl&gt;</th><th scope=col>&lt;dbl&gt;</th><th scope=col>&lt;dbl&gt;</th><th scope=col>&lt;dbl&gt;</th><th scope=col>&lt;dbl&gt;</th><th scope=col>&lt;dbl&gt;</th></tr>\n",
              "</thead>\n",
              "<tbody>\n",
              "\t<tr><th scope=row>Hornet Sportabout</th><td>18.7</td><td>8</td><td>360.0</td><td>175</td><td>3.15</td><td>3.440</td><td>17.02</td><td>0</td><td>0</td><td>3</td><td>2</td></tr>\n",
              "\t<tr><th scope=row>Duster 360</th><td>14.3</td><td>8</td><td>360.0</td><td>245</td><td>3.21</td><td>3.570</td><td>15.84</td><td>0</td><td>0</td><td>3</td><td>4</td></tr>\n",
              "\t<tr><th scope=row>Merc 450SE</th><td>16.4</td><td>8</td><td>275.8</td><td>180</td><td>3.07</td><td>4.070</td><td>17.40</td><td>0</td><td>0</td><td>3</td><td>3</td></tr>\n",
              "\t<tr><th scope=row>Merc 450SL</th><td>17.3</td><td>8</td><td>275.8</td><td>180</td><td>3.07</td><td>3.730</td><td>17.60</td><td>0</td><td>0</td><td>3</td><td>3</td></tr>\n",
              "\t<tr><th scope=row>Merc 450SLC</th><td>15.2</td><td>8</td><td>275.8</td><td>180</td><td>3.07</td><td>3.780</td><td>18.00</td><td>0</td><td>0</td><td>3</td><td>3</td></tr>\n",
              "\t<tr><th scope=row>Cadillac Fleetwood</th><td>10.4</td><td>8</td><td>472.0</td><td>205</td><td>2.93</td><td>5.250</td><td>17.98</td><td>0</td><td>0</td><td>3</td><td>4</td></tr>\n",
              "\t<tr><th scope=row>Lincoln Continental</th><td>10.4</td><td>8</td><td>460.0</td><td>215</td><td>3.00</td><td>5.424</td><td>17.82</td><td>0</td><td>0</td><td>3</td><td>4</td></tr>\n",
              "\t<tr><th scope=row>Chrysler Imperial</th><td>14.7</td><td>8</td><td>440.0</td><td>230</td><td>3.23</td><td>5.345</td><td>17.42</td><td>0</td><td>0</td><td>3</td><td>4</td></tr>\n",
              "\t<tr><th scope=row>Dodge Challenger</th><td>15.5</td><td>8</td><td>318.0</td><td>150</td><td>2.76</td><td>3.520</td><td>16.87</td><td>0</td><td>0</td><td>3</td><td>2</td></tr>\n",
              "\t<tr><th scope=row>AMC Javelin</th><td>15.2</td><td>8</td><td>304.0</td><td>150</td><td>3.15</td><td>3.435</td><td>17.30</td><td>0</td><td>0</td><td>3</td><td>2</td></tr>\n",
              "\t<tr><th scope=row>Camaro Z28</th><td>13.3</td><td>8</td><td>350.0</td><td>245</td><td>3.73</td><td>3.840</td><td>15.41</td><td>0</td><td>0</td><td>3</td><td>4</td></tr>\n",
              "\t<tr><th scope=row>Pontiac Firebird</th><td>19.2</td><td>8</td><td>400.0</td><td>175</td><td>3.08</td><td>3.845</td><td>17.05</td><td>0</td><td>0</td><td>3</td><td>2</td></tr>\n",
              "\t<tr><th scope=row>Ford Pantera L</th><td>15.8</td><td>8</td><td>351.0</td><td>264</td><td>4.22</td><td>3.170</td><td>14.50</td><td>0</td><td>1</td><td>5</td><td>4</td></tr>\n",
              "\t<tr><th scope=row>Maserati Bora</th><td>15.0</td><td>8</td><td>301.0</td><td>335</td><td>3.54</td><td>3.570</td><td>14.60</td><td>0</td><td>1</td><td>5</td><td>8</td></tr>\n",
              "</tbody>\n",
              "</table>\n",
              "</dd>\n",
              "</dl>\n"
            ]
          },
          "metadata": {
            "tags": []
          }
        }
      ]
    },
    {
      "cell_type": "markdown",
      "metadata": {
        "id": "n6Srx5BFUraC"
      },
      "source": [
        "You can define a function in map"
      ]
    },
    {
      "cell_type": "code",
      "metadata": {
        "id": "7VjH2IZTUcbG",
        "colab": {
          "base_uri": "https://localhost:8080/",
          "height": 504
        },
        "outputId": "c22764f6-dd55-4430-8575-1f4ecdccdf26"
      },
      "source": [
        "#이렇게 나뉜 데이터들에 각각 회귀모델을 적용가능!\n",
        "mtcars %>% \n",
        "  split(.$cyl) %>% \n",
        "  map(function(df) lm(mpg ~ wt, data = df))\n"
      ],
      "execution_count": 48,
      "outputs": [
        {
          "output_type": "display_data",
          "data": {
            "text/plain": [
              "$`4`\n",
              "\n",
              "Call:\n",
              "lm(formula = mpg ~ wt, data = df)\n",
              "\n",
              "Coefficients:\n",
              "(Intercept)           wt  \n",
              "     39.571       -5.647  \n",
              "\n",
              "\n",
              "$`6`\n",
              "\n",
              "Call:\n",
              "lm(formula = mpg ~ wt, data = df)\n",
              "\n",
              "Coefficients:\n",
              "(Intercept)           wt  \n",
              "      28.41        -2.78  \n",
              "\n",
              "\n",
              "$`8`\n",
              "\n",
              "Call:\n",
              "lm(formula = mpg ~ wt, data = df)\n",
              "\n",
              "Coefficients:\n",
              "(Intercept)           wt  \n",
              "     23.868       -2.192  \n",
              "\n"
            ]
          },
          "metadata": {
            "tags": []
          }
        }
      ]
    },
    {
      "cell_type": "code",
      "metadata": {
        "id": "mVtUbq1_UcPv",
        "colab": {
          "base_uri": "https://localhost:8080/",
          "height": 504
        },
        "outputId": "5a254d1a-5a89-4c3b-dfc0-3d0ce6d1deb4"
      },
      "source": [
        "f1 <- function(df) {\n",
        "  lm(mpg ~ wt, data = df)\n",
        "}\n",
        "mtcars %>% \n",
        "  split(.$cyl) %>% \n",
        "  map(f1)"
      ],
      "execution_count": 50,
      "outputs": [
        {
          "output_type": "display_data",
          "data": {
            "text/plain": [
              "$`4`\n",
              "\n",
              "Call:\n",
              "lm(formula = mpg ~ wt, data = df)\n",
              "\n",
              "Coefficients:\n",
              "(Intercept)           wt  \n",
              "     39.571       -5.647  \n",
              "\n",
              "\n",
              "$`6`\n",
              "\n",
              "Call:\n",
              "lm(formula = mpg ~ wt, data = df)\n",
              "\n",
              "Coefficients:\n",
              "(Intercept)           wt  \n",
              "      28.41        -2.78  \n",
              "\n",
              "\n",
              "$`8`\n",
              "\n",
              "Call:\n",
              "lm(formula = mpg ~ wt, data = df)\n",
              "\n",
              "Coefficients:\n",
              "(Intercept)           wt  \n",
              "     23.868       -2.192  \n",
              "\n"
            ]
          },
          "metadata": {
            "tags": []
          }
        }
      ]
    },
    {
      "cell_type": "code",
      "metadata": {
        "id": "i7gSsRAbUcEf",
        "colab": {
          "base_uri": "https://localhost:8080/",
          "height": 504
        },
        "outputId": "97d6ea42-17c7-4546-9d5e-cc08c03a46c1"
      },
      "source": [
        "mtcars %>% \n",
        "  split(.$cyl) %>% \n",
        "  map(~lm(mpg ~ wt, data = .))\n"
      ],
      "execution_count": 49,
      "outputs": [
        {
          "output_type": "display_data",
          "data": {
            "text/plain": [
              "$`4`\n",
              "\n",
              "Call:\n",
              "lm(formula = mpg ~ wt, data = .)\n",
              "\n",
              "Coefficients:\n",
              "(Intercept)           wt  \n",
              "     39.571       -5.647  \n",
              "\n",
              "\n",
              "$`6`\n",
              "\n",
              "Call:\n",
              "lm(formula = mpg ~ wt, data = .)\n",
              "\n",
              "Coefficients:\n",
              "(Intercept)           wt  \n",
              "      28.41        -2.78  \n",
              "\n",
              "\n",
              "$`8`\n",
              "\n",
              "Call:\n",
              "lm(formula = mpg ~ wt, data = .)\n",
              "\n",
              "Coefficients:\n",
              "(Intercept)           wt  \n",
              "     23.868       -2.192  \n",
              "\n"
            ]
          },
          "metadata": {
            "tags": []
          }
        }
      ]
    },
    {
      "cell_type": "markdown",
      "metadata": {
        "id": "6QObZEBrVPyB"
      },
      "source": [
        "## Extract Component"
      ]
    },
    {
      "cell_type": "code",
      "metadata": {
        "id": "RjhdIZugUb4h",
        "colab": {
          "base_uri": "https://localhost:8080/",
          "height": 1000
        },
        "outputId": "5c55927c-0fd7-4bfe-baa0-cfa1f77b23cb"
      },
      "source": [
        "mtcars %>% \n",
        "  split(.$cyl) %>% \n",
        "  map(~lm(mpg ~ wt, data = .)) %>% \n",
        "  map(summary)\n"
      ],
      "execution_count": 51,
      "outputs": [
        {
          "output_type": "display_data",
          "data": {
            "text/plain": [
              "$`4`\n",
              "\n",
              "Call:\n",
              "lm(formula = mpg ~ wt, data = .)\n",
              "\n",
              "Residuals:\n",
              "    Min      1Q  Median      3Q     Max \n",
              "-4.1513 -1.9795 -0.6272  1.9299  5.2523 \n",
              "\n",
              "Coefficients:\n",
              "            Estimate Std. Error t value Pr(>|t|)    \n",
              "(Intercept)   39.571      4.347   9.104 7.77e-06 ***\n",
              "wt            -5.647      1.850  -3.052   0.0137 *  \n",
              "---\n",
              "Signif. codes:  0 ‘***’ 0.001 ‘**’ 0.01 ‘*’ 0.05 ‘.’ 0.1 ‘ ’ 1\n",
              "\n",
              "Residual standard error: 3.332 on 9 degrees of freedom\n",
              "Multiple R-squared:  0.5086,\tAdjusted R-squared:  0.454 \n",
              "F-statistic: 9.316 on 1 and 9 DF,  p-value: 0.01374\n",
              "\n",
              "\n",
              "$`6`\n",
              "\n",
              "Call:\n",
              "lm(formula = mpg ~ wt, data = .)\n",
              "\n",
              "Residuals:\n",
              "     Mazda RX4  Mazda RX4 Wag Hornet 4 Drive        Valiant       Merc 280 \n",
              "       -0.1250         0.5840         1.9292        -0.6897         0.3547 \n",
              "     Merc 280C   Ferrari Dino \n",
              "       -1.0453        -1.0080 \n",
              "\n",
              "Coefficients:\n",
              "            Estimate Std. Error t value Pr(>|t|)   \n",
              "(Intercept)   28.409      4.184   6.789  0.00105 **\n",
              "wt            -2.780      1.335  -2.083  0.09176 . \n",
              "---\n",
              "Signif. codes:  0 ‘***’ 0.001 ‘**’ 0.01 ‘*’ 0.05 ‘.’ 0.1 ‘ ’ 1\n",
              "\n",
              "Residual standard error: 1.165 on 5 degrees of freedom\n",
              "Multiple R-squared:  0.4645,\tAdjusted R-squared:  0.3574 \n",
              "F-statistic: 4.337 on 1 and 5 DF,  p-value: 0.09176\n",
              "\n",
              "\n",
              "$`8`\n",
              "\n",
              "Call:\n",
              "lm(formula = mpg ~ wt, data = .)\n",
              "\n",
              "Residuals:\n",
              "    Min      1Q  Median      3Q     Max \n",
              "-2.1491 -1.4664 -0.8458  1.5711  3.7619 \n",
              "\n",
              "Coefficients:\n",
              "            Estimate Std. Error t value Pr(>|t|)    \n",
              "(Intercept)  23.8680     3.0055   7.942 4.05e-06 ***\n",
              "wt           -2.1924     0.7392  -2.966   0.0118 *  \n",
              "---\n",
              "Signif. codes:  0 ‘***’ 0.001 ‘**’ 0.01 ‘*’ 0.05 ‘.’ 0.1 ‘ ’ 1\n",
              "\n",
              "Residual standard error: 2.024 on 12 degrees of freedom\n",
              "Multiple R-squared:  0.423,\tAdjusted R-squared:  0.3749 \n",
              "F-statistic: 8.796 on 1 and 12 DF,  p-value: 0.01179\n",
              "\n"
            ]
          },
          "metadata": {
            "tags": []
          }
        }
      ]
    },
    {
      "cell_type": "code",
      "metadata": {
        "id": "2o5geQ5RVUVt",
        "colab": {
          "base_uri": "https://localhost:8080/",
          "height": 34
        },
        "outputId": "fde2d4c3-1243-4234-80ce-ffd19cec5308"
      },
      "source": [
        "#위의 결과에서 R^2만 뽑기 \n",
        "mtcars %>% \n",
        "  split(.$cyl) %>% \n",
        "  map(~lm(mpg ~ wt, data = .)) %>% \n",
        "  map(summary) %>% \n",
        "  #cyl이 4, 6, 8일 때의 R^2\n",
        "  map_dbl('r.squared')\n"
      ],
      "execution_count": 52,
      "outputs": [
        {
          "output_type": "display_data",
          "data": {
            "text/plain": [
              "        4         6         8 \n",
              "0.5086326 0.4645102 0.4229655 "
            ],
            "text/latex": "\\begin{description*}\n\\item[4] 0.50863259632314\n\\item[6] 0.464510150550548\n\\item[8] 0.422965536496111\n\\end{description*}\n",
            "text/markdown": "4\n:   0.508632596323146\n:   0.4645101505505488\n:   0.422965536496111\n\n",
            "text/html": [
              "<style>\n",
              ".dl-inline {width: auto; margin:0; padding: 0}\n",
              ".dl-inline>dt, .dl-inline>dd {float: none; width: auto; display: inline-block}\n",
              ".dl-inline>dt::after {content: \":\\0020\"; padding-right: .5ex}\n",
              ".dl-inline>dt:not(:first-of-type) {padding-left: .5ex}\n",
              "</style><dl class=dl-inline><dt>4</dt><dd>0.50863259632314</dd><dt>6</dt><dd>0.464510150550548</dd><dt>8</dt><dd>0.422965536496111</dd></dl>\n"
            ]
          },
          "metadata": {
            "tags": []
          }
        }
      ]
    },
    {
      "cell_type": "markdown",
      "metadata": {
        "id": "FAOULT0-Vy_k"
      },
      "source": [
        "You can also use an integer to select elements by position"
      ]
    },
    {
      "cell_type": "code",
      "metadata": {
        "id": "JDOtIgsyVjju",
        "colab": {
          "base_uri": "https://localhost:8080/",
          "height": 213
        },
        "outputId": "d34c1f27-2b5b-4b75-e2c8-7e706587d234"
      },
      "source": [
        "x <- list(list(1, 2, 3), list(4, 5, 6), list(7, 8, 9))\n",
        "x %>% map_dbl(2)\n",
        "#> [1] 2 5 8\n",
        "x"
      ],
      "execution_count": 53,
      "outputs": [
        {
          "output_type": "display_data",
          "data": {
            "text/plain": [
              "[1] 2 5 8"
            ],
            "text/latex": "\\begin{enumerate*}\n\\item 2\n\\item 5\n\\item 8\n\\end{enumerate*}\n",
            "text/markdown": "1. 2\n2. 5\n3. 8\n\n\n",
            "text/html": [
              "<style>\n",
              ".list-inline {list-style: none; margin:0; padding: 0}\n",
              ".list-inline>li {display: inline-block}\n",
              ".list-inline>li:not(:last-child)::after {content: \"\\00b7\"; padding: 0 .5ex}\n",
              "</style>\n",
              "<ol class=list-inline><li>2</li><li>5</li><li>8</li></ol>\n"
            ]
          },
          "metadata": {
            "tags": []
          }
        },
        {
          "output_type": "display_data",
          "data": {
            "text/plain": [
              "[[1]]\n",
              "[[1]][[1]]\n",
              "[1] 1\n",
              "\n",
              "[[1]][[2]]\n",
              "[1] 2\n",
              "\n",
              "[[1]][[3]]\n",
              "[1] 3\n",
              "\n",
              "\n",
              "[[2]]\n",
              "[[2]][[1]]\n",
              "[1] 4\n",
              "\n",
              "[[2]][[2]]\n",
              "[1] 5\n",
              "\n",
              "[[2]][[3]]\n",
              "[1] 6\n",
              "\n",
              "\n",
              "[[3]]\n",
              "[[3]][[1]]\n",
              "[1] 7\n",
              "\n",
              "[[3]][[2]]\n",
              "[1] 8\n",
              "\n",
              "[[3]][[3]]\n",
              "[1] 9\n",
              "\n"
            ],
            "text/latex": "\\begin{enumerate}\n\\item \\begin{enumerate}\n\\item 1\n\\item 2\n\\item 3\n\\end{enumerate}\n\n\\item \\begin{enumerate}\n\\item 4\n\\item 5\n\\item 6\n\\end{enumerate}\n\n\\item \\begin{enumerate}\n\\item 7\n\\item 8\n\\item 9\n\\end{enumerate}\n\n\\end{enumerate}\n",
            "text/markdown": "1. 1. 1\n2. 2\n3. 3\n\n\n\n2. 1. 4\n2. 5\n3. 6\n\n\n\n3. 1. 7\n2. 8\n3. 9\n\n\n\n\n\n",
            "text/html": [
              "<ol>\n",
              "\t<li><ol>\n",
              "\t<li>1</li>\n",
              "\t<li>2</li>\n",
              "\t<li>3</li>\n",
              "</ol>\n",
              "</li>\n",
              "\t<li><ol>\n",
              "\t<li>4</li>\n",
              "\t<li>5</li>\n",
              "\t<li>6</li>\n",
              "</ol>\n",
              "</li>\n",
              "\t<li><ol>\n",
              "\t<li>7</li>\n",
              "\t<li>8</li>\n",
              "\t<li>9</li>\n",
              "</ol>\n",
              "</li>\n",
              "</ol>\n"
            ]
          },
          "metadata": {
            "tags": []
          }
        }
      ]
    },
    {
      "cell_type": "code",
      "metadata": {
        "id": "HX2eRbamVjZI"
      },
      "source": [
        ""
      ],
      "execution_count": null,
      "outputs": []
    },
    {
      "cell_type": "code",
      "metadata": {
        "id": "1IdJCeWrVjQp"
      },
      "source": [
        ""
      ],
      "execution_count": null,
      "outputs": []
    },
    {
      "cell_type": "markdown",
      "metadata": {
        "id": "2Lk6MKBCV2ru"
      },
      "source": [
        "Functional Programming is memory efficient by not saving internal calculations. Easier to understand if you get used to it. \n",
        "\n",
        "Is it fater as well? "
      ]
    },
    {
      "cell_type": "code",
      "metadata": {
        "id": "WrOi6XEJTl3G"
      },
      "source": [
        "n_len = 10"
      ],
      "execution_count": 54,
      "outputs": []
    },
    {
      "cell_type": "code",
      "metadata": {
        "id": "g-KTb1qwSzvP",
        "colab": {
          "base_uri": "https://localhost:8080/",
          "height": 381
        },
        "outputId": "c9ba52ef-2e56-4ac2-d105-d0ca26289535"
      },
      "source": [
        "rep(10,n_len) %>% map(~rnorm(.))"
      ],
      "execution_count": 55,
      "outputs": [
        {
          "output_type": "display_data",
          "data": {
            "text/plain": [
              "[[1]]\n",
              " [1]  0.63911394 -0.35278374  0.93650554 -0.33114792 -0.75197466 -0.80161157\n",
              " [7]  0.45099461 -1.57980635  0.26364088  0.01451584\n",
              "\n",
              "[[2]]\n",
              " [1]  0.58998377 -0.99113008 -0.01521778  0.69672561  0.41219107 -1.07155166\n",
              " [7]  1.55420896  0.12622147 -0.48583918 -0.54456889\n",
              "\n",
              "[[3]]\n",
              " [1] -1.99249355  0.02348478 -1.51735236 -1.23074472 -1.30832537  0.97601025\n",
              " [7] -1.41140443 -0.35588309  0.99868137 -0.14604061\n",
              "\n",
              "[[4]]\n",
              " [1] -1.5566391  2.1812572  0.4483659 -1.1959081 -1.3840769 -1.0273182\n",
              " [7]  0.5018079  1.6076203 -0.6892737  0.7416688\n",
              "\n",
              "[[5]]\n",
              " [1] -0.54154356 -0.88930153 -0.82981644 -2.54811163  1.96632614  0.86355602\n",
              " [7] -1.07016344  0.02146838  0.09417852 -2.08414751\n",
              "\n",
              "[[6]]\n",
              " [1]  0.03905932  0.67490242 -0.12096594  1.03158643 -1.26950002 -1.84739156\n",
              " [7] -2.35451670 -0.65407161 -0.78239573  0.63711764\n",
              "\n",
              "[[7]]\n",
              " [1]  1.80704519 -2.01860235 -0.01583301 -0.65810004 -2.08347124  0.85521838\n",
              " [7]  0.27229387  0.30797952 -3.03507357  0.66321657\n",
              "\n",
              "[[8]]\n",
              " [1]  3.0034623  0.1549633  0.9213721 -0.1432142  1.2091758 -0.3631065\n",
              " [7] -0.3904290  0.2997885 -0.6320264  1.4705760\n",
              "\n",
              "[[9]]\n",
              " [1] -0.48946476  1.05061230  0.07837163  0.09619219 -0.08360030  0.57688069\n",
              " [7] -1.21381108  0.24879377 -0.16288626  1.90368750\n",
              "\n",
              "[[10]]\n",
              " [1] -0.93386628 -0.06909597  1.16443020 -0.19443649  0.23618915  0.69669630\n",
              " [7]  2.43932801  0.48502329  0.73485693 -1.24343425\n"
            ],
            "text/latex": "\\begin{enumerate}\n\\item \\begin{enumerate*}\n\\item 0.639113935952365\n\\item -0.352783741393157\n\\item 0.936505537715766\n\\item -0.331147924805388\n\\item -0.751974664514989\n\\item -0.801611566443991\n\\item 0.450994610399701\n\\item -1.57980634855052\n\\item 0.26364088234526\n\\item 0.0145158378787232\n\\end{enumerate*}\n\n\\item \\begin{enumerate*}\n\\item 0.589983771660432\n\\item -0.991130078349643\n\\item -0.0152177848342479\n\\item 0.696725614562532\n\\item 0.412191070801877\n\\item -1.07155166193368\n\\item 1.55420896321288\n\\item 0.126221468752214\n\\item -0.485839184233186\n\\item -0.544568894721289\n\\end{enumerate*}\n\n\\item \\begin{enumerate*}\n\\item -1.99249355047643\n\\item 0.0234847786855749\n\\item -1.51735235714451\n\\item -1.23074471969112\n\\item -1.30832536735102\n\\item 0.976010251021374\n\\item -1.41140442679636\n\\item -0.355883088477572\n\\item 0.998681372415782\n\\item -0.146040614347765\n\\end{enumerate*}\n\n\\item \\begin{enumerate*}\n\\item -1.55663910128533\n\\item 2.18125722626405\n\\item 0.448365934034953\n\\item -1.1959081349135\n\\item -1.38407694702384\n\\item -1.02731820355057\n\\item 0.501807936283212\n\\item 1.60762033694565\n\\item -0.689273720624353\n\\item 0.741668821241506\n\\end{enumerate*}\n\n\\item \\begin{enumerate*}\n\\item -0.541543562105329\n\\item -0.889301534102419\n\\item -0.829816438165784\n\\item -2.54811163253341\n\\item 1.96632613729312\n\\item 0.863556019699123\n\\item -1.07016343806234\n\\item 0.0214683818252208\n\\item 0.0941785249912383\n\\item -2.08414750868805\n\\end{enumerate*}\n\n\\item \\begin{enumerate*}\n\\item 0.0390593181151899\n\\item 0.674902421820792\n\\item -0.120965935962998\n\\item 1.03158643362064\n\\item -1.26950001797473\n\\item -1.84739155630601\n\\item -2.35451670024658\n\\item -0.654071614285075\n\\item -0.782395727262152\n\\item 0.637117639143695\n\\end{enumerate*}\n\n\\item \\begin{enumerate*}\n\\item 1.80704518581154\n\\item -2.0186023480329\n\\item -0.0158330139751367\n\\item -0.658100043965843\n\\item -2.08347124201704\n\\item 0.855218375689217\n\\item 0.272293869110729\n\\item 0.307979524695653\n\\item -3.03507356632269\n\\item 0.663216568587316\n\\end{enumerate*}\n\n\\item \\begin{enumerate*}\n\\item 3.00346225932587\n\\item 0.154963261988608\n\\item 0.921372138329966\n\\item -0.143214173655133\n\\item 1.20917576484028\n\\item -0.363106456486595\n\\item -0.39042898733924\n\\item 0.299788538935803\n\\item -0.632026407626534\n\\item 1.47057601645934\n\\end{enumerate*}\n\n\\item \\begin{enumerate*}\n\\item -0.489464759846766\n\\item 1.05061230291947\n\\item 0.0783716269382114\n\\item 0.0961921875709237\n\\item -0.083600302674607\n\\item 0.576880691704181\n\\item -1.21381107892468\n\\item 0.24879376958689\n\\item -0.162886258349463\n\\item 1.90368750300523\n\\end{enumerate*}\n\n\\item \\begin{enumerate*}\n\\item -0.933866280443321\n\\item -0.0690959661860695\n\\item 1.16443019590468\n\\item -0.194436486192544\n\\item 0.23618914656653\n\\item 0.696696301568132\n\\item 2.43932800821232\n\\item 0.485023290076553\n\\item 0.734856931236891\n\\item -1.24343425343711\n\\end{enumerate*}\n\n\\end{enumerate}\n",
            "text/markdown": "1. 1. 0.639113935952365\n2. -0.352783741393157\n3. 0.936505537715766\n4. -0.331147924805388\n5. -0.751974664514989\n6. -0.801611566443991\n7. 0.450994610399701\n8. -1.57980634855052\n9. 0.26364088234526\n10. 0.0145158378787232\n\n\n\n2. 1. 0.589983771660432\n2. -0.991130078349643\n3. -0.0152177848342479\n4. 0.696725614562532\n5. 0.412191070801877\n6. -1.07155166193368\n7. 1.55420896321288\n8. 0.126221468752214\n9. -0.485839184233186\n10. -0.544568894721289\n\n\n\n3. 1. -1.99249355047643\n2. 0.0234847786855749\n3. -1.51735235714451\n4. -1.23074471969112\n5. -1.30832536735102\n6. 0.976010251021374\n7. -1.41140442679636\n8. -0.355883088477572\n9. 0.998681372415782\n10. -0.146040614347765\n\n\n\n4. 1. -1.55663910128533\n2. 2.18125722626405\n3. 0.448365934034953\n4. -1.1959081349135\n5. -1.38407694702384\n6. -1.02731820355057\n7. 0.501807936283212\n8. 1.60762033694565\n9. -0.689273720624353\n10. 0.741668821241506\n\n\n\n5. 1. -0.541543562105329\n2. -0.889301534102419\n3. -0.829816438165784\n4. -2.54811163253341\n5. 1.96632613729312\n6. 0.863556019699123\n7. -1.07016343806234\n8. 0.0214683818252208\n9. 0.0941785249912383\n10. -2.08414750868805\n\n\n\n6. 1. 0.0390593181151899\n2. 0.674902421820792\n3. -0.120965935962998\n4. 1.03158643362064\n5. -1.26950001797473\n6. -1.84739155630601\n7. -2.35451670024658\n8. -0.654071614285075\n9. -0.782395727262152\n10. 0.637117639143695\n\n\n\n7. 1. 1.80704518581154\n2. -2.0186023480329\n3. -0.0158330139751367\n4. -0.658100043965843\n5. -2.08347124201704\n6. 0.855218375689217\n7. 0.272293869110729\n8. 0.307979524695653\n9. -3.03507356632269\n10. 0.663216568587316\n\n\n\n8. 1. 3.00346225932587\n2. 0.154963261988608\n3. 0.921372138329966\n4. -0.143214173655133\n5. 1.20917576484028\n6. -0.363106456486595\n7. -0.39042898733924\n8. 0.299788538935803\n9. -0.632026407626534\n10. 1.47057601645934\n\n\n\n9. 1. -0.489464759846766\n2. 1.05061230291947\n3. 0.0783716269382114\n4. 0.0961921875709237\n5. -0.083600302674607\n6. 0.576880691704181\n7. -1.21381107892468\n8. 0.24879376958689\n9. -0.162886258349463\n10. 1.90368750300523\n\n\n\n10. 1. -0.933866280443321\n2. -0.0690959661860695\n3. 1.16443019590468\n4. -0.194436486192544\n5. 0.23618914656653\n6. 0.696696301568132\n7. 2.43932800821232\n8. 0.485023290076553\n9. 0.734856931236891\n10. -1.24343425343711\n\n\n\n\n\n",
            "text/html": [
              "<ol>\n",
              "\t<li><style>\n",
              ".list-inline {list-style: none; margin:0; padding: 0}\n",
              ".list-inline>li {display: inline-block}\n",
              ".list-inline>li:not(:last-child)::after {content: \"\\00b7\"; padding: 0 .5ex}\n",
              "</style>\n",
              "<ol class=list-inline><li>0.639113935952365</li><li>-0.352783741393157</li><li>0.936505537715766</li><li>-0.331147924805388</li><li>-0.751974664514989</li><li>-0.801611566443991</li><li>0.450994610399701</li><li>-1.57980634855052</li><li>0.26364088234526</li><li>0.0145158378787232</li></ol>\n",
              "</li>\n",
              "\t<li><style>\n",
              ".list-inline {list-style: none; margin:0; padding: 0}\n",
              ".list-inline>li {display: inline-block}\n",
              ".list-inline>li:not(:last-child)::after {content: \"\\00b7\"; padding: 0 .5ex}\n",
              "</style>\n",
              "<ol class=list-inline><li>0.589983771660432</li><li>-0.991130078349643</li><li>-0.0152177848342479</li><li>0.696725614562532</li><li>0.412191070801877</li><li>-1.07155166193368</li><li>1.55420896321288</li><li>0.126221468752214</li><li>-0.485839184233186</li><li>-0.544568894721289</li></ol>\n",
              "</li>\n",
              "\t<li><style>\n",
              ".list-inline {list-style: none; margin:0; padding: 0}\n",
              ".list-inline>li {display: inline-block}\n",
              ".list-inline>li:not(:last-child)::after {content: \"\\00b7\"; padding: 0 .5ex}\n",
              "</style>\n",
              "<ol class=list-inline><li>-1.99249355047643</li><li>0.0234847786855749</li><li>-1.51735235714451</li><li>-1.23074471969112</li><li>-1.30832536735102</li><li>0.976010251021374</li><li>-1.41140442679636</li><li>-0.355883088477572</li><li>0.998681372415782</li><li>-0.146040614347765</li></ol>\n",
              "</li>\n",
              "\t<li><style>\n",
              ".list-inline {list-style: none; margin:0; padding: 0}\n",
              ".list-inline>li {display: inline-block}\n",
              ".list-inline>li:not(:last-child)::after {content: \"\\00b7\"; padding: 0 .5ex}\n",
              "</style>\n",
              "<ol class=list-inline><li>-1.55663910128533</li><li>2.18125722626405</li><li>0.448365934034953</li><li>-1.1959081349135</li><li>-1.38407694702384</li><li>-1.02731820355057</li><li>0.501807936283212</li><li>1.60762033694565</li><li>-0.689273720624353</li><li>0.741668821241506</li></ol>\n",
              "</li>\n",
              "\t<li><style>\n",
              ".list-inline {list-style: none; margin:0; padding: 0}\n",
              ".list-inline>li {display: inline-block}\n",
              ".list-inline>li:not(:last-child)::after {content: \"\\00b7\"; padding: 0 .5ex}\n",
              "</style>\n",
              "<ol class=list-inline><li>-0.541543562105329</li><li>-0.889301534102419</li><li>-0.829816438165784</li><li>-2.54811163253341</li><li>1.96632613729312</li><li>0.863556019699123</li><li>-1.07016343806234</li><li>0.0214683818252208</li><li>0.0941785249912383</li><li>-2.08414750868805</li></ol>\n",
              "</li>\n",
              "\t<li><style>\n",
              ".list-inline {list-style: none; margin:0; padding: 0}\n",
              ".list-inline>li {display: inline-block}\n",
              ".list-inline>li:not(:last-child)::after {content: \"\\00b7\"; padding: 0 .5ex}\n",
              "</style>\n",
              "<ol class=list-inline><li>0.0390593181151899</li><li>0.674902421820792</li><li>-0.120965935962998</li><li>1.03158643362064</li><li>-1.26950001797473</li><li>-1.84739155630601</li><li>-2.35451670024658</li><li>-0.654071614285075</li><li>-0.782395727262152</li><li>0.637117639143695</li></ol>\n",
              "</li>\n",
              "\t<li><style>\n",
              ".list-inline {list-style: none; margin:0; padding: 0}\n",
              ".list-inline>li {display: inline-block}\n",
              ".list-inline>li:not(:last-child)::after {content: \"\\00b7\"; padding: 0 .5ex}\n",
              "</style>\n",
              "<ol class=list-inline><li>1.80704518581154</li><li>-2.0186023480329</li><li>-0.0158330139751367</li><li>-0.658100043965843</li><li>-2.08347124201704</li><li>0.855218375689217</li><li>0.272293869110729</li><li>0.307979524695653</li><li>-3.03507356632269</li><li>0.663216568587316</li></ol>\n",
              "</li>\n",
              "\t<li><style>\n",
              ".list-inline {list-style: none; margin:0; padding: 0}\n",
              ".list-inline>li {display: inline-block}\n",
              ".list-inline>li:not(:last-child)::after {content: \"\\00b7\"; padding: 0 .5ex}\n",
              "</style>\n",
              "<ol class=list-inline><li>3.00346225932587</li><li>0.154963261988608</li><li>0.921372138329966</li><li>-0.143214173655133</li><li>1.20917576484028</li><li>-0.363106456486595</li><li>-0.39042898733924</li><li>0.299788538935803</li><li>-0.632026407626534</li><li>1.47057601645934</li></ol>\n",
              "</li>\n",
              "\t<li><style>\n",
              ".list-inline {list-style: none; margin:0; padding: 0}\n",
              ".list-inline>li {display: inline-block}\n",
              ".list-inline>li:not(:last-child)::after {content: \"\\00b7\"; padding: 0 .5ex}\n",
              "</style>\n",
              "<ol class=list-inline><li>-0.489464759846766</li><li>1.05061230291947</li><li>0.0783716269382114</li><li>0.0961921875709237</li><li>-0.083600302674607</li><li>0.576880691704181</li><li>-1.21381107892468</li><li>0.24879376958689</li><li>-0.162886258349463</li><li>1.90368750300523</li></ol>\n",
              "</li>\n",
              "\t<li><style>\n",
              ".list-inline {list-style: none; margin:0; padding: 0}\n",
              ".list-inline>li {display: inline-block}\n",
              ".list-inline>li:not(:last-child)::after {content: \"\\00b7\"; padding: 0 .5ex}\n",
              "</style>\n",
              "<ol class=list-inline><li>-0.933866280443321</li><li>-0.0690959661860695</li><li>1.16443019590468</li><li>-0.194436486192544</li><li>0.23618914656653</li><li>0.696696301568132</li><li>2.43932800821232</li><li>0.485023290076553</li><li>0.734856931236891</li><li>-1.24343425343711</li></ol>\n",
              "</li>\n",
              "</ol>\n"
            ]
          },
          "metadata": {
            "tags": []
          }
        }
      ]
    },
    {
      "cell_type": "code",
      "metadata": {
        "id": "RcPq9l-jTfUA",
        "colab": {
          "base_uri": "https://localhost:8080/",
          "height": 230
        },
        "outputId": "2d3a17ee-1e4a-4506-f7e5-7ec08ed3a570"
      },
      "source": [
        "df2 <- vector(mode = \"list\", length = n_len)\n",
        "for (i in 1:n_len)\n",
        "  df2[[i]] <- rnorm(10)\n",
        "df2"
      ],
      "execution_count": null,
      "outputs": [
        {
          "output_type": "display_data",
          "data": {
            "text/plain": [
              "[[1]]\n",
              " [1]  0.52743505 -0.90886269  1.03574372  0.22652611 -0.88963669  0.72808485\n",
              " [7]  0.07468877  0.93831708 -1.21445971  0.69366390\n",
              "\n",
              "[[2]]\n",
              " [1] -0.8991981  1.3794527 -0.1630155 -0.8610476  1.3932738  1.8208133\n",
              " [7] -1.7513283  1.3299391 -2.1452046  1.9997852\n",
              "\n",
              "[[3]]\n",
              " [1]  0.3140859  0.9923112 -0.1759633 -1.4956647 -0.5351259 -0.5675641\n",
              " [7]  1.6307535  0.1683051  1.9075010 -0.4206986\n",
              "\n",
              "[[4]]\n",
              " [1] -0.6201247  1.6502121 -0.1464198  0.8662909  0.1941911 -0.9192513\n",
              " [7]  0.1374188  1.3628337  1.4666813 -1.4221725\n",
              "\n",
              "[[5]]\n",
              " [1] -1.4378453 -0.1232300 -0.7473429  1.7292908 -1.8621292 -1.3026652\n",
              " [7] -0.4851520  0.7450059  2.5731727  0.2617644\n",
              "\n",
              "[[6]]\n",
              " [1]  0.9918919  0.8194098  0.6537751  1.5731232  2.5049935 -0.8119337\n",
              " [7]  0.1107102  0.7552333 -1.4451167  0.9113512\n",
              "\n",
              "[[7]]\n",
              " [1] -1.7480207 -0.4536697 -0.5805534 -0.2680587 -0.9421824  0.5934837\n",
              " [7]  0.1768781  0.8551443 -0.2033591  1.2810124\n",
              "\n",
              "[[8]]\n",
              " [1] -0.9987953 -0.1471029  1.7755825 -0.5204478  1.3944090 -0.5084039\n",
              " [7] -0.9704586  1.9228476 -0.1769407 -2.2861610\n",
              "\n",
              "[[9]]\n",
              " [1] -0.6937698 -0.1350995 -0.3956007  0.5873083  0.2357904  0.1712018\n",
              " [7]  0.5829747  1.2848006  1.3651692 -0.7767127\n",
              "\n",
              "[[10]]\n",
              " [1] -0.32778981  0.38849485 -0.07921878  1.87462633 -0.95527718 -1.03441315\n",
              " [7] -1.18534636 -0.09218413 -1.07912081  1.97505778\n"
            ],
            "text/latex": "\\begin{enumerate}\n\\item \\begin{enumerate*}\n\\item 0.527435052767475\n\\item -0.908862694447949\n\\item 1.03574371506578\n\\item 0.226526109629489\n\\item -0.889636691854561\n\\item 0.728084854090474\n\\item 0.0746887683207823\n\\item 0.938317080193134\n\\item -1.21445970513375\n\\item 0.693663899454911\n\\end{enumerate*}\n\n\\item \\begin{enumerate*}\n\\item -0.899198138705106\n\\item 1.37945273153438\n\\item -0.163015509552398\n\\item -0.861047568809364\n\\item 1.3932737658112\n\\item 1.82081326105313\n\\item -1.75132830530048\n\\item 1.32993909730363\n\\item -2.145204553213\n\\item 1.99978524720786\n\\end{enumerate*}\n\n\\item \\begin{enumerate*}\n\\item 0.314085888503658\n\\item 0.992311198113056\n\\item -0.175963278768759\n\\item -1.49566469743604\n\\item -0.535125938541176\n\\item -0.567564066776378\n\\item 1.63075352706431\n\\item 0.168305105027333\n\\item 1.907500976623\n\\item -0.420698576850405\n\\end{enumerate*}\n\n\\item \\begin{enumerate*}\n\\item -0.620124655557571\n\\item 1.65021210191044\n\\item -0.146419789944267\n\\item 0.866290933749949\n\\item 0.194191127594865\n\\item -0.919251332797795\n\\item 0.137418760515851\n\\item 1.36283374469187\n\\item 1.46668127142908\n\\item -1.42217253112927\n\\end{enumerate*}\n\n\\item \\begin{enumerate*}\n\\item -1.4378452702579\n\\item -0.123229967375678\n\\item -0.747342880789488\n\\item 1.72929075216771\n\\item -1.86212915268207\n\\item -1.30266518565335\n\\item -0.485151954257331\n\\item 0.745005860765211\n\\item 2.57317272702701\n\\item 0.261764399971645\n\\end{enumerate*}\n\n\\item \\begin{enumerate*}\n\\item 0.991891911639004\n\\item 0.819409797126876\n\\item 0.653775108198827\n\\item 1.57312319375892\n\\item 2.50499353804159\n\\item -0.811933725574801\n\\item 0.110710208318701\n\\item 0.755233309305973\n\\item -1.44511673074853\n\\item 0.911351155774232\n\\end{enumerate*}\n\n\\item \\begin{enumerate*}\n\\item -1.74802068938921\n\\item -0.453669694881376\n\\item -0.580553414848766\n\\item -0.268058698509477\n\\item -0.942182387999814\n\\item 0.593483691237192\n\\item 0.176878069476597\n\\item 0.855144268816518\n\\item -0.203359131955351\n\\item 1.28101239385991\n\\end{enumerate*}\n\n\\item \\begin{enumerate*}\n\\item -0.998795319473758\n\\item -0.14710293158676\n\\item 1.77558251177631\n\\item -0.520447778936392\n\\item 1.39440903916614\n\\item -0.508403873721444\n\\item -0.970458588384363\n\\item 1.92284764745021\n\\item -0.176940731220448\n\\item -2.28616096240891\n\\end{enumerate*}\n\n\\item \\begin{enumerate*}\n\\item -0.693769823791779\n\\item -0.13509951481118\n\\item -0.395600674540698\n\\item 0.58730828671504\n\\item 0.23579035409848\n\\item 0.171201830334755\n\\item 0.582974748344629\n\\item 1.28480055117971\n\\item 1.36516915673918\n\\item -0.776712692792774\n\\end{enumerate*}\n\n\\item \\begin{enumerate*}\n\\item -0.327789807274742\n\\item 0.388494853538806\n\\item -0.0792187794404616\n\\item 1.8746263295525\n\\item -0.955277175400311\n\\item -1.03441315182976\n\\item -1.18534635615574\n\\item -0.0921841281192054\n\\item -1.07912081228517\n\\item 1.97505777896894\n\\end{enumerate*}\n\n\\end{enumerate}\n",
            "text/markdown": "1. 1. 0.527435052767475\n2. -0.908862694447949\n3. 1.03574371506578\n4. 0.226526109629489\n5. -0.889636691854561\n6. 0.728084854090474\n7. 0.0746887683207823\n8. 0.938317080193134\n9. -1.21445970513375\n10. 0.693663899454911\n\n\n\n2. 1. -0.899198138705106\n2. 1.37945273153438\n3. -0.163015509552398\n4. -0.861047568809364\n5. 1.3932737658112\n6. 1.82081326105313\n7. -1.75132830530048\n8. 1.32993909730363\n9. -2.145204553213\n10. 1.99978524720786\n\n\n\n3. 1. 0.314085888503658\n2. 0.992311198113056\n3. -0.175963278768759\n4. -1.49566469743604\n5. -0.535125938541176\n6. -0.567564066776378\n7. 1.63075352706431\n8. 0.168305105027333\n9. 1.907500976623\n10. -0.420698576850405\n\n\n\n4. 1. -0.620124655557571\n2. 1.65021210191044\n3. -0.146419789944267\n4. 0.866290933749949\n5. 0.194191127594865\n6. -0.919251332797795\n7. 0.137418760515851\n8. 1.36283374469187\n9. 1.46668127142908\n10. -1.42217253112927\n\n\n\n5. 1. -1.4378452702579\n2. -0.123229967375678\n3. -0.747342880789488\n4. 1.72929075216771\n5. -1.86212915268207\n6. -1.30266518565335\n7. -0.485151954257331\n8. 0.745005860765211\n9. 2.57317272702701\n10. 0.261764399971645\n\n\n\n6. 1. 0.991891911639004\n2. 0.819409797126876\n3. 0.653775108198827\n4. 1.57312319375892\n5. 2.50499353804159\n6. -0.811933725574801\n7. 0.110710208318701\n8. 0.755233309305973\n9. -1.44511673074853\n10. 0.911351155774232\n\n\n\n7. 1. -1.74802068938921\n2. -0.453669694881376\n3. -0.580553414848766\n4. -0.268058698509477\n5. -0.942182387999814\n6. 0.593483691237192\n7. 0.176878069476597\n8. 0.855144268816518\n9. -0.203359131955351\n10. 1.28101239385991\n\n\n\n8. 1. -0.998795319473758\n2. -0.14710293158676\n3. 1.77558251177631\n4. -0.520447778936392\n5. 1.39440903916614\n6. -0.508403873721444\n7. -0.970458588384363\n8. 1.92284764745021\n9. -0.176940731220448\n10. -2.28616096240891\n\n\n\n9. 1. -0.693769823791779\n2. -0.13509951481118\n3. -0.395600674540698\n4. 0.58730828671504\n5. 0.23579035409848\n6. 0.171201830334755\n7. 0.582974748344629\n8. 1.28480055117971\n9. 1.36516915673918\n10. -0.776712692792774\n\n\n\n10. 1. -0.327789807274742\n2. 0.388494853538806\n3. -0.0792187794404616\n4. 1.8746263295525\n5. -0.955277175400311\n6. -1.03441315182976\n7. -1.18534635615574\n8. -0.0921841281192054\n9. -1.07912081228517\n10. 1.97505777896894\n\n\n\n\n\n",
            "text/html": [
              "<ol>\n",
              "\t<li><style>\n",
              ".list-inline {list-style: none; margin:0; padding: 0}\n",
              ".list-inline>li {display: inline-block}\n",
              ".list-inline>li:not(:last-child)::after {content: \"\\00b7\"; padding: 0 .5ex}\n",
              "</style>\n",
              "<ol class=list-inline><li>0.527435052767475</li><li>-0.908862694447949</li><li>1.03574371506578</li><li>0.226526109629489</li><li>-0.889636691854561</li><li>0.728084854090474</li><li>0.0746887683207823</li><li>0.938317080193134</li><li>-1.21445970513375</li><li>0.693663899454911</li></ol>\n",
              "</li>\n",
              "\t<li><style>\n",
              ".list-inline {list-style: none; margin:0; padding: 0}\n",
              ".list-inline>li {display: inline-block}\n",
              ".list-inline>li:not(:last-child)::after {content: \"\\00b7\"; padding: 0 .5ex}\n",
              "</style>\n",
              "<ol class=list-inline><li>-0.899198138705106</li><li>1.37945273153438</li><li>-0.163015509552398</li><li>-0.861047568809364</li><li>1.3932737658112</li><li>1.82081326105313</li><li>-1.75132830530048</li><li>1.32993909730363</li><li>-2.145204553213</li><li>1.99978524720786</li></ol>\n",
              "</li>\n",
              "\t<li><style>\n",
              ".list-inline {list-style: none; margin:0; padding: 0}\n",
              ".list-inline>li {display: inline-block}\n",
              ".list-inline>li:not(:last-child)::after {content: \"\\00b7\"; padding: 0 .5ex}\n",
              "</style>\n",
              "<ol class=list-inline><li>0.314085888503658</li><li>0.992311198113056</li><li>-0.175963278768759</li><li>-1.49566469743604</li><li>-0.535125938541176</li><li>-0.567564066776378</li><li>1.63075352706431</li><li>0.168305105027333</li><li>1.907500976623</li><li>-0.420698576850405</li></ol>\n",
              "</li>\n",
              "\t<li><style>\n",
              ".list-inline {list-style: none; margin:0; padding: 0}\n",
              ".list-inline>li {display: inline-block}\n",
              ".list-inline>li:not(:last-child)::after {content: \"\\00b7\"; padding: 0 .5ex}\n",
              "</style>\n",
              "<ol class=list-inline><li>-0.620124655557571</li><li>1.65021210191044</li><li>-0.146419789944267</li><li>0.866290933749949</li><li>0.194191127594865</li><li>-0.919251332797795</li><li>0.137418760515851</li><li>1.36283374469187</li><li>1.46668127142908</li><li>-1.42217253112927</li></ol>\n",
              "</li>\n",
              "\t<li><style>\n",
              ".list-inline {list-style: none; margin:0; padding: 0}\n",
              ".list-inline>li {display: inline-block}\n",
              ".list-inline>li:not(:last-child)::after {content: \"\\00b7\"; padding: 0 .5ex}\n",
              "</style>\n",
              "<ol class=list-inline><li>-1.4378452702579</li><li>-0.123229967375678</li><li>-0.747342880789488</li><li>1.72929075216771</li><li>-1.86212915268207</li><li>-1.30266518565335</li><li>-0.485151954257331</li><li>0.745005860765211</li><li>2.57317272702701</li><li>0.261764399971645</li></ol>\n",
              "</li>\n",
              "\t<li><style>\n",
              ".list-inline {list-style: none; margin:0; padding: 0}\n",
              ".list-inline>li {display: inline-block}\n",
              ".list-inline>li:not(:last-child)::after {content: \"\\00b7\"; padding: 0 .5ex}\n",
              "</style>\n",
              "<ol class=list-inline><li>0.991891911639004</li><li>0.819409797126876</li><li>0.653775108198827</li><li>1.57312319375892</li><li>2.50499353804159</li><li>-0.811933725574801</li><li>0.110710208318701</li><li>0.755233309305973</li><li>-1.44511673074853</li><li>0.911351155774232</li></ol>\n",
              "</li>\n",
              "\t<li><style>\n",
              ".list-inline {list-style: none; margin:0; padding: 0}\n",
              ".list-inline>li {display: inline-block}\n",
              ".list-inline>li:not(:last-child)::after {content: \"\\00b7\"; padding: 0 .5ex}\n",
              "</style>\n",
              "<ol class=list-inline><li>-1.74802068938921</li><li>-0.453669694881376</li><li>-0.580553414848766</li><li>-0.268058698509477</li><li>-0.942182387999814</li><li>0.593483691237192</li><li>0.176878069476597</li><li>0.855144268816518</li><li>-0.203359131955351</li><li>1.28101239385991</li></ol>\n",
              "</li>\n",
              "\t<li><style>\n",
              ".list-inline {list-style: none; margin:0; padding: 0}\n",
              ".list-inline>li {display: inline-block}\n",
              ".list-inline>li:not(:last-child)::after {content: \"\\00b7\"; padding: 0 .5ex}\n",
              "</style>\n",
              "<ol class=list-inline><li>-0.998795319473758</li><li>-0.14710293158676</li><li>1.77558251177631</li><li>-0.520447778936392</li><li>1.39440903916614</li><li>-0.508403873721444</li><li>-0.970458588384363</li><li>1.92284764745021</li><li>-0.176940731220448</li><li>-2.28616096240891</li></ol>\n",
              "</li>\n",
              "\t<li><style>\n",
              ".list-inline {list-style: none; margin:0; padding: 0}\n",
              ".list-inline>li {display: inline-block}\n",
              ".list-inline>li:not(:last-child)::after {content: \"\\00b7\"; padding: 0 .5ex}\n",
              "</style>\n",
              "<ol class=list-inline><li>-0.693769823791779</li><li>-0.13509951481118</li><li>-0.395600674540698</li><li>0.58730828671504</li><li>0.23579035409848</li><li>0.171201830334755</li><li>0.582974748344629</li><li>1.28480055117971</li><li>1.36516915673918</li><li>-0.776712692792774</li></ol>\n",
              "</li>\n",
              "\t<li><style>\n",
              ".list-inline {list-style: none; margin:0; padding: 0}\n",
              ".list-inline>li {display: inline-block}\n",
              ".list-inline>li:not(:last-child)::after {content: \"\\00b7\"; padding: 0 .5ex}\n",
              "</style>\n",
              "<ol class=list-inline><li>-0.327789807274742</li><li>0.388494853538806</li><li>-0.0792187794404616</li><li>1.8746263295525</li><li>-0.955277175400311</li><li>-1.03441315182976</li><li>-1.18534635615574</li><li>-0.0921841281192054</li><li>-1.07912081228517</li><li>1.97505777896894</li></ol>\n",
              "</li>\n",
              "</ol>\n"
            ]
          },
          "metadata": {
            "tags": []
          }
        }
      ]
    },
    {
      "cell_type": "code",
      "metadata": {
        "id": "y-y-UswHT3HE"
      },
      "source": [
        "gen1 <- function(n_len) {\n",
        "  rep(10,n_len) %>% map(~rnorm(.))\n",
        "}"
      ],
      "execution_count": null,
      "outputs": []
    },
    {
      "cell_type": "code",
      "metadata": {
        "id": "UWQUYdJBT28N"
      },
      "source": [
        "gen2 <- function(n_len) {\n",
        "  df2 <- vector(mode = \"list\", length = n_len)\n",
        "  for (i in 1:n_len)\n",
        "    df2[[i]] <- rnorm(10)\n",
        "  df2\n",
        "}"
      ],
      "execution_count": null,
      "outputs": []
    },
    {
      "cell_type": "code",
      "metadata": {
        "id": "8rTxkSrwWzIt"
      },
      "source": [
        "gen3 <- function(n_len) {\n",
        "  lapply(rep(10,n_len), rnorm )\n",
        "}"
      ],
      "execution_count": null,
      "outputs": []
    },
    {
      "cell_type": "code",
      "metadata": {
        "id": "yg90aScAUEAV",
        "colab": {
          "base_uri": "https://localhost:8080/",
          "height": 162
        },
        "outputId": "32cfe8ce-4052-4cde-cb33-5ae60a91904f"
      },
      "source": [
        "gen1(5)"
      ],
      "execution_count": null,
      "outputs": [
        {
          "output_type": "display_data",
          "data": {
            "text/plain": [
              "[[1]]\n",
              " [1] -0.49712861  0.05091309 -0.44606287  1.29916012 -0.75930663 -0.74310399\n",
              " [7]  0.07484685  1.39902817  0.59695194  0.90814706\n",
              "\n",
              "[[2]]\n",
              " [1]  0.7431012 -0.8041339  0.3037484  0.1008956  0.5447449 -0.7322523\n",
              " [7] -0.1037679 -1.6007440 -1.0930806  1.2337762\n",
              "\n",
              "[[3]]\n",
              " [1]  0.6262720  0.5761060  1.0666356  0.2129407  0.7748447  0.1972533\n",
              " [7] -1.1542661 -0.3049017  0.3102966  0.8163364\n",
              "\n",
              "[[4]]\n",
              " [1] -0.61274376  0.13759164 -0.62081090  0.17898726  0.95804661  2.60610471\n",
              " [7] -0.47801363 -0.04396463 -0.25997366  0.22741581\n",
              "\n",
              "[[5]]\n",
              " [1]  0.1387129 -0.4904658  1.0748251 -0.2250626  0.4380025  0.2567294\n",
              " [7]  0.1306778 -1.3091760  1.9178766 -0.9971336\n"
            ],
            "text/latex": "\\begin{enumerate}\n\\item \\begin{enumerate*}\n\\item -0.497128608619249\n\\item 0.0509130942867015\n\\item -0.446062871456562\n\\item 1.29916011572344\n\\item -0.759306626609855\n\\item -0.743103986699506\n\\item 0.0748468545719339\n\\item 1.39902816610634\n\\item 0.596951937755438\n\\item 0.908147057570533\n\\end{enumerate*}\n\n\\item \\begin{enumerate*}\n\\item 0.743101242794835\n\\item -0.804133878681423\n\\item 0.303748379237407\n\\item 0.100895555204902\n\\item 0.544744917169434\n\\item -0.732252334872067\n\\item -0.103767948078647\n\\item -1.60074399111085\n\\item -1.09308059408694\n\\item 1.23377623299207\n\\end{enumerate*}\n\n\\item \\begin{enumerate*}\n\\item 0.62627200404655\n\\item 0.576106007400459\n\\item 1.06663558833378\n\\item 0.212940724022339\n\\item 0.774844658371706\n\\item 0.197253302768039\n\\item -1.15426612031909\n\\item -0.304901684762027\n\\item 0.310296564738383\n\\item 0.816336421214581\n\\end{enumerate*}\n\n\\item \\begin{enumerate*}\n\\item -0.612743764579685\n\\item 0.137591644208506\n\\item -0.620810902391252\n\\item 0.178987258017408\n\\item 0.958046610562724\n\\item 2.60610471331167\n\\item -0.478013625650206\n\\item -0.0439646348900331\n\\item -0.25997365600816\n\\item 0.227415806325745\n\\end{enumerate*}\n\n\\item \\begin{enumerate*}\n\\item 0.13871285136749\n\\item -0.490465776068886\n\\item 1.07482505217783\n\\item -0.225062602374196\n\\item 0.438002472175346\n\\item 0.256729405611795\n\\item 0.130677806893343\n\\item -1.30917598059997\n\\item 1.91787657286492\n\\item -0.997133566006147\n\\end{enumerate*}\n\n\\end{enumerate}\n",
            "text/markdown": "1. 1. -0.497128608619249\n2. 0.0509130942867015\n3. -0.446062871456562\n4. 1.29916011572344\n5. -0.759306626609855\n6. -0.743103986699506\n7. 0.0748468545719339\n8. 1.39902816610634\n9. 0.596951937755438\n10. 0.908147057570533\n\n\n\n2. 1. 0.743101242794835\n2. -0.804133878681423\n3. 0.303748379237407\n4. 0.100895555204902\n5. 0.544744917169434\n6. -0.732252334872067\n7. -0.103767948078647\n8. -1.60074399111085\n9. -1.09308059408694\n10. 1.23377623299207\n\n\n\n3. 1. 0.62627200404655\n2. 0.576106007400459\n3. 1.06663558833378\n4. 0.212940724022339\n5. 0.774844658371706\n6. 0.197253302768039\n7. -1.15426612031909\n8. -0.304901684762027\n9. 0.310296564738383\n10. 0.816336421214581\n\n\n\n4. 1. -0.612743764579685\n2. 0.137591644208506\n3. -0.620810902391252\n4. 0.178987258017408\n5. 0.958046610562724\n6. 2.60610471331167\n7. -0.478013625650206\n8. -0.0439646348900331\n9. -0.25997365600816\n10. 0.227415806325745\n\n\n\n5. 1. 0.13871285136749\n2. -0.490465776068886\n3. 1.07482505217783\n4. -0.225062602374196\n5. 0.438002472175346\n6. 0.256729405611795\n7. 0.130677806893343\n8. -1.30917598059997\n9. 1.91787657286492\n10. -0.997133566006147\n\n\n\n\n\n",
            "text/html": [
              "<ol>\n",
              "\t<li><style>\n",
              ".list-inline {list-style: none; margin:0; padding: 0}\n",
              ".list-inline>li {display: inline-block}\n",
              ".list-inline>li:not(:last-child)::after {content: \"\\00b7\"; padding: 0 .5ex}\n",
              "</style>\n",
              "<ol class=list-inline><li>-0.497128608619249</li><li>0.0509130942867015</li><li>-0.446062871456562</li><li>1.29916011572344</li><li>-0.759306626609855</li><li>-0.743103986699506</li><li>0.0748468545719339</li><li>1.39902816610634</li><li>0.596951937755438</li><li>0.908147057570533</li></ol>\n",
              "</li>\n",
              "\t<li><style>\n",
              ".list-inline {list-style: none; margin:0; padding: 0}\n",
              ".list-inline>li {display: inline-block}\n",
              ".list-inline>li:not(:last-child)::after {content: \"\\00b7\"; padding: 0 .5ex}\n",
              "</style>\n",
              "<ol class=list-inline><li>0.743101242794835</li><li>-0.804133878681423</li><li>0.303748379237407</li><li>0.100895555204902</li><li>0.544744917169434</li><li>-0.732252334872067</li><li>-0.103767948078647</li><li>-1.60074399111085</li><li>-1.09308059408694</li><li>1.23377623299207</li></ol>\n",
              "</li>\n",
              "\t<li><style>\n",
              ".list-inline {list-style: none; margin:0; padding: 0}\n",
              ".list-inline>li {display: inline-block}\n",
              ".list-inline>li:not(:last-child)::after {content: \"\\00b7\"; padding: 0 .5ex}\n",
              "</style>\n",
              "<ol class=list-inline><li>0.62627200404655</li><li>0.576106007400459</li><li>1.06663558833378</li><li>0.212940724022339</li><li>0.774844658371706</li><li>0.197253302768039</li><li>-1.15426612031909</li><li>-0.304901684762027</li><li>0.310296564738383</li><li>0.816336421214581</li></ol>\n",
              "</li>\n",
              "\t<li><style>\n",
              ".list-inline {list-style: none; margin:0; padding: 0}\n",
              ".list-inline>li {display: inline-block}\n",
              ".list-inline>li:not(:last-child)::after {content: \"\\00b7\"; padding: 0 .5ex}\n",
              "</style>\n",
              "<ol class=list-inline><li>-0.612743764579685</li><li>0.137591644208506</li><li>-0.620810902391252</li><li>0.178987258017408</li><li>0.958046610562724</li><li>2.60610471331167</li><li>-0.478013625650206</li><li>-0.0439646348900331</li><li>-0.25997365600816</li><li>0.227415806325745</li></ol>\n",
              "</li>\n",
              "\t<li><style>\n",
              ".list-inline {list-style: none; margin:0; padding: 0}\n",
              ".list-inline>li {display: inline-block}\n",
              ".list-inline>li:not(:last-child)::after {content: \"\\00b7\"; padding: 0 .5ex}\n",
              "</style>\n",
              "<ol class=list-inline><li>0.13871285136749</li><li>-0.490465776068886</li><li>1.07482505217783</li><li>-0.225062602374196</li><li>0.438002472175346</li><li>0.256729405611795</li><li>0.130677806893343</li><li>-1.30917598059997</li><li>1.91787657286492</li><li>-0.997133566006147</li></ol>\n",
              "</li>\n",
              "</ol>\n"
            ]
          },
          "metadata": {
            "tags": []
          }
        }
      ]
    },
    {
      "cell_type": "code",
      "metadata": {
        "id": "iVM7W9qZUD2i",
        "colab": {
          "base_uri": "https://localhost:8080/",
          "height": 182
        },
        "outputId": "70c6151e-99d3-4a15-cb34-f097d27740fe"
      },
      "source": [
        "benchmark(\"fc1\"=gen1(1000),\n",
        "          \"fc2\"=gen2(1000),\n",
        "          \"fc3\"=gen3(1000),\n",
        "          replications=100,\n",
        "          columns=c('test', 'elapsed', 'replications'))"
      ],
      "execution_count": null,
      "outputs": [
        {
          "output_type": "display_data",
          "data": {
            "text/plain": [
              "  test elapsed replications\n",
              "1 fc1  0.577   100         \n",
              "2 fc2  0.405   100         \n",
              "3 fc3  0.423   100         "
            ],
            "text/latex": "A data.frame: 3 × 3\n\\begin{tabular}{r|lll}\n  & test & elapsed & replications\\\\\n  & <chr> & <dbl> & <int>\\\\\n\\hline\n\t1 & fc1 & 0.577 & 100\\\\\n\t2 & fc2 & 0.405 & 100\\\\\n\t3 & fc3 & 0.423 & 100\\\\\n\\end{tabular}\n",
            "text/markdown": "\nA data.frame: 3 × 3\n\n| <!--/--> | test &lt;chr&gt; | elapsed &lt;dbl&gt; | replications &lt;int&gt; |\n|---|---|---|---|\n| 1 | fc1 | 0.577 | 100 |\n| 2 | fc2 | 0.405 | 100 |\n| 3 | fc3 | 0.423 | 100 |\n\n",
            "text/html": [
              "<table class=\"dataframe\">\n",
              "<caption>A data.frame: 3 × 3</caption>\n",
              "<thead>\n",
              "\t<tr><th></th><th scope=col>test</th><th scope=col>elapsed</th><th scope=col>replications</th></tr>\n",
              "\t<tr><th></th><th scope=col>&lt;chr&gt;</th><th scope=col>&lt;dbl&gt;</th><th scope=col>&lt;int&gt;</th></tr>\n",
              "</thead>\n",
              "<tbody>\n",
              "\t<tr><th scope=row>1</th><td>fc1</td><td>0.577</td><td>100</td></tr>\n",
              "\t<tr><th scope=row>2</th><td>fc2</td><td>0.405</td><td>100</td></tr>\n",
              "\t<tr><th scope=row>3</th><td>fc3</td><td>0.423</td><td>100</td></tr>\n",
              "</tbody>\n",
              "</table>\n"
            ]
          },
          "metadata": {
            "tags": []
          }
        }
      ]
    },
    {
      "cell_type": "markdown",
      "metadata": {
        "id": "4c-cFefpX1mz"
      },
      "source": [
        "# Something useful\n",
        "- boxplot vs. violinplot\n",
        "- pie chart\n",
        "- 효과적인 2D visualization with t-SNE & UMAP --> 2차원 데이터의 클러스터들을 효과적으로 표현할 수 있는 방법. 최근 PCA보다 자주 쓰이는 듯."
      ]
    },
    {
      "cell_type": "code",
      "metadata": {
        "id": "CjmJpt_QSpyd",
        "colab": {
          "base_uri": "https://localhost:8080/",
          "height": 271
        },
        "outputId": "63021403-52db-4193-ad4d-2072c65aa132"
      },
      "source": [
        "head(diamonds)"
      ],
      "execution_count": 56,
      "outputs": [
        {
          "output_type": "display_data",
          "data": {
            "text/plain": [
              "  carat cut       color clarity depth table price x    y    z   \n",
              "1 0.23  Ideal     E     SI2     61.5  55    326   3.95 3.98 2.43\n",
              "2 0.21  Premium   E     SI1     59.8  61    326   3.89 3.84 2.31\n",
              "3 0.23  Good      E     VS1     56.9  65    327   4.05 4.07 2.31\n",
              "4 0.29  Premium   I     VS2     62.4  58    334   4.20 4.23 2.63\n",
              "5 0.31  Good      J     SI2     63.3  58    335   4.34 4.35 2.75\n",
              "6 0.24  Very Good J     VVS2    62.8  57    336   3.94 3.96 2.48"
            ],
            "text/latex": "A tibble: 6 × 10\n\\begin{tabular}{llllllllll}\n carat & cut & color & clarity & depth & table & price & x & y & z\\\\\n <dbl> & <ord> & <ord> & <ord> & <dbl> & <dbl> & <int> & <dbl> & <dbl> & <dbl>\\\\\n\\hline\n\t 0.23 & Ideal     & E & SI2  & 61.5 & 55 & 326 & 3.95 & 3.98 & 2.43\\\\\n\t 0.21 & Premium   & E & SI1  & 59.8 & 61 & 326 & 3.89 & 3.84 & 2.31\\\\\n\t 0.23 & Good      & E & VS1  & 56.9 & 65 & 327 & 4.05 & 4.07 & 2.31\\\\\n\t 0.29 & Premium   & I & VS2  & 62.4 & 58 & 334 & 4.20 & 4.23 & 2.63\\\\\n\t 0.31 & Good      & J & SI2  & 63.3 & 58 & 335 & 4.34 & 4.35 & 2.75\\\\\n\t 0.24 & Very Good & J & VVS2 & 62.8 & 57 & 336 & 3.94 & 3.96 & 2.48\\\\\n\\end{tabular}\n",
            "text/markdown": "\nA tibble: 6 × 10\n\n| carat &lt;dbl&gt; | cut &lt;ord&gt; | color &lt;ord&gt; | clarity &lt;ord&gt; | depth &lt;dbl&gt; | table &lt;dbl&gt; | price &lt;int&gt; | x &lt;dbl&gt; | y &lt;dbl&gt; | z &lt;dbl&gt; |\n|---|---|---|---|---|---|---|---|---|---|\n| 0.23 | Ideal     | E | SI2  | 61.5 | 55 | 326 | 3.95 | 3.98 | 2.43 |\n| 0.21 | Premium   | E | SI1  | 59.8 | 61 | 326 | 3.89 | 3.84 | 2.31 |\n| 0.23 | Good      | E | VS1  | 56.9 | 65 | 327 | 4.05 | 4.07 | 2.31 |\n| 0.29 | Premium   | I | VS2  | 62.4 | 58 | 334 | 4.20 | 4.23 | 2.63 |\n| 0.31 | Good      | J | SI2  | 63.3 | 58 | 335 | 4.34 | 4.35 | 2.75 |\n| 0.24 | Very Good | J | VVS2 | 62.8 | 57 | 336 | 3.94 | 3.96 | 2.48 |\n\n",
            "text/html": [
              "<table class=\"dataframe\">\n",
              "<caption>A tibble: 6 × 10</caption>\n",
              "<thead>\n",
              "\t<tr><th scope=col>carat</th><th scope=col>cut</th><th scope=col>color</th><th scope=col>clarity</th><th scope=col>depth</th><th scope=col>table</th><th scope=col>price</th><th scope=col>x</th><th scope=col>y</th><th scope=col>z</th></tr>\n",
              "\t<tr><th scope=col>&lt;dbl&gt;</th><th scope=col>&lt;ord&gt;</th><th scope=col>&lt;ord&gt;</th><th scope=col>&lt;ord&gt;</th><th scope=col>&lt;dbl&gt;</th><th scope=col>&lt;dbl&gt;</th><th scope=col>&lt;int&gt;</th><th scope=col>&lt;dbl&gt;</th><th scope=col>&lt;dbl&gt;</th><th scope=col>&lt;dbl&gt;</th></tr>\n",
              "</thead>\n",
              "<tbody>\n",
              "\t<tr><td>0.23</td><td>Ideal    </td><td>E</td><td>SI2 </td><td>61.5</td><td>55</td><td>326</td><td>3.95</td><td>3.98</td><td>2.43</td></tr>\n",
              "\t<tr><td>0.21</td><td>Premium  </td><td>E</td><td>SI1 </td><td>59.8</td><td>61</td><td>326</td><td>3.89</td><td>3.84</td><td>2.31</td></tr>\n",
              "\t<tr><td>0.23</td><td>Good     </td><td>E</td><td>VS1 </td><td>56.9</td><td>65</td><td>327</td><td>4.05</td><td>4.07</td><td>2.31</td></tr>\n",
              "\t<tr><td>0.29</td><td>Premium  </td><td>I</td><td>VS2 </td><td>62.4</td><td>58</td><td>334</td><td>4.20</td><td>4.23</td><td>2.63</td></tr>\n",
              "\t<tr><td>0.31</td><td>Good     </td><td>J</td><td>SI2 </td><td>63.3</td><td>58</td><td>335</td><td>4.34</td><td>4.35</td><td>2.75</td></tr>\n",
              "\t<tr><td>0.24</td><td>Very Good</td><td>J</td><td>VVS2</td><td>62.8</td><td>57</td><td>336</td><td>3.94</td><td>3.96</td><td>2.48</td></tr>\n",
              "</tbody>\n",
              "</table>\n"
            ]
          },
          "metadata": {
            "tags": []
          }
        }
      ]
    },
    {
      "cell_type": "code",
      "metadata": {
        "id": "r5QPfW4gqaXl"
      },
      "source": [
        ""
      ],
      "execution_count": null,
      "outputs": []
    },
    {
      "cell_type": "code",
      "metadata": {
        "id": "XmxSvXSzPsTr",
        "colab": {
          "base_uri": "https://localhost:8080/",
          "height": 437
        },
        "outputId": "81db7288-76bc-4f41-82bf-33f748134774"
      },
      "source": [
        "diamonds %>% ggplot(aes(cut, price)) + geom_boxplot()"
      ],
      "execution_count": 57,
      "outputs": [
        {
          "output_type": "display_data",
          "data": {
            "image/png": "[encoded data removed]",
            "text/plain": [
              "plot without title"
            ]
          },
          "metadata": {
            "tags": [],
            "image/png": {
              "width": 420,
              "height": 420
            }
          }
        }
      ]
    },
    {
      "cell_type": "code",
      "metadata": {
        "id": "_TsUN1MrYS3b",
        "colab": {
          "base_uri": "https://localhost:8080/",
          "height": 437
        },
        "outputId": "f7bf173d-fdd5-455a-9a1b-b762c3ad046c"
      },
      "source": [
        "#이 데이터의 경우 density를 확인하기엔 바이올린 플롯이 더 좋아 보임.\n",
        "diamonds %>% ggplot(aes(cut, price)) + geom_violin()"
      ],
      "execution_count": 58,
      "outputs": [
        {
          "output_type": "display_data",
          "data": {
            "image/png": "[encoded data removed]",
            "text/plain": [
              "plot without title"
            ]
          },
          "metadata": {
            "tags": [],
            "image/png": {
              "width": 420,
              "height": 420
            }
          }
        }
      ]
    },
    {
      "cell_type": "code",
      "metadata": {
        "id": "QEbFu0PeaEKx"
      },
      "source": [
        ""
      ],
      "execution_count": null,
      "outputs": []
    }
  ]
}