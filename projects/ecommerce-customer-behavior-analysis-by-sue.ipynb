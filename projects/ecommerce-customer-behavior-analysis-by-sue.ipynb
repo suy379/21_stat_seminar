{
 "cells": [
  {
   "cell_type": "code",
   "execution_count": 1,
   "id": "studied-dominican",
   "metadata": {
    "_cell_guid": "b1076dfc-b9ad-4769-8c92-a6c4dae69d19",
    "_uuid": "8f2839f25d086af736a60e9eeb907d3b93b6e0e5",
    "execution": {
     "iopub.execute_input": "2021-04-11T03:17:20.117871Z",
     "iopub.status.busy": "2021-04-11T03:17:20.116550Z",
     "iopub.status.idle": "2021-04-11T03:17:20.133742Z",
     "shell.execute_reply": "2021-04-11T03:17:20.134320Z"
    },
    "papermill": {
     "duration": 0.067339,
     "end_time": "2021-04-11T03:17:20.134655",
     "exception": false,
     "start_time": "2021-04-11T03:17:20.067316",
     "status": "completed"
    },
    "tags": []
   },
   "outputs": [
    {
     "name": "stdout",
     "output_type": "stream",
     "text": [
      "/kaggle/input/ecommerce-events-history-in-cosmetics-shop/2019-Nov.csv\n",
      "/kaggle/input/ecommerce-events-history-in-cosmetics-shop/2020-Feb.csv\n",
      "/kaggle/input/ecommerce-events-history-in-cosmetics-shop/2019-Oct.csv\n",
      "/kaggle/input/ecommerce-events-history-in-cosmetics-shop/2019-Dec.csv\n",
      "/kaggle/input/ecommerce-events-history-in-cosmetics-shop/2020-Jan.csv\n"
     ]
    }
   ],
   "source": [
    "# This Python 3 environment comes with many helpful analytics libraries installed\n",
    "# It is defined by the kaggle/python Docker image: https://github.com/kaggle/docker-python\n",
    "# For example, here's several helpful packages to load\n",
    "\n",
    "import numpy as np # linear algebra\n",
    "import pandas as pd # data processing, CSV file I/O (e.g. pd.read_csv)\n",
    "\n",
    "# Input data files are available in the read-only \"../input/\" directory\n",
    "# For example, running this (by clicking run or pressing Shift+Enter) will list all files under the input directory\n",
    "\n",
    "import os\n",
    "for dirname, _, filenames in os.walk('/kaggle/input'):\n",
    "    for filename in filenames:\n",
    "        print(os.path.join(dirname, filename))\n",
    "\n",
    "# You can write up to 20GB to the current directory (/kaggle/working/) that gets preserved as output when you create a version using \"Save & Run All\" \n",
    "# You can also write temporary files to /kaggle/temp/, but they won't be saved outside of the current session"
   ]
  },
  {
   "cell_type": "code",
   "execution_count": 2,
   "id": "fuzzy-hampton",
   "metadata": {
    "execution": {
     "iopub.execute_input": "2021-04-11T03:17:20.224303Z",
     "iopub.status.busy": "2021-04-11T03:17:20.223609Z",
     "iopub.status.idle": "2021-04-11T03:17:20.230656Z",
     "shell.execute_reply": "2021-04-11T03:17:20.230013Z"
    },
    "papermill": {
     "duration": 0.054133,
     "end_time": "2021-04-11T03:17:20.230859",
     "exception": false,
     "start_time": "2021-04-11T03:17:20.176726",
     "status": "completed"
    },
    "tags": []
   },
   "outputs": [],
   "source": [
    "import matplotlib.pyplot as plt\n",
    "import squarify\n",
    "import matplotlib.dates as dates\n",
    "from datetime import datetime\n",
    "\n",
    "%matplotlib inline"
   ]
  },
  {
   "cell_type": "code",
   "execution_count": 3,
   "id": "rocky-joshua",
   "metadata": {
    "execution": {
     "iopub.execute_input": "2021-04-11T03:17:20.316009Z",
     "iopub.status.busy": "2021-04-11T03:17:20.315303Z",
     "iopub.status.idle": "2021-04-11T03:17:34.696457Z",
     "shell.execute_reply": "2021-04-11T03:17:34.697000Z"
    },
    "papermill": {
     "duration": 14.426489,
     "end_time": "2021-04-11T03:17:34.697220",
     "exception": false,
     "start_time": "2021-04-11T03:17:20.270731",
     "status": "completed"
    },
    "tags": []
   },
   "outputs": [
    {
     "data": {
      "text/html": [
       "<div>\n",
       "<style scoped>\n",
       "    .dataframe tbody tr th:only-of-type {\n",
       "        vertical-align: middle;\n",
       "    }\n",
       "\n",
       "    .dataframe tbody tr th {\n",
       "        vertical-align: top;\n",
       "    }\n",
       "\n",
       "    .dataframe thead th {\n",
       "        text-align: right;\n",
       "    }\n",
       "</style>\n",
       "<table border=\"1\" class=\"dataframe\">\n",
       "  <thead>\n",
       "    <tr style=\"text-align: right;\">\n",
       "      <th></th>\n",
       "      <th>event_time</th>\n",
       "      <th>event_type</th>\n",
       "      <th>product_id</th>\n",
       "      <th>category_id</th>\n",
       "      <th>category_code</th>\n",
       "      <th>brand</th>\n",
       "      <th>price</th>\n",
       "      <th>user_id</th>\n",
       "      <th>user_session</th>\n",
       "    </tr>\n",
       "  </thead>\n",
       "  <tbody>\n",
       "    <tr>\n",
       "      <th>0</th>\n",
       "      <td>2019-11-01 00:00:02 UTC</td>\n",
       "      <td>view</td>\n",
       "      <td>5802432</td>\n",
       "      <td>1487580009286598681</td>\n",
       "      <td>NaN</td>\n",
       "      <td>NaN</td>\n",
       "      <td>0.32</td>\n",
       "      <td>562076640</td>\n",
       "      <td>09fafd6c-6c99-46b1-834f-33527f4de241</td>\n",
       "    </tr>\n",
       "    <tr>\n",
       "      <th>1</th>\n",
       "      <td>2019-11-01 00:00:09 UTC</td>\n",
       "      <td>cart</td>\n",
       "      <td>5844397</td>\n",
       "      <td>1487580006317032337</td>\n",
       "      <td>NaN</td>\n",
       "      <td>NaN</td>\n",
       "      <td>2.38</td>\n",
       "      <td>553329724</td>\n",
       "      <td>2067216c-31b5-455d-a1cc-af0575a34ffb</td>\n",
       "    </tr>\n",
       "    <tr>\n",
       "      <th>2</th>\n",
       "      <td>2019-11-01 00:00:10 UTC</td>\n",
       "      <td>view</td>\n",
       "      <td>5837166</td>\n",
       "      <td>1783999064103190764</td>\n",
       "      <td>NaN</td>\n",
       "      <td>pnb</td>\n",
       "      <td>22.22</td>\n",
       "      <td>556138645</td>\n",
       "      <td>57ed222e-a54a-4907-9944-5a875c2d7f4f</td>\n",
       "    </tr>\n",
       "    <tr>\n",
       "      <th>3</th>\n",
       "      <td>2019-11-01 00:00:11 UTC</td>\n",
       "      <td>cart</td>\n",
       "      <td>5876812</td>\n",
       "      <td>1487580010100293687</td>\n",
       "      <td>NaN</td>\n",
       "      <td>jessnail</td>\n",
       "      <td>3.16</td>\n",
       "      <td>564506666</td>\n",
       "      <td>186c1951-8052-4b37-adce-dd9644b1d5f7</td>\n",
       "    </tr>\n",
       "    <tr>\n",
       "      <th>4</th>\n",
       "      <td>2019-11-01 00:00:24 UTC</td>\n",
       "      <td>remove_from_cart</td>\n",
       "      <td>5826182</td>\n",
       "      <td>1487580007483048900</td>\n",
       "      <td>NaN</td>\n",
       "      <td>NaN</td>\n",
       "      <td>3.33</td>\n",
       "      <td>553329724</td>\n",
       "      <td>2067216c-31b5-455d-a1cc-af0575a34ffb</td>\n",
       "    </tr>\n",
       "  </tbody>\n",
       "</table>\n",
       "</div>"
      ],
      "text/plain": [
       "                event_time        event_type  product_id          category_id  \\\n",
       "0  2019-11-01 00:00:02 UTC              view     5802432  1487580009286598681   \n",
       "1  2019-11-01 00:00:09 UTC              cart     5844397  1487580006317032337   \n",
       "2  2019-11-01 00:00:10 UTC              view     5837166  1783999064103190764   \n",
       "3  2019-11-01 00:00:11 UTC              cart     5876812  1487580010100293687   \n",
       "4  2019-11-01 00:00:24 UTC  remove_from_cart     5826182  1487580007483048900   \n",
       "\n",
       "  category_code     brand  price    user_id  \\\n",
       "0           NaN       NaN   0.32  562076640   \n",
       "1           NaN       NaN   2.38  553329724   \n",
       "2           NaN       pnb  22.22  556138645   \n",
       "3           NaN  jessnail   3.16  564506666   \n",
       "4           NaN       NaN   3.33  553329724   \n",
       "\n",
       "                           user_session  \n",
       "0  09fafd6c-6c99-46b1-834f-33527f4de241  \n",
       "1  2067216c-31b5-455d-a1cc-af0575a34ffb  \n",
       "2  57ed222e-a54a-4907-9944-5a875c2d7f4f  \n",
       "3  186c1951-8052-4b37-adce-dd9644b1d5f7  \n",
       "4  2067216c-31b5-455d-a1cc-af0575a34ffb  "
      ]
     },
     "execution_count": 3,
     "metadata": {},
     "output_type": "execute_result"
    }
   ],
   "source": [
    "#2019년 11월 데이터 읽어오기\n",
    "nov = pd.read_csv('/kaggle/input/ecommerce-events-history-in-cosmetics-shop/2019-Nov.csv')\n",
    "nov.head()"
   ]
  },
  {
   "cell_type": "code",
   "execution_count": 4,
   "id": "little-valuation",
   "metadata": {
    "execution": {
     "iopub.execute_input": "2021-04-11T03:17:34.785492Z",
     "iopub.status.busy": "2021-04-11T03:17:34.784723Z",
     "iopub.status.idle": "2021-04-11T03:17:34.804527Z",
     "shell.execute_reply": "2021-04-11T03:17:34.803863Z"
    },
    "papermill": {
     "duration": 0.064619,
     "end_time": "2021-04-11T03:17:34.804687",
     "exception": false,
     "start_time": "2021-04-11T03:17:34.740068",
     "status": "completed"
    },
    "tags": []
   },
   "outputs": [
    {
     "name": "stdout",
     "output_type": "stream",
     "text": [
      "<class 'pandas.core.frame.DataFrame'>\n",
      "RangeIndex: 4635837 entries, 0 to 4635836\n",
      "Data columns (total 9 columns):\n",
      " #   Column         Dtype  \n",
      "---  ------         -----  \n",
      " 0   event_time     object \n",
      " 1   event_type     object \n",
      " 2   product_id     int64  \n",
      " 3   category_id    int64  \n",
      " 4   category_code  object \n",
      " 5   brand          object \n",
      " 6   price          float64\n",
      " 7   user_id        int64  \n",
      " 8   user_session   object \n",
      "dtypes: float64(1), int64(3), object(5)\n",
      "memory usage: 318.3+ MB\n"
     ]
    }
   ],
   "source": [
    "nov.info()"
   ]
  },
  {
   "cell_type": "code",
   "execution_count": 5,
   "id": "occupied-albuquerque",
   "metadata": {
    "execution": {
     "iopub.execute_input": "2021-04-11T03:17:34.891632Z",
     "iopub.status.busy": "2021-04-11T03:17:34.890748Z",
     "iopub.status.idle": "2021-04-11T03:17:34.896321Z",
     "shell.execute_reply": "2021-04-11T03:17:34.895687Z"
    },
    "papermill": {
     "duration": 0.051162,
     "end_time": "2021-04-11T03:17:34.896485",
     "exception": false,
     "start_time": "2021-04-11T03:17:34.845323",
     "status": "completed"
    },
    "tags": []
   },
   "outputs": [
    {
     "data": {
      "text/plain": [
       "(4635837, 9)"
      ]
     },
     "execution_count": 5,
     "metadata": {},
     "output_type": "execute_result"
    }
   ],
   "source": [
    "nov.shape"
   ]
  },
  {
   "cell_type": "code",
   "execution_count": 6,
   "id": "atmospheric-actress",
   "metadata": {
    "execution": {
     "iopub.execute_input": "2021-04-11T03:17:34.990759Z",
     "iopub.status.busy": "2021-04-11T03:17:34.989342Z",
     "iopub.status.idle": "2021-04-11T03:17:36.935710Z",
     "shell.execute_reply": "2021-04-11T03:17:36.936170Z"
    },
    "papermill": {
     "duration": 1.996323,
     "end_time": "2021-04-11T03:17:36.936377",
     "exception": false,
     "start_time": "2021-04-11T03:17:34.940054",
     "status": "completed"
    },
    "tags": []
   },
   "outputs": [
    {
     "data": {
      "text/plain": [
       "event_time             0\n",
       "event_type             0\n",
       "product_id             0\n",
       "category_id            0\n",
       "category_code    4560089\n",
       "brand            1986029\n",
       "price                  0\n",
       "user_id                0\n",
       "user_session         813\n",
       "dtype: int64"
      ]
     },
     "execution_count": 6,
     "metadata": {},
     "output_type": "execute_result"
    }
   ],
   "source": [
    "nov.isna().sum()"
   ]
  },
  {
   "cell_type": "code",
   "execution_count": 7,
   "id": "engaged-sister",
   "metadata": {
    "execution": {
     "iopub.execute_input": "2021-04-11T03:17:37.025201Z",
     "iopub.status.busy": "2021-04-11T03:17:37.024295Z",
     "iopub.status.idle": "2021-04-11T03:17:37.029112Z",
     "shell.execute_reply": "2021-04-11T03:17:37.029621Z"
    },
    "papermill": {
     "duration": 0.05202,
     "end_time": "2021-04-11T03:17:37.029792",
     "exception": false,
     "start_time": "2021-04-11T03:17:36.977772",
     "status": "completed"
    },
    "tags": []
   },
   "outputs": [
    {
     "data": {
      "text/plain": [
       "Index(['event_time', 'event_type', 'product_id', 'category_id',\n",
       "       'category_code', 'brand', 'price', 'user_id', 'user_session'],\n",
       "      dtype='object')"
      ]
     },
     "execution_count": 7,
     "metadata": {},
     "output_type": "execute_result"
    }
   ],
   "source": [
    "nov.columns"
   ]
  },
  {
   "cell_type": "code",
   "execution_count": null,
   "id": "horizontal-journal",
   "metadata": {
    "papermill": {
     "duration": 0.041272,
     "end_time": "2021-04-11T03:17:37.113923",
     "exception": false,
     "start_time": "2021-04-11T03:17:37.072651",
     "status": "completed"
    },
    "tags": []
   },
   "outputs": [],
   "source": []
  },
  {
   "cell_type": "code",
   "execution_count": 8,
   "id": "local-variance",
   "metadata": {
    "execution": {
     "iopub.execute_input": "2021-04-11T03:17:37.539766Z",
     "iopub.status.busy": "2021-04-11T03:17:37.354920Z",
     "iopub.status.idle": "2021-04-11T03:17:37.549943Z",
     "shell.execute_reply": "2021-04-11T03:17:37.549310Z"
    },
    "papermill": {
     "duration": 0.394479,
     "end_time": "2021-04-11T03:17:37.550096",
     "exception": false,
     "start_time": "2021-04-11T03:17:37.155617",
     "status": "completed"
    },
    "tags": []
   },
   "outputs": [
    {
     "data": {
      "text/plain": [
       "appliances.environment.vacuum             32029\n",
       "stationery.cartrige                       13263\n",
       "apparel.glove                             10802\n",
       "furniture.living_room.cabinet              7205\n",
       "accessories.bag                            5833\n",
       "furniture.bathroom.bath                    4839\n",
       "appliances.personal.hair_cutter             815\n",
       "accessories.cosmetic_bag                    606\n",
       "furniture.living_room.chair                 185\n",
       "appliances.environment.air_conditioner      171\n",
       "Name: category_code, dtype: int64"
      ]
     },
     "execution_count": 8,
     "metadata": {},
     "output_type": "execute_result"
    }
   ],
   "source": [
    "nov.category_code.value_counts()"
   ]
  },
  {
   "cell_type": "code",
   "execution_count": 9,
   "id": "prompt-deposit",
   "metadata": {
    "execution": {
     "iopub.execute_input": "2021-04-11T03:17:37.646719Z",
     "iopub.status.busy": "2021-04-11T03:17:37.645806Z",
     "iopub.status.idle": "2021-04-11T03:17:37.650619Z",
     "shell.execute_reply": "2021-04-11T03:17:37.651073Z"
    },
    "papermill": {
     "duration": 0.056868,
     "end_time": "2021-04-11T03:17:37.651268",
     "exception": false,
     "start_time": "2021-04-11T03:17:37.594400",
     "status": "completed"
    },
    "tags": []
   },
   "outputs": [
    {
     "data": {
      "text/plain": [
       "(4635837, 9)"
      ]
     },
     "execution_count": 9,
     "metadata": {},
     "output_type": "execute_result"
    }
   ],
   "source": [
    "nov.shape"
   ]
  },
  {
   "cell_type": "code",
   "execution_count": 10,
   "id": "joint-exposure",
   "metadata": {
    "execution": {
     "iopub.execute_input": "2021-04-11T03:17:37.931617Z",
     "iopub.status.busy": "2021-04-11T03:17:37.930933Z",
     "iopub.status.idle": "2021-04-11T03:17:37.995915Z",
     "shell.execute_reply": "2021-04-11T03:17:37.994900Z"
    },
    "papermill": {
     "duration": 0.299545,
     "end_time": "2021-04-11T03:17:37.996071",
     "exception": false,
     "start_time": "2021-04-11T03:17:37.696526",
     "status": "completed"
    },
    "tags": []
   },
   "outputs": [
    {
     "data": {
      "text/plain": [
       "True     4560089\n",
       "False      75748\n",
       "Name: category_code, dtype: int64"
      ]
     },
     "execution_count": 10,
     "metadata": {},
     "output_type": "execute_result"
    }
   ],
   "source": [
    "(nov['category_code'].isna()).value_counts() #너무 category_code가 nan인게 많다..."
   ]
  },
  {
   "cell_type": "code",
   "execution_count": 11,
   "id": "interested-reference",
   "metadata": {
    "execution": {
     "iopub.execute_input": "2021-04-11T03:17:38.543999Z",
     "iopub.status.busy": "2021-04-11T03:17:38.222848Z",
     "iopub.status.idle": "2021-04-11T03:17:38.890503Z",
     "shell.execute_reply": "2021-04-11T03:17:38.889834Z"
    },
    "papermill": {
     "duration": 0.850504,
     "end_time": "2021-04-11T03:17:38.890651",
     "exception": false,
     "start_time": "2021-04-11T03:17:38.040147",
     "status": "completed"
    },
    "tags": []
   },
   "outputs": [
    {
     "data": {
      "text/html": [
       "<div>\n",
       "<style scoped>\n",
       "    .dataframe tbody tr th:only-of-type {\n",
       "        vertical-align: middle;\n",
       "    }\n",
       "\n",
       "    .dataframe tbody tr th {\n",
       "        vertical-align: top;\n",
       "    }\n",
       "\n",
       "    .dataframe thead th {\n",
       "        text-align: right;\n",
       "    }\n",
       "</style>\n",
       "<table border=\"1\" class=\"dataframe\">\n",
       "  <thead>\n",
       "    <tr style=\"text-align: right;\">\n",
       "      <th></th>\n",
       "      <th>count</th>\n",
       "      <th>mean</th>\n",
       "      <th>std</th>\n",
       "      <th>min</th>\n",
       "      <th>25%</th>\n",
       "      <th>50%</th>\n",
       "      <th>75%</th>\n",
       "      <th>max</th>\n",
       "    </tr>\n",
       "    <tr>\n",
       "      <th>category_code</th>\n",
       "      <th></th>\n",
       "      <th></th>\n",
       "      <th></th>\n",
       "      <th></th>\n",
       "      <th></th>\n",
       "      <th></th>\n",
       "      <th></th>\n",
       "      <th></th>\n",
       "    </tr>\n",
       "  </thead>\n",
       "  <tbody>\n",
       "    <tr>\n",
       "      <th>accessories.bag</th>\n",
       "      <td>5833.0</td>\n",
       "      <td>44.805069</td>\n",
       "      <td>13.529207</td>\n",
       "      <td>0.00</td>\n",
       "      <td>33.33</td>\n",
       "      <td>41.43</td>\n",
       "      <td>53.33</td>\n",
       "      <td>76.19</td>\n",
       "    </tr>\n",
       "    <tr>\n",
       "      <th>accessories.cosmetic_bag</th>\n",
       "      <td>606.0</td>\n",
       "      <td>9.053845</td>\n",
       "      <td>7.926066</td>\n",
       "      <td>3.02</td>\n",
       "      <td>4.44</td>\n",
       "      <td>4.60</td>\n",
       "      <td>5.56</td>\n",
       "      <td>23.81</td>\n",
       "    </tr>\n",
       "    <tr>\n",
       "      <th>apparel.glove</th>\n",
       "      <td>10802.0</td>\n",
       "      <td>6.980182</td>\n",
       "      <td>2.220266</td>\n",
       "      <td>0.00</td>\n",
       "      <td>5.29</td>\n",
       "      <td>6.35</td>\n",
       "      <td>9.14</td>\n",
       "      <td>11.19</td>\n",
       "    </tr>\n",
       "    <tr>\n",
       "      <th>appliances.environment.air_conditioner</th>\n",
       "      <td>171.0</td>\n",
       "      <td>8.005848</td>\n",
       "      <td>4.485715</td>\n",
       "      <td>3.02</td>\n",
       "      <td>4.51</td>\n",
       "      <td>5.79</td>\n",
       "      <td>12.68</td>\n",
       "      <td>23.81</td>\n",
       "    </tr>\n",
       "    <tr>\n",
       "      <th>appliances.environment.vacuum</th>\n",
       "      <td>32029.0</td>\n",
       "      <td>48.000362</td>\n",
       "      <td>28.204351</td>\n",
       "      <td>0.00</td>\n",
       "      <td>24.44</td>\n",
       "      <td>48.41</td>\n",
       "      <td>68.10</td>\n",
       "      <td>102.38</td>\n",
       "    </tr>\n",
       "    <tr>\n",
       "      <th>appliances.personal.hair_cutter</th>\n",
       "      <td>815.0</td>\n",
       "      <td>53.891313</td>\n",
       "      <td>15.989580</td>\n",
       "      <td>18.25</td>\n",
       "      <td>46.02</td>\n",
       "      <td>55.56</td>\n",
       "      <td>57.14</td>\n",
       "      <td>90.48</td>\n",
       "    </tr>\n",
       "    <tr>\n",
       "      <th>furniture.bathroom.bath</th>\n",
       "      <td>4839.0</td>\n",
       "      <td>25.257669</td>\n",
       "      <td>22.988576</td>\n",
       "      <td>1.79</td>\n",
       "      <td>4.16</td>\n",
       "      <td>9.05</td>\n",
       "      <td>52.70</td>\n",
       "      <td>54.76</td>\n",
       "    </tr>\n",
       "    <tr>\n",
       "      <th>furniture.living_room.cabinet</th>\n",
       "      <td>7205.0</td>\n",
       "      <td>167.446415</td>\n",
       "      <td>98.078611</td>\n",
       "      <td>0.00</td>\n",
       "      <td>79.35</td>\n",
       "      <td>150.79</td>\n",
       "      <td>299.81</td>\n",
       "      <td>299.81</td>\n",
       "    </tr>\n",
       "    <tr>\n",
       "      <th>furniture.living_room.chair</th>\n",
       "      <td>185.0</td>\n",
       "      <td>127.062162</td>\n",
       "      <td>40.056931</td>\n",
       "      <td>93.33</td>\n",
       "      <td>93.33</td>\n",
       "      <td>93.33</td>\n",
       "      <td>177.78</td>\n",
       "      <td>177.78</td>\n",
       "    </tr>\n",
       "    <tr>\n",
       "      <th>stationery.cartrige</th>\n",
       "      <td>13263.0</td>\n",
       "      <td>2.361914</td>\n",
       "      <td>1.590481</td>\n",
       "      <td>0.00</td>\n",
       "      <td>1.98</td>\n",
       "      <td>1.98</td>\n",
       "      <td>2.22</td>\n",
       "      <td>18.73</td>\n",
       "    </tr>\n",
       "  </tbody>\n",
       "</table>\n",
       "</div>"
      ],
      "text/plain": [
       "                                          count        mean        std    min  \\\n",
       "category_code                                                                   \n",
       "accessories.bag                          5833.0   44.805069  13.529207   0.00   \n",
       "accessories.cosmetic_bag                  606.0    9.053845   7.926066   3.02   \n",
       "apparel.glove                           10802.0    6.980182   2.220266   0.00   \n",
       "appliances.environment.air_conditioner    171.0    8.005848   4.485715   3.02   \n",
       "appliances.environment.vacuum           32029.0   48.000362  28.204351   0.00   \n",
       "appliances.personal.hair_cutter           815.0   53.891313  15.989580  18.25   \n",
       "furniture.bathroom.bath                  4839.0   25.257669  22.988576   1.79   \n",
       "furniture.living_room.cabinet            7205.0  167.446415  98.078611   0.00   \n",
       "furniture.living_room.chair               185.0  127.062162  40.056931  93.33   \n",
       "stationery.cartrige                     13263.0    2.361914   1.590481   0.00   \n",
       "\n",
       "                                          25%     50%     75%     max  \n",
       "category_code                                                          \n",
       "accessories.bag                         33.33   41.43   53.33   76.19  \n",
       "accessories.cosmetic_bag                 4.44    4.60    5.56   23.81  \n",
       "apparel.glove                            5.29    6.35    9.14   11.19  \n",
       "appliances.environment.air_conditioner   4.51    5.79   12.68   23.81  \n",
       "appliances.environment.vacuum           24.44   48.41   68.10  102.38  \n",
       "appliances.personal.hair_cutter         46.02   55.56   57.14   90.48  \n",
       "furniture.bathroom.bath                  4.16    9.05   52.70   54.76  \n",
       "furniture.living_room.cabinet           79.35  150.79  299.81  299.81  \n",
       "furniture.living_room.chair             93.33   93.33  177.78  177.78  \n",
       "stationery.cartrige                      1.98    1.98    2.22   18.73  "
      ]
     },
     "execution_count": 11,
     "metadata": {},
     "output_type": "execute_result"
    }
   ],
   "source": [
    "nov.groupby('category_code')['price'].describe()"
   ]
  },
  {
   "cell_type": "code",
   "execution_count": 12,
   "id": "configured-conclusion",
   "metadata": {
    "execution": {
     "iopub.execute_input": "2021-04-11T03:17:39.425965Z",
     "iopub.status.busy": "2021-04-11T03:17:39.425090Z",
     "iopub.status.idle": "2021-04-11T03:17:40.576440Z",
     "shell.execute_reply": "2021-04-11T03:17:40.577149Z"
    },
    "papermill": {
     "duration": 1.641975,
     "end_time": "2021-04-11T03:17:40.577405",
     "exception": false,
     "start_time": "2021-04-11T03:17:38.935430",
     "status": "completed"
    },
    "tags": []
   },
   "outputs": [
    {
     "data": {
      "text/html": [
       "<div>\n",
       "<style scoped>\n",
       "    .dataframe tbody tr th:only-of-type {\n",
       "        vertical-align: middle;\n",
       "    }\n",
       "\n",
       "    .dataframe tbody tr th {\n",
       "        vertical-align: top;\n",
       "    }\n",
       "\n",
       "    .dataframe thead th {\n",
       "        text-align: right;\n",
       "    }\n",
       "</style>\n",
       "<table border=\"1\" class=\"dataframe\">\n",
       "  <thead>\n",
       "    <tr style=\"text-align: right;\">\n",
       "      <th></th>\n",
       "      <th></th>\n",
       "      <th>count</th>\n",
       "      <th>mean</th>\n",
       "      <th>std</th>\n",
       "      <th>min</th>\n",
       "      <th>25%</th>\n",
       "      <th>50%</th>\n",
       "      <th>75%</th>\n",
       "      <th>max</th>\n",
       "    </tr>\n",
       "    <tr>\n",
       "      <th>category_code</th>\n",
       "      <th>brand</th>\n",
       "      <th></th>\n",
       "      <th></th>\n",
       "      <th></th>\n",
       "      <th></th>\n",
       "      <th></th>\n",
       "      <th></th>\n",
       "      <th></th>\n",
       "      <th></th>\n",
       "    </tr>\n",
       "  </thead>\n",
       "  <tbody>\n",
       "    <tr>\n",
       "      <th rowspan=\"2\" valign=\"top\">accessories.bag</th>\n",
       "      <th>irisk</th>\n",
       "      <td>2.0</td>\n",
       "      <td>21.430000</td>\n",
       "      <td>3.365828e+00</td>\n",
       "      <td>19.05</td>\n",
       "      <td>20.240</td>\n",
       "      <td>21.430</td>\n",
       "      <td>22.6200</td>\n",
       "      <td>23.81</td>\n",
       "    </tr>\n",
       "    <tr>\n",
       "      <th>vosev</th>\n",
       "      <td>1004.0</td>\n",
       "      <td>59.876534</td>\n",
       "      <td>4.174755e+00</td>\n",
       "      <td>53.29</td>\n",
       "      <td>53.290</td>\n",
       "      <td>62.700</td>\n",
       "      <td>62.7000</td>\n",
       "      <td>62.70</td>\n",
       "    </tr>\n",
       "    <tr>\n",
       "      <th rowspan=\"2\" valign=\"top\">accessories.cosmetic_bag</th>\n",
       "      <th>irisk</th>\n",
       "      <td>6.0</td>\n",
       "      <td>3.020000</td>\n",
       "      <td>0.000000e+00</td>\n",
       "      <td>3.02</td>\n",
       "      <td>3.020</td>\n",
       "      <td>3.020</td>\n",
       "      <td>3.0200</td>\n",
       "      <td>3.02</td>\n",
       "    </tr>\n",
       "    <tr>\n",
       "      <th>shik</th>\n",
       "      <td>141.0</td>\n",
       "      <td>23.396454</td>\n",
       "      <td>5.686766e-01</td>\n",
       "      <td>22.62</td>\n",
       "      <td>22.620</td>\n",
       "      <td>23.810</td>\n",
       "      <td>23.8100</td>\n",
       "      <td>23.81</td>\n",
       "    </tr>\n",
       "    <tr>\n",
       "      <th rowspan=\"7\" valign=\"top\">apparel.glove</th>\n",
       "      <th>irisk</th>\n",
       "      <td>4.0</td>\n",
       "      <td>4.000000</td>\n",
       "      <td>4.200000e-01</td>\n",
       "      <td>3.37</td>\n",
       "      <td>4.000</td>\n",
       "      <td>4.210</td>\n",
       "      <td>4.2100</td>\n",
       "      <td>4.21</td>\n",
       "    </tr>\n",
       "    <tr>\n",
       "      <th>benovy</th>\n",
       "      <td>4145.0</td>\n",
       "      <td>6.849689</td>\n",
       "      <td>1.525946e+00</td>\n",
       "      <td>5.10</td>\n",
       "      <td>5.620</td>\n",
       "      <td>6.650</td>\n",
       "      <td>7.1600</td>\n",
       "      <td>11.19</td>\n",
       "    </tr>\n",
       "    <tr>\n",
       "      <th>domix</th>\n",
       "      <td>298.0</td>\n",
       "      <td>0.940000</td>\n",
       "      <td>1.890554e-15</td>\n",
       "      <td>0.94</td>\n",
       "      <td>0.940</td>\n",
       "      <td>0.940</td>\n",
       "      <td>0.9400</td>\n",
       "      <td>0.94</td>\n",
       "    </tr>\n",
       "    <tr>\n",
       "      <th>mavala</th>\n",
       "      <td>134.0</td>\n",
       "      <td>7.599552</td>\n",
       "      <td>3.301535e-01</td>\n",
       "      <td>7.00</td>\n",
       "      <td>7.780</td>\n",
       "      <td>7.780</td>\n",
       "      <td>7.7800</td>\n",
       "      <td>7.78</td>\n",
       "    </tr>\n",
       "    <tr>\n",
       "      <th>naomi</th>\n",
       "      <td>160.0</td>\n",
       "      <td>9.042500</td>\n",
       "      <td>5.180940e-01</td>\n",
       "      <td>7.87</td>\n",
       "      <td>9.270</td>\n",
       "      <td>9.270</td>\n",
       "      <td>9.2700</td>\n",
       "      <td>9.27</td>\n",
       "    </tr>\n",
       "    <tr>\n",
       "      <th>nitrile</th>\n",
       "      <td>1077.0</td>\n",
       "      <td>9.302312</td>\n",
       "      <td>3.563703e-01</td>\n",
       "      <td>8.29</td>\n",
       "      <td>9.050</td>\n",
       "      <td>9.520</td>\n",
       "      <td>9.5200</td>\n",
       "      <td>9.52</td>\n",
       "    </tr>\n",
       "    <tr>\n",
       "      <th>nitrimax</th>\n",
       "      <td>1561.0</td>\n",
       "      <td>9.904939</td>\n",
       "      <td>6.079276e-01</td>\n",
       "      <td>8.13</td>\n",
       "      <td>10.160</td>\n",
       "      <td>10.160</td>\n",
       "      <td>10.3200</td>\n",
       "      <td>10.32</td>\n",
       "    </tr>\n",
       "    <tr>\n",
       "      <th rowspan=\"9\" valign=\"top\">appliances.environment.air_conditioner</th>\n",
       "      <th>cutrin</th>\n",
       "      <td>38.0</td>\n",
       "      <td>12.950789</td>\n",
       "      <td>4.274335e-01</td>\n",
       "      <td>12.29</td>\n",
       "      <td>12.290</td>\n",
       "      <td>13.220</td>\n",
       "      <td>13.2200</td>\n",
       "      <td>13.22</td>\n",
       "    </tr>\n",
       "    <tr>\n",
       "      <th>estel</th>\n",
       "      <td>11.0</td>\n",
       "      <td>10.397273</td>\n",
       "      <td>2.794466e+00</td>\n",
       "      <td>5.95</td>\n",
       "      <td>8.810</td>\n",
       "      <td>11.900</td>\n",
       "      <td>12.2900</td>\n",
       "      <td>12.68</td>\n",
       "    </tr>\n",
       "    <tr>\n",
       "      <th>farmavita</th>\n",
       "      <td>11.0</td>\n",
       "      <td>13.920909</td>\n",
       "      <td>8.247964e-01</td>\n",
       "      <td>11.73</td>\n",
       "      <td>13.810</td>\n",
       "      <td>14.440</td>\n",
       "      <td>14.4400</td>\n",
       "      <td>14.44</td>\n",
       "    </tr>\n",
       "    <tr>\n",
       "      <th>kaaral</th>\n",
       "      <td>2.0</td>\n",
       "      <td>3.020000</td>\n",
       "      <td>0.000000e+00</td>\n",
       "      <td>3.02</td>\n",
       "      <td>3.020</td>\n",
       "      <td>3.020</td>\n",
       "      <td>3.0200</td>\n",
       "      <td>3.02</td>\n",
       "    </tr>\n",
       "    <tr>\n",
       "      <th>kapous</th>\n",
       "      <td>3.0</td>\n",
       "      <td>5.790000</td>\n",
       "      <td>0.000000e+00</td>\n",
       "      <td>5.79</td>\n",
       "      <td>5.790</td>\n",
       "      <td>5.790</td>\n",
       "      <td>5.7900</td>\n",
       "      <td>5.79</td>\n",
       "    </tr>\n",
       "    <tr>\n",
       "      <th>markell</th>\n",
       "      <td>3.0</td>\n",
       "      <td>3.250000</td>\n",
       "      <td>0.000000e+00</td>\n",
       "      <td>3.25</td>\n",
       "      <td>3.250</td>\n",
       "      <td>3.250</td>\n",
       "      <td>3.2500</td>\n",
       "      <td>3.25</td>\n",
       "    </tr>\n",
       "    <tr>\n",
       "      <th>matrix</th>\n",
       "      <td>4.0</td>\n",
       "      <td>22.025000</td>\n",
       "      <td>3.570000e+00</td>\n",
       "      <td>16.67</td>\n",
       "      <td>22.025</td>\n",
       "      <td>23.810</td>\n",
       "      <td>23.8100</td>\n",
       "      <td>23.81</td>\n",
       "    </tr>\n",
       "    <tr>\n",
       "      <th>nirvel</th>\n",
       "      <td>97.0</td>\n",
       "      <td>4.901134</td>\n",
       "      <td>7.561152e-01</td>\n",
       "      <td>4.51</td>\n",
       "      <td>4.510</td>\n",
       "      <td>4.510</td>\n",
       "      <td>4.5100</td>\n",
       "      <td>6.44</td>\n",
       "    </tr>\n",
       "    <tr>\n",
       "      <th>ypsed</th>\n",
       "      <td>2.0</td>\n",
       "      <td>6.350000</td>\n",
       "      <td>0.000000e+00</td>\n",
       "      <td>6.35</td>\n",
       "      <td>6.350</td>\n",
       "      <td>6.350</td>\n",
       "      <td>6.3500</td>\n",
       "      <td>6.35</td>\n",
       "    </tr>\n",
       "    <tr>\n",
       "      <th rowspan=\"7\" valign=\"top\">appliances.environment.vacuum</th>\n",
       "      <th>irisk</th>\n",
       "      <td>2057.0</td>\n",
       "      <td>25.365095</td>\n",
       "      <td>5.069681e+00</td>\n",
       "      <td>8.89</td>\n",
       "      <td>22.870</td>\n",
       "      <td>24.600</td>\n",
       "      <td>29.3700</td>\n",
       "      <td>62.70</td>\n",
       "    </tr>\n",
       "    <tr>\n",
       "      <th>emil</th>\n",
       "      <td>4799.0</td>\n",
       "      <td>52.995607</td>\n",
       "      <td>2.395109e+01</td>\n",
       "      <td>1.22</td>\n",
       "      <td>48.410</td>\n",
       "      <td>55.560</td>\n",
       "      <td>71.4300</td>\n",
       "      <td>93.65</td>\n",
       "    </tr>\n",
       "    <tr>\n",
       "      <th>jessnail</th>\n",
       "      <td>3536.0</td>\n",
       "      <td>32.217110</td>\n",
       "      <td>1.488519e+01</td>\n",
       "      <td>5.30</td>\n",
       "      <td>21.430</td>\n",
       "      <td>21.430</td>\n",
       "      <td>46.8300</td>\n",
       "      <td>63.33</td>\n",
       "    </tr>\n",
       "    <tr>\n",
       "      <th>kosmekka</th>\n",
       "      <td>11.0</td>\n",
       "      <td>60.524545</td>\n",
       "      <td>2.861950e+01</td>\n",
       "      <td>31.73</td>\n",
       "      <td>31.730</td>\n",
       "      <td>74.600</td>\n",
       "      <td>84.5200</td>\n",
       "      <td>94.44</td>\n",
       "    </tr>\n",
       "    <tr>\n",
       "      <th>max</th>\n",
       "      <td>7248.0</td>\n",
       "      <td>71.052936</td>\n",
       "      <td>2.504059e+01</td>\n",
       "      <td>1.92</td>\n",
       "      <td>47.460</td>\n",
       "      <td>79.210</td>\n",
       "      <td>95.0800</td>\n",
       "      <td>95.08</td>\n",
       "    </tr>\n",
       "    <tr>\n",
       "      <th>polarus</th>\n",
       "      <td>7214.0</td>\n",
       "      <td>62.715664</td>\n",
       "      <td>2.289188e+01</td>\n",
       "      <td>1.17</td>\n",
       "      <td>53.810</td>\n",
       "      <td>63.320</td>\n",
       "      <td>78.5700</td>\n",
       "      <td>102.38</td>\n",
       "    </tr>\n",
       "    <tr>\n",
       "      <th>runail</th>\n",
       "      <td>4011.0</td>\n",
       "      <td>25.519018</td>\n",
       "      <td>3.005683e+00</td>\n",
       "      <td>19.56</td>\n",
       "      <td>24.440</td>\n",
       "      <td>24.440</td>\n",
       "      <td>26.9200</td>\n",
       "      <td>30.95</td>\n",
       "    </tr>\n",
       "    <tr>\n",
       "      <th>appliances.personal.hair_cutter</th>\n",
       "      <th>jaguar</th>\n",
       "      <td>113.0</td>\n",
       "      <td>84.951150</td>\n",
       "      <td>5.602320e+00</td>\n",
       "      <td>77.56</td>\n",
       "      <td>77.560</td>\n",
       "      <td>89.160</td>\n",
       "      <td>89.1600</td>\n",
       "      <td>89.16</td>\n",
       "    </tr>\n",
       "    <tr>\n",
       "      <th rowspan=\"10\" valign=\"top\">furniture.bathroom.bath</th>\n",
       "      <th>irisk</th>\n",
       "      <td>1802.0</td>\n",
       "      <td>49.443479</td>\n",
       "      <td>1.146264e+01</td>\n",
       "      <td>1.79</td>\n",
       "      <td>49.290</td>\n",
       "      <td>52.700</td>\n",
       "      <td>54.7600</td>\n",
       "      <td>54.76</td>\n",
       "    </tr>\n",
       "    <tr>\n",
       "      <th>domix</th>\n",
       "      <td>1521.0</td>\n",
       "      <td>4.035595</td>\n",
       "      <td>3.961799e-01</td>\n",
       "      <td>3.41</td>\n",
       "      <td>4.160</td>\n",
       "      <td>4.160</td>\n",
       "      <td>4.1600</td>\n",
       "      <td>4.71</td>\n",
       "    </tr>\n",
       "    <tr>\n",
       "      <th>runail</th>\n",
       "      <td>294.0</td>\n",
       "      <td>52.787823</td>\n",
       "      <td>2.630945e+00</td>\n",
       "      <td>49.29</td>\n",
       "      <td>49.290</td>\n",
       "      <td>54.760</td>\n",
       "      <td>54.7600</td>\n",
       "      <td>54.76</td>\n",
       "    </tr>\n",
       "    <tr>\n",
       "      <th>entity</th>\n",
       "      <td>29.0</td>\n",
       "      <td>8.620000</td>\n",
       "      <td>3.615598e-15</td>\n",
       "      <td>8.62</td>\n",
       "      <td>8.620</td>\n",
       "      <td>8.620</td>\n",
       "      <td>8.6200</td>\n",
       "      <td>8.62</td>\n",
       "    </tr>\n",
       "    <tr>\n",
       "      <th>farmona</th>\n",
       "      <td>79.0</td>\n",
       "      <td>22.511519</td>\n",
       "      <td>5.408907e+00</td>\n",
       "      <td>13.89</td>\n",
       "      <td>16.480</td>\n",
       "      <td>25.210</td>\n",
       "      <td>28.0200</td>\n",
       "      <td>28.02</td>\n",
       "    </tr>\n",
       "    <tr>\n",
       "      <th>gehwol</th>\n",
       "      <td>77.0</td>\n",
       "      <td>16.212208</td>\n",
       "      <td>6.460622e-01</td>\n",
       "      <td>14.75</td>\n",
       "      <td>15.860</td>\n",
       "      <td>16.670</td>\n",
       "      <td>16.6700</td>\n",
       "      <td>16.67</td>\n",
       "    </tr>\n",
       "    <tr>\n",
       "      <th>kinetics</th>\n",
       "      <td>68.0</td>\n",
       "      <td>15.610000</td>\n",
       "      <td>1.000666e+01</td>\n",
       "      <td>7.68</td>\n",
       "      <td>9.050</td>\n",
       "      <td>9.050</td>\n",
       "      <td>30.9500</td>\n",
       "      <td>30.95</td>\n",
       "    </tr>\n",
       "    <tr>\n",
       "      <th>masura</th>\n",
       "      <td>10.0</td>\n",
       "      <td>9.445000</td>\n",
       "      <td>5.112688e+00</td>\n",
       "      <td>4.27</td>\n",
       "      <td>4.270</td>\n",
       "      <td>10.145</td>\n",
       "      <td>14.2700</td>\n",
       "      <td>14.27</td>\n",
       "    </tr>\n",
       "    <tr>\n",
       "      <th>milv</th>\n",
       "      <td>158.0</td>\n",
       "      <td>4.482468</td>\n",
       "      <td>3.771054e-01</td>\n",
       "      <td>3.81</td>\n",
       "      <td>4.430</td>\n",
       "      <td>4.760</td>\n",
       "      <td>4.7600</td>\n",
       "      <td>4.76</td>\n",
       "    </tr>\n",
       "    <tr>\n",
       "      <th>oniq</th>\n",
       "      <td>6.0</td>\n",
       "      <td>9.813333</td>\n",
       "      <td>1.145106e+00</td>\n",
       "      <td>8.10</td>\n",
       "      <td>9.520</td>\n",
       "      <td>9.520</td>\n",
       "      <td>10.7125</td>\n",
       "      <td>11.11</td>\n",
       "    </tr>\n",
       "    <tr>\n",
       "      <th rowspan=\"3\" valign=\"top\">furniture.living_room.cabinet</th>\n",
       "      <th>irisk</th>\n",
       "      <td>408.0</td>\n",
       "      <td>94.208995</td>\n",
       "      <td>6.388650e+00</td>\n",
       "      <td>83.65</td>\n",
       "      <td>85.620</td>\n",
       "      <td>98.410</td>\n",
       "      <td>98.4100</td>\n",
       "      <td>98.41</td>\n",
       "    </tr>\n",
       "    <tr>\n",
       "      <th>kosmekka</th>\n",
       "      <td>1429.0</td>\n",
       "      <td>143.773128</td>\n",
       "      <td>1.464699e+01</td>\n",
       "      <td>105.56</td>\n",
       "      <td>150.790</td>\n",
       "      <td>150.790</td>\n",
       "      <td>150.7900</td>\n",
       "      <td>150.79</td>\n",
       "    </tr>\n",
       "    <tr>\n",
       "      <th>runail</th>\n",
       "      <td>955.0</td>\n",
       "      <td>81.639340</td>\n",
       "      <td>1.531469e+00</td>\n",
       "      <td>78.41</td>\n",
       "      <td>80.060</td>\n",
       "      <td>82.540</td>\n",
       "      <td>82.5400</td>\n",
       "      <td>82.54</td>\n",
       "    </tr>\n",
       "    <tr>\n",
       "      <th rowspan=\"5\" valign=\"top\">stationery.cartrige</th>\n",
       "      <th>runail</th>\n",
       "      <td>364.0</td>\n",
       "      <td>2.134753</td>\n",
       "      <td>1.290597e-01</td>\n",
       "      <td>1.89</td>\n",
       "      <td>2.000</td>\n",
       "      <td>2.220</td>\n",
       "      <td>2.2200</td>\n",
       "      <td>2.38</td>\n",
       "    </tr>\n",
       "    <tr>\n",
       "      <th>depilflax</th>\n",
       "      <td>1820.0</td>\n",
       "      <td>2.968302</td>\n",
       "      <td>9.558608e-02</td>\n",
       "      <td>2.22</td>\n",
       "      <td>2.920</td>\n",
       "      <td>3.020</td>\n",
       "      <td>3.0200</td>\n",
       "      <td>3.02</td>\n",
       "    </tr>\n",
       "    <tr>\n",
       "      <th>italwax</th>\n",
       "      <td>9379.0</td>\n",
       "      <td>2.041404</td>\n",
       "      <td>3.526071e-01</td>\n",
       "      <td>1.78</td>\n",
       "      <td>1.920</td>\n",
       "      <td>1.980</td>\n",
       "      <td>1.9800</td>\n",
       "      <td>3.65</td>\n",
       "    </tr>\n",
       "    <tr>\n",
       "      <th>profepil</th>\n",
       "      <td>107.0</td>\n",
       "      <td>2.638785</td>\n",
       "      <td>1.056044e-01</td>\n",
       "      <td>2.43</td>\n",
       "      <td>2.535</td>\n",
       "      <td>2.700</td>\n",
       "      <td>2.7000</td>\n",
       "      <td>2.70</td>\n",
       "    </tr>\n",
       "    <tr>\n",
       "      <th>yoko</th>\n",
       "      <td>369.0</td>\n",
       "      <td>2.503144</td>\n",
       "      <td>5.452676e-01</td>\n",
       "      <td>1.89</td>\n",
       "      <td>2.170</td>\n",
       "      <td>2.170</td>\n",
       "      <td>2.7800</td>\n",
       "      <td>3.44</td>\n",
       "    </tr>\n",
       "  </tbody>\n",
       "</table>\n",
       "</div>"
      ],
      "text/plain": [
       "                                                   count        mean  \\\n",
       "category_code                          brand                           \n",
       "accessories.bag                        irisk         2.0   21.430000   \n",
       "                                       vosev      1004.0   59.876534   \n",
       "accessories.cosmetic_bag               irisk         6.0    3.020000   \n",
       "                                       shik        141.0   23.396454   \n",
       "apparel.glove                          irisk         4.0    4.000000   \n",
       "                                       benovy     4145.0    6.849689   \n",
       "                                       domix       298.0    0.940000   \n",
       "                                       mavala      134.0    7.599552   \n",
       "                                       naomi       160.0    9.042500   \n",
       "                                       nitrile    1077.0    9.302312   \n",
       "                                       nitrimax   1561.0    9.904939   \n",
       "appliances.environment.air_conditioner cutrin       38.0   12.950789   \n",
       "                                       estel        11.0   10.397273   \n",
       "                                       farmavita    11.0   13.920909   \n",
       "                                       kaaral        2.0    3.020000   \n",
       "                                       kapous        3.0    5.790000   \n",
       "                                       markell       3.0    3.250000   \n",
       "                                       matrix        4.0   22.025000   \n",
       "                                       nirvel       97.0    4.901134   \n",
       "                                       ypsed         2.0    6.350000   \n",
       "appliances.environment.vacuum          irisk      2057.0   25.365095   \n",
       "                                       emil       4799.0   52.995607   \n",
       "                                       jessnail   3536.0   32.217110   \n",
       "                                       kosmekka     11.0   60.524545   \n",
       "                                       max        7248.0   71.052936   \n",
       "                                       polarus    7214.0   62.715664   \n",
       "                                       runail     4011.0   25.519018   \n",
       "appliances.personal.hair_cutter        jaguar      113.0   84.951150   \n",
       "furniture.bathroom.bath                irisk      1802.0   49.443479   \n",
       "                                       domix      1521.0    4.035595   \n",
       "                                       runail      294.0   52.787823   \n",
       "                                       entity       29.0    8.620000   \n",
       "                                       farmona      79.0   22.511519   \n",
       "                                       gehwol       77.0   16.212208   \n",
       "                                       kinetics     68.0   15.610000   \n",
       "                                       masura       10.0    9.445000   \n",
       "                                       milv        158.0    4.482468   \n",
       "                                       oniq          6.0    9.813333   \n",
       "furniture.living_room.cabinet          irisk       408.0   94.208995   \n",
       "                                       kosmekka   1429.0  143.773128   \n",
       "                                       runail      955.0   81.639340   \n",
       "stationery.cartrige                    runail      364.0    2.134753   \n",
       "                                       depilflax  1820.0    2.968302   \n",
       "                                       italwax    9379.0    2.041404   \n",
       "                                       profepil    107.0    2.638785   \n",
       "                                       yoko        369.0    2.503144   \n",
       "\n",
       "                                                           std     min  \\\n",
       "category_code                          brand                             \n",
       "accessories.bag                        irisk      3.365828e+00   19.05   \n",
       "                                       vosev      4.174755e+00   53.29   \n",
       "accessories.cosmetic_bag               irisk      0.000000e+00    3.02   \n",
       "                                       shik       5.686766e-01   22.62   \n",
       "apparel.glove                          irisk      4.200000e-01    3.37   \n",
       "                                       benovy     1.525946e+00    5.10   \n",
       "                                       domix      1.890554e-15    0.94   \n",
       "                                       mavala     3.301535e-01    7.00   \n",
       "                                       naomi      5.180940e-01    7.87   \n",
       "                                       nitrile    3.563703e-01    8.29   \n",
       "                                       nitrimax   6.079276e-01    8.13   \n",
       "appliances.environment.air_conditioner cutrin     4.274335e-01   12.29   \n",
       "                                       estel      2.794466e+00    5.95   \n",
       "                                       farmavita  8.247964e-01   11.73   \n",
       "                                       kaaral     0.000000e+00    3.02   \n",
       "                                       kapous     0.000000e+00    5.79   \n",
       "                                       markell    0.000000e+00    3.25   \n",
       "                                       matrix     3.570000e+00   16.67   \n",
       "                                       nirvel     7.561152e-01    4.51   \n",
       "                                       ypsed      0.000000e+00    6.35   \n",
       "appliances.environment.vacuum          irisk      5.069681e+00    8.89   \n",
       "                                       emil       2.395109e+01    1.22   \n",
       "                                       jessnail   1.488519e+01    5.30   \n",
       "                                       kosmekka   2.861950e+01   31.73   \n",
       "                                       max        2.504059e+01    1.92   \n",
       "                                       polarus    2.289188e+01    1.17   \n",
       "                                       runail     3.005683e+00   19.56   \n",
       "appliances.personal.hair_cutter        jaguar     5.602320e+00   77.56   \n",
       "furniture.bathroom.bath                irisk      1.146264e+01    1.79   \n",
       "                                       domix      3.961799e-01    3.41   \n",
       "                                       runail     2.630945e+00   49.29   \n",
       "                                       entity     3.615598e-15    8.62   \n",
       "                                       farmona    5.408907e+00   13.89   \n",
       "                                       gehwol     6.460622e-01   14.75   \n",
       "                                       kinetics   1.000666e+01    7.68   \n",
       "                                       masura     5.112688e+00    4.27   \n",
       "                                       milv       3.771054e-01    3.81   \n",
       "                                       oniq       1.145106e+00    8.10   \n",
       "furniture.living_room.cabinet          irisk      6.388650e+00   83.65   \n",
       "                                       kosmekka   1.464699e+01  105.56   \n",
       "                                       runail     1.531469e+00   78.41   \n",
       "stationery.cartrige                    runail     1.290597e-01    1.89   \n",
       "                                       depilflax  9.558608e-02    2.22   \n",
       "                                       italwax    3.526071e-01    1.78   \n",
       "                                       profepil   1.056044e-01    2.43   \n",
       "                                       yoko       5.452676e-01    1.89   \n",
       "\n",
       "                                                      25%      50%       75%  \\\n",
       "category_code                          brand                                   \n",
       "accessories.bag                        irisk       20.240   21.430   22.6200   \n",
       "                                       vosev       53.290   62.700   62.7000   \n",
       "accessories.cosmetic_bag               irisk        3.020    3.020    3.0200   \n",
       "                                       shik        22.620   23.810   23.8100   \n",
       "apparel.glove                          irisk        4.000    4.210    4.2100   \n",
       "                                       benovy       5.620    6.650    7.1600   \n",
       "                                       domix        0.940    0.940    0.9400   \n",
       "                                       mavala       7.780    7.780    7.7800   \n",
       "                                       naomi        9.270    9.270    9.2700   \n",
       "                                       nitrile      9.050    9.520    9.5200   \n",
       "                                       nitrimax    10.160   10.160   10.3200   \n",
       "appliances.environment.air_conditioner cutrin      12.290   13.220   13.2200   \n",
       "                                       estel        8.810   11.900   12.2900   \n",
       "                                       farmavita   13.810   14.440   14.4400   \n",
       "                                       kaaral       3.020    3.020    3.0200   \n",
       "                                       kapous       5.790    5.790    5.7900   \n",
       "                                       markell      3.250    3.250    3.2500   \n",
       "                                       matrix      22.025   23.810   23.8100   \n",
       "                                       nirvel       4.510    4.510    4.5100   \n",
       "                                       ypsed        6.350    6.350    6.3500   \n",
       "appliances.environment.vacuum          irisk       22.870   24.600   29.3700   \n",
       "                                       emil        48.410   55.560   71.4300   \n",
       "                                       jessnail    21.430   21.430   46.8300   \n",
       "                                       kosmekka    31.730   74.600   84.5200   \n",
       "                                       max         47.460   79.210   95.0800   \n",
       "                                       polarus     53.810   63.320   78.5700   \n",
       "                                       runail      24.440   24.440   26.9200   \n",
       "appliances.personal.hair_cutter        jaguar      77.560   89.160   89.1600   \n",
       "furniture.bathroom.bath                irisk       49.290   52.700   54.7600   \n",
       "                                       domix        4.160    4.160    4.1600   \n",
       "                                       runail      49.290   54.760   54.7600   \n",
       "                                       entity       8.620    8.620    8.6200   \n",
       "                                       farmona     16.480   25.210   28.0200   \n",
       "                                       gehwol      15.860   16.670   16.6700   \n",
       "                                       kinetics     9.050    9.050   30.9500   \n",
       "                                       masura       4.270   10.145   14.2700   \n",
       "                                       milv         4.430    4.760    4.7600   \n",
       "                                       oniq         9.520    9.520   10.7125   \n",
       "furniture.living_room.cabinet          irisk       85.620   98.410   98.4100   \n",
       "                                       kosmekka   150.790  150.790  150.7900   \n",
       "                                       runail      80.060   82.540   82.5400   \n",
       "stationery.cartrige                    runail       2.000    2.220    2.2200   \n",
       "                                       depilflax    2.920    3.020    3.0200   \n",
       "                                       italwax      1.920    1.980    1.9800   \n",
       "                                       profepil     2.535    2.700    2.7000   \n",
       "                                       yoko         2.170    2.170    2.7800   \n",
       "\n",
       "                                                     max  \n",
       "category_code                          brand              \n",
       "accessories.bag                        irisk       23.81  \n",
       "                                       vosev       62.70  \n",
       "accessories.cosmetic_bag               irisk        3.02  \n",
       "                                       shik        23.81  \n",
       "apparel.glove                          irisk        4.21  \n",
       "                                       benovy      11.19  \n",
       "                                       domix        0.94  \n",
       "                                       mavala       7.78  \n",
       "                                       naomi        9.27  \n",
       "                                       nitrile      9.52  \n",
       "                                       nitrimax    10.32  \n",
       "appliances.environment.air_conditioner cutrin      13.22  \n",
       "                                       estel       12.68  \n",
       "                                       farmavita   14.44  \n",
       "                                       kaaral       3.02  \n",
       "                                       kapous       5.79  \n",
       "                                       markell      3.25  \n",
       "                                       matrix      23.81  \n",
       "                                       nirvel       6.44  \n",
       "                                       ypsed        6.35  \n",
       "appliances.environment.vacuum          irisk       62.70  \n",
       "                                       emil        93.65  \n",
       "                                       jessnail    63.33  \n",
       "                                       kosmekka    94.44  \n",
       "                                       max         95.08  \n",
       "                                       polarus    102.38  \n",
       "                                       runail      30.95  \n",
       "appliances.personal.hair_cutter        jaguar      89.16  \n",
       "furniture.bathroom.bath                irisk       54.76  \n",
       "                                       domix        4.71  \n",
       "                                       runail      54.76  \n",
       "                                       entity       8.62  \n",
       "                                       farmona     28.02  \n",
       "                                       gehwol      16.67  \n",
       "                                       kinetics    30.95  \n",
       "                                       masura      14.27  \n",
       "                                       milv         4.76  \n",
       "                                       oniq        11.11  \n",
       "furniture.living_room.cabinet          irisk       98.41  \n",
       "                                       kosmekka   150.79  \n",
       "                                       runail      82.54  \n",
       "stationery.cartrige                    runail       2.38  \n",
       "                                       depilflax    3.02  \n",
       "                                       italwax      3.65  \n",
       "                                       profepil     2.70  \n",
       "                                       yoko         3.44  "
      ]
     },
     "execution_count": 12,
     "metadata": {},
     "output_type": "execute_result"
    }
   ],
   "source": [
    "nov.groupby(['category_code', 'brand'])['price'].describe()"
   ]
  },
  {
   "cell_type": "code",
   "execution_count": 13,
   "id": "running-holmes",
   "metadata": {
    "execution": {
     "iopub.execute_input": "2021-04-11T03:17:40.687671Z",
     "iopub.status.busy": "2021-04-11T03:17:40.686452Z",
     "iopub.status.idle": "2021-04-11T03:17:41.023519Z",
     "shell.execute_reply": "2021-04-11T03:17:41.022949Z"
    },
    "papermill": {
     "duration": 0.389752,
     "end_time": "2021-04-11T03:17:41.023692",
     "exception": false,
     "start_time": "2021-04-11T03:17:40.633940",
     "status": "completed"
    },
    "tags": []
   },
   "outputs": [
    {
     "data": {
      "text/plain": [
       "user_id\n",
       "527021202    11720\n",
       "550388516     4181\n",
       "500179293     3665\n",
       "552908674     3375\n",
       "467810091     2946\n",
       "             ...  \n",
       "567959095        1\n",
       "567959105        1\n",
       "567959279        1\n",
       "567959313        1\n",
       "579969854        1\n",
       "Length: 368232, dtype: int64"
      ]
     },
     "execution_count": 13,
     "metadata": {},
     "output_type": "execute_result"
    }
   ],
   "source": [
    "nov.value_counts('user_id')"
   ]
  },
  {
   "cell_type": "code",
   "execution_count": 14,
   "id": "gothic-acrylic",
   "metadata": {
    "execution": {
     "iopub.execute_input": "2021-04-11T03:17:41.122039Z",
     "iopub.status.busy": "2021-04-11T03:17:41.120900Z",
     "iopub.status.idle": "2021-04-11T03:17:41.441298Z",
     "shell.execute_reply": "2021-04-11T03:17:41.440653Z"
    },
    "papermill": {
     "duration": 0.37076,
     "end_time": "2021-04-11T03:17:41.441452",
     "exception": false,
     "start_time": "2021-04-11T03:17:41.070692",
     "status": "completed"
    },
    "tags": []
   },
   "outputs": [
    {
     "data": {
      "text/plain": [
       "False    197102\n",
       "True     171130\n",
       "Name: user_id, dtype: int64"
      ]
     },
     "execution_count": 14,
     "metadata": {},
     "output_type": "execute_result"
    }
   ],
   "source": [
    "(nov.groupby('user_id')['user_id'].count() == 1).value_counts()"
   ]
  },
  {
   "cell_type": "code",
   "execution_count": 15,
   "id": "surgical-complement",
   "metadata": {
    "execution": {
     "iopub.execute_input": "2021-04-11T03:17:41.542385Z",
     "iopub.status.busy": "2021-04-11T03:17:41.541748Z",
     "iopub.status.idle": "2021-04-11T03:17:42.350430Z",
     "shell.execute_reply": "2021-04-11T03:17:42.349885Z"
    },
    "papermill": {
     "duration": 0.860913,
     "end_time": "2021-04-11T03:17:42.350593",
     "exception": false,
     "start_time": "2021-04-11T03:17:41.489680",
     "status": "completed"
    },
    "tags": []
   },
   "outputs": [
    {
     "data": {
      "text/plain": [
       "view                167604\n",
       "cart                  3378\n",
       "remove_from_cart       137\n",
       "purchase                11\n",
       "Name: event_type, dtype: int64"
      ]
     },
     "execution_count": 15,
     "metadata": {},
     "output_type": "execute_result"
    }
   ],
   "source": [
    "user_count = nov.groupby('user_id')['user_id'].count()\n",
    "user_count = user_count[user_count == 1]\n",
    "zero = user_count.index.tolist()\n",
    "nov2 = nov.query('user_id in @zero')\n",
    "#단 11명만 접속후 곧바로 구입함.(pusrchase)\n",
    "nov.query('user_id in @zero')['event_type'].value_counts()"
   ]
  },
  {
   "cell_type": "code",
   "execution_count": 16,
   "id": "fallen-horizontal",
   "metadata": {
    "execution": {
     "iopub.execute_input": "2021-04-11T03:17:42.489266Z",
     "iopub.status.busy": "2021-04-11T03:17:42.476071Z",
     "iopub.status.idle": "2021-04-11T03:17:42.495391Z",
     "shell.execute_reply": "2021-04-11T03:17:42.494780Z"
    },
    "papermill": {
     "duration": 0.096371,
     "end_time": "2021-04-11T03:17:42.495575",
     "exception": false,
     "start_time": "2021-04-11T03:17:42.399204",
     "status": "completed"
    },
    "tags": []
   },
   "outputs": [
    {
     "data": {
      "text/html": [
       "<div>\n",
       "<style scoped>\n",
       "    .dataframe tbody tr th:only-of-type {\n",
       "        vertical-align: middle;\n",
       "    }\n",
       "\n",
       "    .dataframe tbody tr th {\n",
       "        vertical-align: top;\n",
       "    }\n",
       "\n",
       "    .dataframe thead th {\n",
       "        text-align: right;\n",
       "    }\n",
       "</style>\n",
       "<table border=\"1\" class=\"dataframe\">\n",
       "  <thead>\n",
       "    <tr style=\"text-align: right;\">\n",
       "      <th></th>\n",
       "      <th>event_time</th>\n",
       "      <th>event_type</th>\n",
       "      <th>product_id</th>\n",
       "      <th>category_id</th>\n",
       "      <th>category_code</th>\n",
       "      <th>brand</th>\n",
       "      <th>price</th>\n",
       "      <th>user_id</th>\n",
       "      <th>user_session</th>\n",
       "    </tr>\n",
       "  </thead>\n",
       "  <tbody>\n",
       "    <tr>\n",
       "      <th>461537</th>\n",
       "      <td>2019-11-04 18:14:31 UTC</td>\n",
       "      <td>purchase</td>\n",
       "      <td>5866056</td>\n",
       "      <td>1487580011627020412</td>\n",
       "      <td>NaN</td>\n",
       "      <td>lsanic</td>\n",
       "      <td>25.24</td>\n",
       "      <td>231981700</td>\n",
       "      <td>a4fbc75f-7d79-40a6-82bc-b01fbf614bc6</td>\n",
       "    </tr>\n",
       "    <tr>\n",
       "      <th>1003301</th>\n",
       "      <td>2019-11-08 06:44:37 UTC</td>\n",
       "      <td>purchase</td>\n",
       "      <td>5859270</td>\n",
       "      <td>1487580013522845895</td>\n",
       "      <td>NaN</td>\n",
       "      <td>almea</td>\n",
       "      <td>47.46</td>\n",
       "      <td>555696662</td>\n",
       "      <td>d41d7cc4-c26d-4d5d-96f7-413638651e78</td>\n",
       "    </tr>\n",
       "    <tr>\n",
       "      <th>1604656</th>\n",
       "      <td>2019-11-12 15:33:14 UTC</td>\n",
       "      <td>purchase</td>\n",
       "      <td>5793266</td>\n",
       "      <td>1487580009118826513</td>\n",
       "      <td>NaN</td>\n",
       "      <td>NaN</td>\n",
       "      <td>15.71</td>\n",
       "      <td>551094713</td>\n",
       "      <td>b01ad3e2-4d46-48f3-8c22-8e37325687d1</td>\n",
       "    </tr>\n",
       "    <tr>\n",
       "      <th>1812162</th>\n",
       "      <td>2019-11-14 06:41:58 UTC</td>\n",
       "      <td>purchase</td>\n",
       "      <td>5759386</td>\n",
       "      <td>1783999072332415142</td>\n",
       "      <td>NaN</td>\n",
       "      <td>NaN</td>\n",
       "      <td>15.08</td>\n",
       "      <td>571320307</td>\n",
       "      <td>c5986218-ad3f-40a5-8a48-479222970eb8</td>\n",
       "    </tr>\n",
       "    <tr>\n",
       "      <th>2092435</th>\n",
       "      <td>2019-11-16 12:01:23 UTC</td>\n",
       "      <td>purchase</td>\n",
       "      <td>5892331</td>\n",
       "      <td>1487580013053083824</td>\n",
       "      <td>stationery.cartrige</td>\n",
       "      <td>profepil</td>\n",
       "      <td>2.70</td>\n",
       "      <td>545072176</td>\n",
       "      <td>7c4edc3e-d950-4520-9950-468b0b9a2fa6</td>\n",
       "    </tr>\n",
       "    <tr>\n",
       "      <th>3227123</th>\n",
       "      <td>2019-11-23 05:23:32 UTC</td>\n",
       "      <td>purchase</td>\n",
       "      <td>5877454</td>\n",
       "      <td>1487580006300255120</td>\n",
       "      <td>NaN</td>\n",
       "      <td>jessnail</td>\n",
       "      <td>37.63</td>\n",
       "      <td>485112731</td>\n",
       "      <td>5d9c7dda-d884-4856-b38d-089c0907d58a</td>\n",
       "    </tr>\n",
       "    <tr>\n",
       "      <th>3554687</th>\n",
       "      <td>2019-11-24 17:23:31 UTC</td>\n",
       "      <td>purchase</td>\n",
       "      <td>5677043</td>\n",
       "      <td>1487580008246412266</td>\n",
       "      <td>NaN</td>\n",
       "      <td>estel</td>\n",
       "      <td>12.92</td>\n",
       "      <td>461940229</td>\n",
       "      <td>97dd794e-775b-41d8-bcf0-eab70a6b07a8</td>\n",
       "    </tr>\n",
       "    <tr>\n",
       "      <th>3645414</th>\n",
       "      <td>2019-11-25 07:55:54 UTC</td>\n",
       "      <td>purchase</td>\n",
       "      <td>5697463</td>\n",
       "      <td>1783999067156644376</td>\n",
       "      <td>NaN</td>\n",
       "      <td>estel</td>\n",
       "      <td>12.14</td>\n",
       "      <td>497373755</td>\n",
       "      <td>e965bb11-6101-4fca-819f-e43f812c6892</td>\n",
       "    </tr>\n",
       "    <tr>\n",
       "      <th>3646245</th>\n",
       "      <td>2019-11-25 08:01:56 UTC</td>\n",
       "      <td>purchase</td>\n",
       "      <td>5677043</td>\n",
       "      <td>1487580008246412266</td>\n",
       "      <td>NaN</td>\n",
       "      <td>estel</td>\n",
       "      <td>13.33</td>\n",
       "      <td>467229414</td>\n",
       "      <td>c3d2bc52-c673-46e1-a8e0-8c3b777c366b</td>\n",
       "    </tr>\n",
       "    <tr>\n",
       "      <th>4080226</th>\n",
       "      <td>2019-11-28 08:22:10 UTC</td>\n",
       "      <td>purchase</td>\n",
       "      <td>5830271</td>\n",
       "      <td>1487580008288355308</td>\n",
       "      <td>NaN</td>\n",
       "      <td>ellips</td>\n",
       "      <td>16.51</td>\n",
       "      <td>578081768</td>\n",
       "      <td>ad6e93cb-9abc-414d-b90d-3e6ffb55e48e</td>\n",
       "    </tr>\n",
       "    <tr>\n",
       "      <th>4317605</th>\n",
       "      <td>2019-11-29 08:49:27 UTC</td>\n",
       "      <td>purchase</td>\n",
       "      <td>5880531</td>\n",
       "      <td>1487580012524601496</td>\n",
       "      <td>NaN</td>\n",
       "      <td>NaN</td>\n",
       "      <td>11.43</td>\n",
       "      <td>578757672</td>\n",
       "      <td>111dff62-e062-4202-a0cd-f110d30f365a</td>\n",
       "    </tr>\n",
       "  </tbody>\n",
       "</table>\n",
       "</div>"
      ],
      "text/plain": [
       "                      event_time event_type  product_id          category_id  \\\n",
       "461537   2019-11-04 18:14:31 UTC   purchase     5866056  1487580011627020412   \n",
       "1003301  2019-11-08 06:44:37 UTC   purchase     5859270  1487580013522845895   \n",
       "1604656  2019-11-12 15:33:14 UTC   purchase     5793266  1487580009118826513   \n",
       "1812162  2019-11-14 06:41:58 UTC   purchase     5759386  1783999072332415142   \n",
       "2092435  2019-11-16 12:01:23 UTC   purchase     5892331  1487580013053083824   \n",
       "3227123  2019-11-23 05:23:32 UTC   purchase     5877454  1487580006300255120   \n",
       "3554687  2019-11-24 17:23:31 UTC   purchase     5677043  1487580008246412266   \n",
       "3645414  2019-11-25 07:55:54 UTC   purchase     5697463  1783999067156644376   \n",
       "3646245  2019-11-25 08:01:56 UTC   purchase     5677043  1487580008246412266   \n",
       "4080226  2019-11-28 08:22:10 UTC   purchase     5830271  1487580008288355308   \n",
       "4317605  2019-11-29 08:49:27 UTC   purchase     5880531  1487580012524601496   \n",
       "\n",
       "               category_code     brand  price    user_id  \\\n",
       "461537                   NaN    lsanic  25.24  231981700   \n",
       "1003301                  NaN     almea  47.46  555696662   \n",
       "1604656                  NaN       NaN  15.71  551094713   \n",
       "1812162                  NaN       NaN  15.08  571320307   \n",
       "2092435  stationery.cartrige  profepil   2.70  545072176   \n",
       "3227123                  NaN  jessnail  37.63  485112731   \n",
       "3554687                  NaN     estel  12.92  461940229   \n",
       "3645414                  NaN     estel  12.14  497373755   \n",
       "3646245                  NaN     estel  13.33  467229414   \n",
       "4080226                  NaN    ellips  16.51  578081768   \n",
       "4317605                  NaN       NaN  11.43  578757672   \n",
       "\n",
       "                                 user_session  \n",
       "461537   a4fbc75f-7d79-40a6-82bc-b01fbf614bc6  \n",
       "1003301  d41d7cc4-c26d-4d5d-96f7-413638651e78  \n",
       "1604656  b01ad3e2-4d46-48f3-8c22-8e37325687d1  \n",
       "1812162  c5986218-ad3f-40a5-8a48-479222970eb8  \n",
       "2092435  7c4edc3e-d950-4520-9950-468b0b9a2fa6  \n",
       "3227123  5d9c7dda-d884-4856-b38d-089c0907d58a  \n",
       "3554687  97dd794e-775b-41d8-bcf0-eab70a6b07a8  \n",
       "3645414  e965bb11-6101-4fca-819f-e43f812c6892  \n",
       "3646245  c3d2bc52-c673-46e1-a8e0-8c3b777c366b  \n",
       "4080226  ad6e93cb-9abc-414d-b90d-3e6ffb55e48e  \n",
       "4317605  111dff62-e062-4202-a0cd-f110d30f365a  "
      ]
     },
     "execution_count": 16,
     "metadata": {},
     "output_type": "execute_result"
    }
   ],
   "source": [
    "nov2[nov2['event_type']=='purchase']"
   ]
  },
  {
   "cell_type": "markdown",
   "id": "bigger-tuner",
   "metadata": {
    "papermill": {
     "duration": 0.047576,
     "end_time": "2021-04-11T03:17:42.591466",
     "exception": false,
     "start_time": "2021-04-11T03:17:42.543890",
     "status": "completed"
    },
    "tags": []
   },
   "source": [
    "### 유니크한 유저만 세기\n",
    "몇 명의 customers가 site에 방문하였는가?"
   ]
  },
  {
   "cell_type": "code",
   "execution_count": 17,
   "id": "moved-reach",
   "metadata": {
    "execution": {
     "iopub.execute_input": "2021-04-11T03:17:42.694228Z",
     "iopub.status.busy": "2021-04-11T03:17:42.693610Z",
     "iopub.status.idle": "2021-04-11T03:17:42.831555Z",
     "shell.execute_reply": "2021-04-11T03:17:42.830919Z"
    },
    "papermill": {
     "duration": 0.191518,
     "end_time": "2021-04-11T03:17:42.831706",
     "exception": false,
     "start_time": "2021-04-11T03:17:42.640188",
     "status": "completed"
    },
    "tags": []
   },
   "outputs": [
    {
     "data": {
      "text/plain": [
       "368232"
      ]
     },
     "execution_count": 17,
     "metadata": {},
     "output_type": "execute_result"
    }
   ],
   "source": [
    "nov['user_id'].nunique()"
   ]
  },
  {
   "cell_type": "markdown",
   "id": "prostate-warehouse",
   "metadata": {
    "papermill": {
     "duration": 0.048136,
     "end_time": "2021-04-11T03:17:42.928091",
     "exception": false,
     "start_time": "2021-04-11T03:17:42.879955",
     "status": "completed"
    },
    "tags": []
   },
   "source": [
    "### Visitors Daily Trend"
   ]
  },
  {
   "cell_type": "code",
   "execution_count": 18,
   "id": "driven-african",
   "metadata": {
    "execution": {
     "iopub.execute_input": "2021-04-11T03:17:43.122635Z",
     "iopub.status.busy": "2021-04-11T03:17:43.113317Z",
     "iopub.status.idle": "2021-04-11T03:17:43.127071Z",
     "shell.execute_reply": "2021-04-11T03:17:43.126237Z"
    },
    "papermill": {
     "duration": 0.150972,
     "end_time": "2021-04-11T03:17:43.127242",
     "exception": false,
     "start_time": "2021-04-11T03:17:42.976270",
     "status": "completed"
    },
    "tags": []
   },
   "outputs": [
    {
     "data": {
      "text/html": [
       "<div>\n",
       "<style scoped>\n",
       "    .dataframe tbody tr th:only-of-type {\n",
       "        vertical-align: middle;\n",
       "    }\n",
       "\n",
       "    .dataframe tbody tr th {\n",
       "        vertical-align: top;\n",
       "    }\n",
       "\n",
       "    .dataframe thead th {\n",
       "        text-align: right;\n",
       "    }\n",
       "</style>\n",
       "<table border=\"1\" class=\"dataframe\">\n",
       "  <thead>\n",
       "    <tr style=\"text-align: right;\">\n",
       "      <th></th>\n",
       "      <th>event_time</th>\n",
       "      <th>user_id</th>\n",
       "    </tr>\n",
       "  </thead>\n",
       "  <tbody>\n",
       "    <tr>\n",
       "      <th>0</th>\n",
       "      <td>2019-11-01 00:00:02 UTC</td>\n",
       "      <td>562076640</td>\n",
       "    </tr>\n",
       "    <tr>\n",
       "      <th>1</th>\n",
       "      <td>2019-11-01 00:00:09 UTC</td>\n",
       "      <td>553329724</td>\n",
       "    </tr>\n",
       "    <tr>\n",
       "      <th>2</th>\n",
       "      <td>2019-11-01 00:00:10 UTC</td>\n",
       "      <td>556138645</td>\n",
       "    </tr>\n",
       "    <tr>\n",
       "      <th>3</th>\n",
       "      <td>2019-11-01 00:00:11 UTC</td>\n",
       "      <td>564506666</td>\n",
       "    </tr>\n",
       "    <tr>\n",
       "      <th>4</th>\n",
       "      <td>2019-11-01 00:00:24 UTC</td>\n",
       "      <td>553329724</td>\n",
       "    </tr>\n",
       "  </tbody>\n",
       "</table>\n",
       "</div>"
      ],
      "text/plain": [
       "                event_time    user_id\n",
       "0  2019-11-01 00:00:02 UTC  562076640\n",
       "1  2019-11-01 00:00:09 UTC  553329724\n",
       "2  2019-11-01 00:00:10 UTC  556138645\n",
       "3  2019-11-01 00:00:11 UTC  564506666\n",
       "4  2019-11-01 00:00:24 UTC  553329724"
      ]
     },
     "execution_count": 18,
     "metadata": {},
     "output_type": "execute_result"
    }
   ],
   "source": [
    "#유저별 event_time 알아보기\n",
    "d = nov.loc[:, ['event_time', 'user_id']]\n",
    "d.head()"
   ]
  },
  {
   "cell_type": "code",
   "execution_count": 19,
   "id": "cooperative-bobby",
   "metadata": {
    "execution": {
     "iopub.execute_input": "2021-04-11T03:17:43.234079Z",
     "iopub.status.busy": "2021-04-11T03:17:43.233016Z",
     "iopub.status.idle": "2021-04-11T03:17:45.586858Z",
     "shell.execute_reply": "2021-04-11T03:17:45.585449Z"
    },
    "papermill": {
     "duration": 2.409897,
     "end_time": "2021-04-11T03:17:45.587081",
     "exception": false,
     "start_time": "2021-04-11T03:17:43.177184",
     "status": "completed"
    },
    "tags": []
   },
   "outputs": [
    {
     "data": {
      "text/html": [
       "<div>\n",
       "<style scoped>\n",
       "    .dataframe tbody tr th:only-of-type {\n",
       "        vertical-align: middle;\n",
       "    }\n",
       "\n",
       "    .dataframe tbody tr th {\n",
       "        vertical-align: top;\n",
       "    }\n",
       "\n",
       "    .dataframe thead th {\n",
       "        text-align: right;\n",
       "    }\n",
       "</style>\n",
       "<table border=\"1\" class=\"dataframe\">\n",
       "  <thead>\n",
       "    <tr style=\"text-align: right;\">\n",
       "      <th></th>\n",
       "      <th>event_time</th>\n",
       "      <th>user_id</th>\n",
       "    </tr>\n",
       "  </thead>\n",
       "  <tbody>\n",
       "    <tr>\n",
       "      <th>0</th>\n",
       "      <td>2019-11-01</td>\n",
       "      <td>562076640</td>\n",
       "    </tr>\n",
       "    <tr>\n",
       "      <th>1</th>\n",
       "      <td>2019-11-01</td>\n",
       "      <td>553329724</td>\n",
       "    </tr>\n",
       "    <tr>\n",
       "      <th>2</th>\n",
       "      <td>2019-11-01</td>\n",
       "      <td>556138645</td>\n",
       "    </tr>\n",
       "    <tr>\n",
       "      <th>3</th>\n",
       "      <td>2019-11-01</td>\n",
       "      <td>564506666</td>\n",
       "    </tr>\n",
       "    <tr>\n",
       "      <th>4</th>\n",
       "      <td>2019-11-01</td>\n",
       "      <td>553329724</td>\n",
       "    </tr>\n",
       "  </tbody>\n",
       "</table>\n",
       "</div>"
      ],
      "text/plain": [
       "   event_time    user_id\n",
       "0  2019-11-01  562076640\n",
       "1  2019-11-01  553329724\n",
       "2  2019-11-01  556138645\n",
       "3  2019-11-01  564506666\n",
       "4  2019-11-01  553329724"
      ]
     },
     "execution_count": 19,
     "metadata": {},
     "output_type": "execute_result"
    }
   ],
   "source": [
    "#event_time의 연월일만 잘라내기\n",
    "d['event_time'] = d['event_time'].apply(lambda s: str(s)[:10])\n",
    "d.head()"
   ]
  },
  {
   "cell_type": "code",
   "execution_count": 20,
   "id": "analyzed-establishment",
   "metadata": {
    "execution": {
     "iopub.execute_input": "2021-04-11T03:17:45.969253Z",
     "iopub.status.busy": "2021-04-11T03:17:45.770845Z",
     "iopub.status.idle": "2021-04-11T03:17:46.582378Z",
     "shell.execute_reply": "2021-04-11T03:17:46.581705Z"
    },
    "papermill": {
     "duration": 0.944325,
     "end_time": "2021-04-11T03:17:46.582530",
     "exception": false,
     "start_time": "2021-04-11T03:17:45.638205",
     "status": "completed"
    },
    "tags": []
   },
   "outputs": [
    {
     "data": {
      "text/html": [
       "<div>\n",
       "<style scoped>\n",
       "    .dataframe tbody tr th:only-of-type {\n",
       "        vertical-align: middle;\n",
       "    }\n",
       "\n",
       "    .dataframe tbody tr th {\n",
       "        vertical-align: top;\n",
       "    }\n",
       "\n",
       "    .dataframe thead th {\n",
       "        text-align: right;\n",
       "    }\n",
       "</style>\n",
       "<table border=\"1\" class=\"dataframe\">\n",
       "  <thead>\n",
       "    <tr style=\"text-align: right;\">\n",
       "      <th></th>\n",
       "      <th>count</th>\n",
       "    </tr>\n",
       "    <tr>\n",
       "      <th>event_time</th>\n",
       "      <th></th>\n",
       "    </tr>\n",
       "  </thead>\n",
       "  <tbody>\n",
       "    <tr>\n",
       "      <th>2019-11-01</th>\n",
       "      <td>14880</td>\n",
       "    </tr>\n",
       "    <tr>\n",
       "      <th>2019-11-02</th>\n",
       "      <td>14614</td>\n",
       "    </tr>\n",
       "    <tr>\n",
       "      <th>2019-11-03</th>\n",
       "      <td>15530</td>\n",
       "    </tr>\n",
       "    <tr>\n",
       "      <th>2019-11-04</th>\n",
       "      <td>16209</td>\n",
       "    </tr>\n",
       "    <tr>\n",
       "      <th>2019-11-05</th>\n",
       "      <td>18545</td>\n",
       "    </tr>\n",
       "    <tr>\n",
       "      <th>2019-11-06</th>\n",
       "      <td>17724</td>\n",
       "    </tr>\n",
       "    <tr>\n",
       "      <th>2019-11-07</th>\n",
       "      <td>19587</td>\n",
       "    </tr>\n",
       "    <tr>\n",
       "      <th>2019-11-08</th>\n",
       "      <td>17845</td>\n",
       "    </tr>\n",
       "    <tr>\n",
       "      <th>2019-11-09</th>\n",
       "      <td>15695</td>\n",
       "    </tr>\n",
       "    <tr>\n",
       "      <th>2019-11-10</th>\n",
       "      <td>16152</td>\n",
       "    </tr>\n",
       "  </tbody>\n",
       "</table>\n",
       "</div>"
      ],
      "text/plain": [
       "            count\n",
       "event_time       \n",
       "2019-11-01  14880\n",
       "2019-11-02  14614\n",
       "2019-11-03  15530\n",
       "2019-11-04  16209\n",
       "2019-11-05  18545\n",
       "2019-11-06  17724\n",
       "2019-11-07  19587\n",
       "2019-11-08  17845\n",
       "2019-11-09  15695\n",
       "2019-11-10  16152"
      ]
     },
     "execution_count": 20,
     "metadata": {},
     "output_type": "execute_result"
    }
   ],
   "source": [
    "#만일 중복 데이터가 있다면, 제거하고 event_time별로 그룹바이\n",
    "#즉, event_time의 연월일별 이용한 유저는 몇 명이나 카운트되는가?\n",
    "visitor_by_date = d.drop_duplicates().groupby(['event_time'])['user_id'].agg(['count']).sort_values(by=['event_time'], ascending=True)\n",
    "visitor_by_date[:10]"
   ]
  },
  {
   "cell_type": "code",
   "execution_count": 21,
   "id": "small-toddler",
   "metadata": {
    "execution": {
     "iopub.execute_input": "2021-04-11T03:17:46.711264Z",
     "iopub.status.busy": "2021-04-11T03:17:46.693452Z",
     "iopub.status.idle": "2021-04-11T03:17:46.954994Z",
     "shell.execute_reply": "2021-04-11T03:17:46.954426Z"
    },
    "papermill": {
     "duration": 0.321944,
     "end_time": "2021-04-11T03:17:46.955156",
     "exception": false,
     "start_time": "2021-04-11T03:17:46.633212",
     "status": "completed"
    },
    "tags": []
   },
   "outputs": [
    {
     "data": {
      "image/png": "[encoded data removed]",
      "text/plain": [
       "<Figure size 1440x576 with 1 Axes>"
      ]
     },
     "metadata": {
      "needs_background": "light"
     },
     "output_type": "display_data"
    }
   ],
   "source": [
    "#위 결과를 그래프로 나타내보기!\n",
    "x = pd.Series(visitor_by_date.index.values).apply(lambda s: datetime.strptime(s, '%Y-%m-%d').date())\n",
    "y = visitor_by_date['count']\n",
    "plt.rcParams['figure.figsize'] = (20,8)\n",
    "\n",
    "plt.plot(x,y)\n",
    "plt.show() #11월 말에 많은 듯?"
   ]
  },
  {
   "cell_type": "markdown",
   "id": "environmental-slave",
   "metadata": {
    "papermill": {
     "duration": 0.055782,
     "end_time": "2021-04-11T03:17:47.066103",
     "exception": false,
     "start_time": "2021-04-11T03:17:47.010321",
     "status": "completed"
    },
    "tags": []
   },
   "source": [
    "### 카테고리로 알아보기\n",
    "- 어떤 카테고리를 고객이 가장 많이 보았을까? \n",
    "- event_type pie 차트로 그리기"
   ]
  },
  {
   "cell_type": "code",
   "execution_count": 22,
   "id": "hourly-facility",
   "metadata": {
    "execution": {
     "iopub.execute_input": "2021-04-11T03:17:47.339481Z",
     "iopub.status.busy": "2021-04-11T03:17:47.338751Z",
     "iopub.status.idle": "2021-04-11T03:17:47.668618Z",
     "shell.execute_reply": "2021-04-11T03:17:47.668009Z"
    },
    "papermill": {
     "duration": 0.545569,
     "end_time": "2021-04-11T03:17:47.668789",
     "exception": false,
     "start_time": "2021-04-11T03:17:47.123220",
     "status": "completed"
    },
    "tags": []
   },
   "outputs": [
    {
     "data": {
      "image/png": "[encoded data removed]",
      "text/plain": [
       "<Figure size 1440x576 with 1 Axes>"
      ]
     },
     "metadata": {
      "needs_background": "light"
     },
     "output_type": "display_data"
    }
   ],
   "source": [
    "top_category_n = 30\n",
    "top_category = nov.loc[:,'category_code'].value_counts()[:top_category_n].sort_values(ascending=False)\n",
    "squarify.plot(sizes=top_category, label=top_category.index.array, color=[\"red\",\"cyan\",\"green\",\"orange\",\"blue\",\"grey\"], alpha=.7  )\n",
    "plt.axis('off')\n",
    "plt.show()"
   ]
  },
  {
   "cell_type": "code",
   "execution_count": 23,
   "id": "steady-ballot",
   "metadata": {
    "execution": {
     "iopub.execute_input": "2021-04-11T03:17:48.910396Z",
     "iopub.status.busy": "2021-04-11T03:17:48.909678Z",
     "iopub.status.idle": "2021-04-11T03:17:48.919104Z",
     "shell.execute_reply": "2021-04-11T03:17:48.918542Z"
    },
    "papermill": {
     "duration": 1.190331,
     "end_time": "2021-04-11T03:17:48.919304",
     "exception": false,
     "start_time": "2021-04-11T03:17:47.728973",
     "status": "completed"
    },
    "tags": []
   },
   "outputs": [
    {
     "data": {
      "text/plain": [
       "view                2076132\n",
       "cart                1311807\n",
       "remove_from_cart     925481\n",
       "purchase             322417\n",
       "Name: event_type, dtype: int64"
      ]
     },
     "execution_count": 23,
     "metadata": {},
     "output_type": "execute_result"
    }
   ],
   "source": [
    "nov['event_type'].value_counts()"
   ]
  },
  {
   "cell_type": "code",
   "execution_count": 24,
   "id": "faced-anger",
   "metadata": {
    "execution": {
     "iopub.execute_input": "2021-04-11T03:17:50.157689Z",
     "iopub.status.busy": "2021-04-11T03:17:50.156949Z",
     "iopub.status.idle": "2021-04-11T03:17:50.432736Z",
     "shell.execute_reply": "2021-04-11T03:17:50.433263Z"
    },
    "papermill": {
     "duration": 1.459308,
     "end_time": "2021-04-11T03:17:50.433490",
     "exception": false,
     "start_time": "2021-04-11T03:17:48.974182",
     "status": "completed"
    },
    "tags": []
   },
   "outputs": [
    {
     "data": {
      "image/png": "[encoded data removed]",
      "text/plain": [
       "<Figure size 576x576 with 1 Axes>"
      ]
     },
     "metadata": {},
     "output_type": "display_data"
    }
   ],
   "source": [
    "labels = ['view', 'cart','purchase','remove_from_cart']\n",
    "size = nov['event_type'].value_counts()\n",
    "colors = ['yellowgreen', 'lightskyblue','lightcoral', 'black']\n",
    "\n",
    "plt.rcParams['figure.figsize'] = (8, 8)\n",
    "plt.pie(size, colors = colors, labels = labels, shadow = True, autopct = '%.2f%%')\n",
    "plt.title('Event_Type', fontsize = 20)\n",
    "plt.axis('off')\n",
    "plt.legend()\n",
    "plt.show()"
   ]
  },
  {
   "cell_type": "markdown",
   "id": "paperback-colors",
   "metadata": {
    "papermill": {
     "duration": 0.056123,
     "end_time": "2021-04-11T03:17:50.546457",
     "exception": false,
     "start_time": "2021-04-11T03:17:50.490334",
     "status": "completed"
    },
    "tags": []
   },
   "source": [
    "#### event_type이 'purchase'인 것의 item은 무엇일까?"
   ]
  },
  {
   "cell_type": "code",
   "execution_count": 25,
   "id": "signed-secretary",
   "metadata": {
    "execution": {
     "iopub.execute_input": "2021-04-11T03:17:51.294649Z",
     "iopub.status.busy": "2021-04-11T03:17:51.293988Z",
     "iopub.status.idle": "2021-04-11T03:17:51.540938Z",
     "shell.execute_reply": "2021-04-11T03:17:51.540400Z"
    },
    "papermill": {
     "duration": 0.936462,
     "end_time": "2021-04-11T03:17:51.541100",
     "exception": false,
     "start_time": "2021-04-11T03:17:50.604638",
     "status": "completed"
    },
    "tags": []
   },
   "outputs": [
    {
     "data": {
      "text/html": [
       "<div>\n",
       "<style scoped>\n",
       "    .dataframe tbody tr th:only-of-type {\n",
       "        vertical-align: middle;\n",
       "    }\n",
       "\n",
       "    .dataframe tbody tr th {\n",
       "        vertical-align: top;\n",
       "    }\n",
       "\n",
       "    .dataframe thead th {\n",
       "        text-align: right;\n",
       "    }\n",
       "</style>\n",
       "<table border=\"1\" class=\"dataframe\">\n",
       "  <thead>\n",
       "    <tr style=\"text-align: right;\">\n",
       "      <th></th>\n",
       "      <th>event_time</th>\n",
       "      <th>event_type</th>\n",
       "      <th>product_id</th>\n",
       "      <th>category_id</th>\n",
       "      <th>category_code</th>\n",
       "      <th>brand</th>\n",
       "      <th>price</th>\n",
       "      <th>user_id</th>\n",
       "      <th>user_session</th>\n",
       "    </tr>\n",
       "  </thead>\n",
       "  <tbody>\n",
       "    <tr>\n",
       "      <th>66</th>\n",
       "      <td>2019-11-01 00:04:33 UTC</td>\n",
       "      <td>purchase</td>\n",
       "      <td>5766980</td>\n",
       "      <td>1487580013053083824</td>\n",
       "      <td>stationery.cartrige</td>\n",
       "      <td>italwax</td>\n",
       "      <td>1.98</td>\n",
       "      <td>564451209</td>\n",
       "      <td>861ab2f1-b2e5-886f-a93b-5b067eff081f</td>\n",
       "    </tr>\n",
       "    <tr>\n",
       "      <th>67</th>\n",
       "      <td>2019-11-01 00:04:33 UTC</td>\n",
       "      <td>purchase</td>\n",
       "      <td>5767494</td>\n",
       "      <td>1487580013053083824</td>\n",
       "      <td>stationery.cartrige</td>\n",
       "      <td>italwax</td>\n",
       "      <td>2.14</td>\n",
       "      <td>564451209</td>\n",
       "      <td>861ab2f1-b2e5-886f-a93b-5b067eff081f</td>\n",
       "    </tr>\n",
       "    <tr>\n",
       "      <th>68</th>\n",
       "      <td>2019-11-01 00:04:33 UTC</td>\n",
       "      <td>purchase</td>\n",
       "      <td>5775813</td>\n",
       "      <td>1487580013053083824</td>\n",
       "      <td>stationery.cartrige</td>\n",
       "      <td>italwax</td>\n",
       "      <td>1.98</td>\n",
       "      <td>564451209</td>\n",
       "      <td>861ab2f1-b2e5-886f-a93b-5b067eff081f</td>\n",
       "    </tr>\n",
       "    <tr>\n",
       "      <th>69</th>\n",
       "      <td>2019-11-01 00:04:33 UTC</td>\n",
       "      <td>purchase</td>\n",
       "      <td>5775814</td>\n",
       "      <td>1487580013053083824</td>\n",
       "      <td>stationery.cartrige</td>\n",
       "      <td>italwax</td>\n",
       "      <td>1.98</td>\n",
       "      <td>564451209</td>\n",
       "      <td>861ab2f1-b2e5-886f-a93b-5b067eff081f</td>\n",
       "    </tr>\n",
       "    <tr>\n",
       "      <th>641</th>\n",
       "      <td>2019-11-01 00:46:37 UTC</td>\n",
       "      <td>purchase</td>\n",
       "      <td>5749199</td>\n",
       "      <td>1487580013053083824</td>\n",
       "      <td>stationery.cartrige</td>\n",
       "      <td>italwax</td>\n",
       "      <td>1.98</td>\n",
       "      <td>457604149</td>\n",
       "      <td>34adbc64-eebc-4d45-8542-547b9c20f6c1</td>\n",
       "    </tr>\n",
       "  </tbody>\n",
       "</table>\n",
       "</div>"
      ],
      "text/plain": [
       "                  event_time event_type  product_id          category_id  \\\n",
       "66   2019-11-01 00:04:33 UTC   purchase     5766980  1487580013053083824   \n",
       "67   2019-11-01 00:04:33 UTC   purchase     5767494  1487580013053083824   \n",
       "68   2019-11-01 00:04:33 UTC   purchase     5775813  1487580013053083824   \n",
       "69   2019-11-01 00:04:33 UTC   purchase     5775814  1487580013053083824   \n",
       "641  2019-11-01 00:46:37 UTC   purchase     5749199  1487580013053083824   \n",
       "\n",
       "           category_code    brand  price    user_id  \\\n",
       "66   stationery.cartrige  italwax   1.98  564451209   \n",
       "67   stationery.cartrige  italwax   2.14  564451209   \n",
       "68   stationery.cartrige  italwax   1.98  564451209   \n",
       "69   stationery.cartrige  italwax   1.98  564451209   \n",
       "641  stationery.cartrige  italwax   1.98  457604149   \n",
       "\n",
       "                             user_session  \n",
       "66   861ab2f1-b2e5-886f-a93b-5b067eff081f  \n",
       "67   861ab2f1-b2e5-886f-a93b-5b067eff081f  \n",
       "68   861ab2f1-b2e5-886f-a93b-5b067eff081f  \n",
       "69   861ab2f1-b2e5-886f-a93b-5b067eff081f  \n",
       "641  34adbc64-eebc-4d45-8542-547b9c20f6c1  "
      ]
     },
     "execution_count": 25,
     "metadata": {},
     "output_type": "execute_result"
    }
   ],
   "source": [
    "purchase = nov.loc[nov['event_type'] == 'purchase']\n",
    "purchase = purchase.dropna(axis='rows')\n",
    "purchase.head()"
   ]
  },
  {
   "cell_type": "code",
   "execution_count": 26,
   "id": "commercial-saint",
   "metadata": {
    "execution": {
     "iopub.execute_input": "2021-04-11T03:17:51.663701Z",
     "iopub.status.busy": "2021-04-11T03:17:51.662976Z",
     "iopub.status.idle": "2021-04-11T03:17:51.675097Z",
     "shell.execute_reply": "2021-04-11T03:17:51.674537Z"
    },
    "papermill": {
     "duration": 0.075045,
     "end_time": "2021-04-11T03:17:51.675265",
     "exception": false,
     "start_time": "2021-04-11T03:17:51.600220",
     "status": "completed"
    },
    "tags": []
   },
   "outputs": [
    {
     "data": {
      "text/html": [
       "<div>\n",
       "<style scoped>\n",
       "    .dataframe tbody tr th:only-of-type {\n",
       "        vertical-align: middle;\n",
       "    }\n",
       "\n",
       "    .dataframe tbody tr th {\n",
       "        vertical-align: top;\n",
       "    }\n",
       "\n",
       "    .dataframe thead th {\n",
       "        text-align: right;\n",
       "    }\n",
       "</style>\n",
       "<table border=\"1\" class=\"dataframe\">\n",
       "  <thead>\n",
       "    <tr style=\"text-align: right;\">\n",
       "      <th></th>\n",
       "      <th>count</th>\n",
       "    </tr>\n",
       "    <tr>\n",
       "      <th>category_code</th>\n",
       "      <th></th>\n",
       "    </tr>\n",
       "  </thead>\n",
       "  <tbody>\n",
       "    <tr>\n",
       "      <th>stationery.cartrige</th>\n",
       "      <td>1407</td>\n",
       "    </tr>\n",
       "    <tr>\n",
       "      <th>apparel.glove</th>\n",
       "      <td>759</td>\n",
       "    </tr>\n",
       "    <tr>\n",
       "      <th>appliances.environment.vacuum</th>\n",
       "      <td>728</td>\n",
       "    </tr>\n",
       "    <tr>\n",
       "      <th>furniture.bathroom.bath</th>\n",
       "      <td>223</td>\n",
       "    </tr>\n",
       "    <tr>\n",
       "      <th>furniture.living_room.cabinet</th>\n",
       "      <td>19</td>\n",
       "    </tr>\n",
       "    <tr>\n",
       "      <th>appliances.environment.air_conditioner</th>\n",
       "      <td>14</td>\n",
       "    </tr>\n",
       "    <tr>\n",
       "      <th>accessories.bag</th>\n",
       "      <td>5</td>\n",
       "    </tr>\n",
       "    <tr>\n",
       "      <th>accessories.cosmetic_bag</th>\n",
       "      <td>4</td>\n",
       "    </tr>\n",
       "  </tbody>\n",
       "</table>\n",
       "</div>"
      ],
      "text/plain": [
       "                                        count\n",
       "category_code                                \n",
       "stationery.cartrige                      1407\n",
       "apparel.glove                             759\n",
       "appliances.environment.vacuum             728\n",
       "furniture.bathroom.bath                   223\n",
       "furniture.living_room.cabinet              19\n",
       "appliances.environment.air_conditioner     14\n",
       "accessories.bag                             5\n",
       "accessories.cosmetic_bag                    4"
      ]
     },
     "execution_count": 26,
     "metadata": {},
     "output_type": "execute_result"
    }
   ],
   "source": [
    "purchase.groupby('category_code')['event_type'].agg(['count']).sort_values(by = 'count', ascending=False)"
   ]
  },
  {
   "cell_type": "code",
   "execution_count": 27,
   "id": "solved-gregory",
   "metadata": {
    "execution": {
     "iopub.execute_input": "2021-04-11T03:17:52.514477Z",
     "iopub.status.busy": "2021-04-11T03:17:52.513745Z",
     "iopub.status.idle": "2021-04-11T03:17:53.707021Z",
     "shell.execute_reply": "2021-04-11T03:17:53.706264Z"
    },
    "papermill": {
     "duration": 1.971272,
     "end_time": "2021-04-11T03:17:53.707188",
     "exception": false,
     "start_time": "2021-04-11T03:17:51.735916",
     "status": "completed"
    },
    "tags": []
   },
   "outputs": [
    {
     "data": {
      "text/html": [
       "<div>\n",
       "<style scoped>\n",
       "    .dataframe tbody tr th:only-of-type {\n",
       "        vertical-align: middle;\n",
       "    }\n",
       "\n",
       "    .dataframe tbody tr th {\n",
       "        vertical-align: top;\n",
       "    }\n",
       "\n",
       "    .dataframe thead th {\n",
       "        text-align: right;\n",
       "    }\n",
       "</style>\n",
       "<table border=\"1\" class=\"dataframe\">\n",
       "  <thead>\n",
       "    <tr style=\"text-align: right;\">\n",
       "      <th></th>\n",
       "      <th>count</th>\n",
       "    </tr>\n",
       "    <tr>\n",
       "      <th>category_code</th>\n",
       "      <th></th>\n",
       "    </tr>\n",
       "  </thead>\n",
       "  <tbody>\n",
       "    <tr>\n",
       "      <th>appliances.environment.vacuum</th>\n",
       "      <td>22576</td>\n",
       "    </tr>\n",
       "    <tr>\n",
       "      <th>stationery.cartrige</th>\n",
       "      <td>3834</td>\n",
       "    </tr>\n",
       "    <tr>\n",
       "      <th>apparel.glove</th>\n",
       "      <td>2766</td>\n",
       "    </tr>\n",
       "    <tr>\n",
       "      <th>furniture.living_room.cabinet</th>\n",
       "      <td>2543</td>\n",
       "    </tr>\n",
       "    <tr>\n",
       "      <th>furniture.bathroom.bath</th>\n",
       "      <td>2440</td>\n",
       "    </tr>\n",
       "    <tr>\n",
       "      <th>accessories.bag</th>\n",
       "      <td>940</td>\n",
       "    </tr>\n",
       "    <tr>\n",
       "      <th>accessories.cosmetic_bag</th>\n",
       "      <td>123</td>\n",
       "    </tr>\n",
       "    <tr>\n",
       "      <th>appliances.personal.hair_cutter</th>\n",
       "      <td>106</td>\n",
       "    </tr>\n",
       "    <tr>\n",
       "      <th>appliances.environment.air_conditioner</th>\n",
       "      <td>100</td>\n",
       "    </tr>\n",
       "  </tbody>\n",
       "</table>\n",
       "</div>"
      ],
      "text/plain": [
       "                                        count\n",
       "category_code                                \n",
       "appliances.environment.vacuum           22576\n",
       "stationery.cartrige                      3834\n",
       "apparel.glove                            2766\n",
       "furniture.living_room.cabinet            2543\n",
       "furniture.bathroom.bath                  2440\n",
       "accessories.bag                           940\n",
       "accessories.cosmetic_bag                  123\n",
       "appliances.personal.hair_cutter           106\n",
       "appliances.environment.air_conditioner    100"
      ]
     },
     "execution_count": 27,
     "metadata": {},
     "output_type": "execute_result"
    }
   ],
   "source": [
    "view = nov.loc[nov['event_type'] == 'view']\n",
    "view = view.dropna(axis='rows')\n",
    "view.groupby('category_code')['event_type'].agg(['count']).sort_values(by = 'count', ascending=False)"
   ]
  },
  {
   "cell_type": "markdown",
   "id": "fluid-dispute",
   "metadata": {
    "papermill": {
     "duration": 0.064384,
     "end_time": "2021-04-11T03:17:53.833326",
     "exception": false,
     "start_time": "2021-04-11T03:17:53.768942",
     "status": "completed"
    },
    "tags": []
   },
   "source": [
    "#### 소비자들은 어떤 브랜드를 많이 구매했을까?"
   ]
  },
  {
   "cell_type": "code",
   "execution_count": 28,
   "id": "extended-queen",
   "metadata": {
    "execution": {
     "iopub.execute_input": "2021-04-11T03:17:53.969267Z",
     "iopub.status.busy": "2021-04-11T03:17:53.960753Z",
     "iopub.status.idle": "2021-04-11T03:17:53.973946Z",
     "shell.execute_reply": "2021-04-11T03:17:53.973427Z"
    },
    "papermill": {
     "duration": 0.081363,
     "end_time": "2021-04-11T03:17:53.974110",
     "exception": false,
     "start_time": "2021-04-11T03:17:53.892747",
     "status": "completed"
    },
    "tags": []
   },
   "outputs": [
    {
     "data": {
      "text/html": [
       "<div>\n",
       "<style scoped>\n",
       "    .dataframe tbody tr th:only-of-type {\n",
       "        vertical-align: middle;\n",
       "    }\n",
       "\n",
       "    .dataframe tbody tr th {\n",
       "        vertical-align: top;\n",
       "    }\n",
       "\n",
       "    .dataframe thead th {\n",
       "        text-align: right;\n",
       "    }\n",
       "</style>\n",
       "<table border=\"1\" class=\"dataframe\">\n",
       "  <thead>\n",
       "    <tr style=\"text-align: right;\">\n",
       "      <th></th>\n",
       "      <th>count</th>\n",
       "    </tr>\n",
       "    <tr>\n",
       "      <th>brand</th>\n",
       "      <th></th>\n",
       "    </tr>\n",
       "  </thead>\n",
       "  <tbody>\n",
       "    <tr>\n",
       "      <th>italwax</th>\n",
       "      <td>1080</td>\n",
       "    </tr>\n",
       "    <tr>\n",
       "      <th>benovy</th>\n",
       "      <td>465</td>\n",
       "    </tr>\n",
       "    <tr>\n",
       "      <th>depilflax</th>\n",
       "      <td>219</td>\n",
       "    </tr>\n",
       "    <tr>\n",
       "      <th>polarus</th>\n",
       "      <td>212</td>\n",
       "    </tr>\n",
       "    <tr>\n",
       "      <th>domix</th>\n",
       "      <td>167</td>\n",
       "    </tr>\n",
       "    <tr>\n",
       "      <th>max</th>\n",
       "      <td>154</td>\n",
       "    </tr>\n",
       "    <tr>\n",
       "      <th>runail</th>\n",
       "      <td>154</td>\n",
       "    </tr>\n",
       "    <tr>\n",
       "      <th>irisk</th>\n",
       "      <td>144</td>\n",
       "    </tr>\n",
       "    <tr>\n",
       "      <th>emil</th>\n",
       "      <td>133</td>\n",
       "    </tr>\n",
       "    <tr>\n",
       "      <th>nitrile</th>\n",
       "      <td>125</td>\n",
       "    </tr>\n",
       "    <tr>\n",
       "      <th>nitrimax</th>\n",
       "      <td>118</td>\n",
       "    </tr>\n",
       "    <tr>\n",
       "      <th>jessnail</th>\n",
       "      <td>66</td>\n",
       "    </tr>\n",
       "    <tr>\n",
       "      <th>yoko</th>\n",
       "      <td>44</td>\n",
       "    </tr>\n",
       "    <tr>\n",
       "      <th>profepil</th>\n",
       "      <td>19</td>\n",
       "    </tr>\n",
       "    <tr>\n",
       "      <th>nirvel</th>\n",
       "      <td>13</td>\n",
       "    </tr>\n",
       "    <tr>\n",
       "      <th>milv</th>\n",
       "      <td>12</td>\n",
       "    </tr>\n",
       "    <tr>\n",
       "      <th>gehwol</th>\n",
       "      <td>8</td>\n",
       "    </tr>\n",
       "    <tr>\n",
       "      <th>mavala</th>\n",
       "      <td>6</td>\n",
       "    </tr>\n",
       "    <tr>\n",
       "      <th>vosev</th>\n",
       "      <td>5</td>\n",
       "    </tr>\n",
       "    <tr>\n",
       "      <th>kinetics</th>\n",
       "      <td>4</td>\n",
       "    </tr>\n",
       "  </tbody>\n",
       "</table>\n",
       "</div>"
      ],
      "text/plain": [
       "           count\n",
       "brand           \n",
       "italwax     1080\n",
       "benovy       465\n",
       "depilflax    219\n",
       "polarus      212\n",
       "domix        167\n",
       "max          154\n",
       "runail       154\n",
       "irisk        144\n",
       "emil         133\n",
       "nitrile      125\n",
       "nitrimax     118\n",
       "jessnail      66\n",
       "yoko          44\n",
       "profepil      19\n",
       "nirvel        13\n",
       "milv          12\n",
       "gehwol         8\n",
       "mavala         6\n",
       "vosev          5\n",
       "kinetics       4"
      ]
     },
     "execution_count": 28,
     "metadata": {},
     "output_type": "execute_result"
    }
   ],
   "source": [
    "top_sellers = purchase.groupby('brand')['brand'].agg(['count']).sort_values('count', ascending=False)\n",
    "top_sellers.head(20)"
   ]
  },
  {
   "cell_type": "markdown",
   "id": "corporate-remove",
   "metadata": {
    "papermill": {
     "duration": 0.058761,
     "end_time": "2021-04-11T03:17:54.091125",
     "exception": false,
     "start_time": "2021-04-11T03:17:54.032364",
     "status": "completed"
    },
    "tags": []
   },
   "source": [
    "# Modeling: predict at time of addition to shopping cart if user will purchase a given product or not\n",
    "### Feature engineering\n",
    "\n",
    "Restructure the data to feed into the machine learning model. For this use case, I only target the data which customers have \"put\" the product in the cart.\n",
    "\n",
    "Furthermore, I add some new features into the training data set:\n",
    "\n",
    "- category_code_level1: category\n",
    "- category_code_level2: sub-category\n",
    "- event_weekday: weekday of the event\n",
    "- activity_count: number of activity in that session\n",
    "- is_purchased: whether the put in cart item is purchased(event_type이 'purchase'이면 1, 아니면 0)\n",
    "\n",
    "Thus, the training data set contains every non-duplicated cart transaction (within the same session, I only keep one record for a particular product in the cart) with above mentioned new feature. I will use those features, including the original price and brand to predict whether customers will eventually purchase the item in the cart."
   ]
  },
  {
   "cell_type": "code",
   "execution_count": 29,
   "id": "grand-lafayette",
   "metadata": {
    "execution": {
     "iopub.execute_input": "2021-04-11T03:17:54.213252Z",
     "iopub.status.busy": "2021-04-11T03:17:54.212612Z",
     "iopub.status.idle": "2021-04-11T03:17:54.624170Z",
     "shell.execute_reply": "2021-04-11T03:17:54.624687Z"
    },
    "papermill": {
     "duration": 0.475245,
     "end_time": "2021-04-11T03:17:54.624870",
     "exception": false,
     "start_time": "2021-04-11T03:17:54.149625",
     "status": "completed"
    },
    "tags": []
   },
   "outputs": [],
   "source": [
    "df = nov.copy()"
   ]
  },
  {
   "cell_type": "code",
   "execution_count": 30,
   "id": "angry-hearts",
   "metadata": {
    "execution": {
     "iopub.execute_input": "2021-04-11T03:17:55.006834Z",
     "iopub.status.busy": "2021-04-11T03:17:55.005684Z",
     "iopub.status.idle": "2021-04-11T03:18:14.123993Z",
     "shell.execute_reply": "2021-04-11T03:18:14.124592Z"
    },
    "papermill": {
     "duration": 19.441607,
     "end_time": "2021-04-11T03:18:14.124798",
     "exception": false,
     "start_time": "2021-04-11T03:17:54.683191",
     "status": "completed"
    },
    "tags": []
   },
   "outputs": [],
   "source": [
    "df_targets = df.loc[df[\"event_type\"].isin([\"cart\",\"purchase\"])].drop_duplicates(subset=['event_type', 'product_id','price', 'user_id','user_session'])\n",
    "df_targets[\"is_purchased\"] = np.where(df_targets[\"event_type\"]==\"purchase\",1,0)\n",
    "df_targets[\"is_purchased\"] = df_targets.groupby([\"user_session\",\"product_id\"])[\"is_purchased\"].transform(\"max\")\n",
    "df_targets = df_targets.loc[df_targets[\"event_type\"]==\"cart\"].drop_duplicates([\"user_session\",\"product_id\",\"is_purchased\"])\n",
    "df_targets['event_weekday'] = df_targets['event_time'].apply(lambda s: str(datetime.strptime(str(s)[0:10], \"%Y-%m-%d\").weekday()))\n",
    "df_targets.dropna(how='any', inplace=True)\n",
    "df_targets[\"category_code_level1\"] = df_targets[\"category_code\"].str.split(\".\",expand=True)[0].astype('category')\n",
    "df_targets[\"category_code_level2\"] = df_targets[\"category_code\"].str.split(\".\",expand=True)[1].astype('category')"
   ]
  },
  {
   "cell_type": "code",
   "execution_count": 31,
   "id": "choice-genre",
   "metadata": {
    "execution": {
     "iopub.execute_input": "2021-04-11T03:18:14.250489Z",
     "iopub.status.busy": "2021-04-11T03:18:14.249533Z",
     "iopub.status.idle": "2021-04-11T03:18:14.272793Z",
     "shell.execute_reply": "2021-04-11T03:18:14.272062Z"
    },
    "papermill": {
     "duration": 0.088212,
     "end_time": "2021-04-11T03:18:14.272962",
     "exception": false,
     "start_time": "2021-04-11T03:18:14.184750",
     "status": "completed"
    },
    "tags": []
   },
   "outputs": [
    {
     "data": {
      "text/html": [
       "<div>\n",
       "<style scoped>\n",
       "    .dataframe tbody tr th:only-of-type {\n",
       "        vertical-align: middle;\n",
       "    }\n",
       "\n",
       "    .dataframe tbody tr th {\n",
       "        vertical-align: top;\n",
       "    }\n",
       "\n",
       "    .dataframe thead th {\n",
       "        text-align: right;\n",
       "    }\n",
       "</style>\n",
       "<table border=\"1\" class=\"dataframe\">\n",
       "  <thead>\n",
       "    <tr style=\"text-align: right;\">\n",
       "      <th></th>\n",
       "      <th>event_time</th>\n",
       "      <th>event_type</th>\n",
       "      <th>product_id</th>\n",
       "      <th>category_id</th>\n",
       "      <th>category_code</th>\n",
       "      <th>brand</th>\n",
       "      <th>price</th>\n",
       "      <th>user_id</th>\n",
       "      <th>user_session</th>\n",
       "      <th>is_purchased</th>\n",
       "      <th>event_weekday</th>\n",
       "      <th>category_code_level1</th>\n",
       "      <th>category_code_level2</th>\n",
       "    </tr>\n",
       "  </thead>\n",
       "  <tbody>\n",
       "    <tr>\n",
       "      <th>376</th>\n",
       "      <td>2019-11-01 00:29:32 UTC</td>\n",
       "      <td>cart</td>\n",
       "      <td>5749199</td>\n",
       "      <td>1487580013053083824</td>\n",
       "      <td>stationery.cartrige</td>\n",
       "      <td>italwax</td>\n",
       "      <td>1.98</td>\n",
       "      <td>457604149</td>\n",
       "      <td>34adbc64-eebc-4d45-8542-547b9c20f6c1</td>\n",
       "      <td>1.0</td>\n",
       "      <td>4</td>\n",
       "      <td>stationery</td>\n",
       "      <td>cartrige</td>\n",
       "    </tr>\n",
       "    <tr>\n",
       "      <th>382</th>\n",
       "      <td>2019-11-01 00:29:59 UTC</td>\n",
       "      <td>cart</td>\n",
       "      <td>5775814</td>\n",
       "      <td>1487580013053083824</td>\n",
       "      <td>stationery.cartrige</td>\n",
       "      <td>italwax</td>\n",
       "      <td>1.98</td>\n",
       "      <td>457604149</td>\n",
       "      <td>34adbc64-eebc-4d45-8542-547b9c20f6c1</td>\n",
       "      <td>1.0</td>\n",
       "      <td>4</td>\n",
       "      <td>stationery</td>\n",
       "      <td>cartrige</td>\n",
       "    </tr>\n",
       "    <tr>\n",
       "      <th>389</th>\n",
       "      <td>2019-11-01 00:30:24 UTC</td>\n",
       "      <td>cart</td>\n",
       "      <td>5788783</td>\n",
       "      <td>1487580013053083824</td>\n",
       "      <td>stationery.cartrige</td>\n",
       "      <td>italwax</td>\n",
       "      <td>1.98</td>\n",
       "      <td>457604149</td>\n",
       "      <td>34adbc64-eebc-4d45-8542-547b9c20f6c1</td>\n",
       "      <td>1.0</td>\n",
       "      <td>4</td>\n",
       "      <td>stationery</td>\n",
       "      <td>cartrige</td>\n",
       "    </tr>\n",
       "    <tr>\n",
       "      <th>397</th>\n",
       "      <td>2019-11-01 00:30:49 UTC</td>\n",
       "      <td>cart</td>\n",
       "      <td>5855510</td>\n",
       "      <td>1487580006350586771</td>\n",
       "      <td>appliances.environment.vacuum</td>\n",
       "      <td>max</td>\n",
       "      <td>95.08</td>\n",
       "      <td>513114494</td>\n",
       "      <td>4d9cd992-d34d-4dc4-abe8-0f941ae1fa97</td>\n",
       "      <td>0.0</td>\n",
       "      <td>4</td>\n",
       "      <td>appliances</td>\n",
       "      <td>environment</td>\n",
       "    </tr>\n",
       "    <tr>\n",
       "      <th>446</th>\n",
       "      <td>2019-11-01 00:34:01 UTC</td>\n",
       "      <td>cart</td>\n",
       "      <td>5885590</td>\n",
       "      <td>1487580006350586771</td>\n",
       "      <td>appliances.environment.vacuum</td>\n",
       "      <td>polarus</td>\n",
       "      <td>78.57</td>\n",
       "      <td>566283723</td>\n",
       "      <td>b023f80f-362b-43fe-a3b0-d32279f42a82</td>\n",
       "      <td>0.0</td>\n",
       "      <td>4</td>\n",
       "      <td>appliances</td>\n",
       "      <td>environment</td>\n",
       "    </tr>\n",
       "  </tbody>\n",
       "</table>\n",
       "</div>"
      ],
      "text/plain": [
       "                  event_time event_type  product_id          category_id  \\\n",
       "376  2019-11-01 00:29:32 UTC       cart     5749199  1487580013053083824   \n",
       "382  2019-11-01 00:29:59 UTC       cart     5775814  1487580013053083824   \n",
       "389  2019-11-01 00:30:24 UTC       cart     5788783  1487580013053083824   \n",
       "397  2019-11-01 00:30:49 UTC       cart     5855510  1487580006350586771   \n",
       "446  2019-11-01 00:34:01 UTC       cart     5885590  1487580006350586771   \n",
       "\n",
       "                     category_code    brand  price    user_id  \\\n",
       "376            stationery.cartrige  italwax   1.98  457604149   \n",
       "382            stationery.cartrige  italwax   1.98  457604149   \n",
       "389            stationery.cartrige  italwax   1.98  457604149   \n",
       "397  appliances.environment.vacuum      max  95.08  513114494   \n",
       "446  appliances.environment.vacuum  polarus  78.57  566283723   \n",
       "\n",
       "                             user_session  is_purchased event_weekday  \\\n",
       "376  34adbc64-eebc-4d45-8542-547b9c20f6c1           1.0             4   \n",
       "382  34adbc64-eebc-4d45-8542-547b9c20f6c1           1.0             4   \n",
       "389  34adbc64-eebc-4d45-8542-547b9c20f6c1           1.0             4   \n",
       "397  4d9cd992-d34d-4dc4-abe8-0f941ae1fa97           0.0             4   \n",
       "446  b023f80f-362b-43fe-a3b0-d32279f42a82           0.0             4   \n",
       "\n",
       "    category_code_level1 category_code_level2  \n",
       "376           stationery             cartrige  \n",
       "382           stationery             cartrige  \n",
       "389           stationery             cartrige  \n",
       "397           appliances          environment  \n",
       "446           appliances          environment  "
      ]
     },
     "execution_count": 31,
     "metadata": {},
     "output_type": "execute_result"
    }
   ],
   "source": [
    "#새로 생긴 컬럼: is_purchased, event_weekday, category_level 1,2\n",
    "df_targets.head()"
   ]
  },
  {
   "cell_type": "code",
   "execution_count": 32,
   "id": "engaging-crash",
   "metadata": {
    "execution": {
     "iopub.execute_input": "2021-04-11T03:18:14.619769Z",
     "iopub.status.busy": "2021-04-11T03:18:14.618984Z",
     "iopub.status.idle": "2021-04-11T03:18:15.111971Z",
     "shell.execute_reply": "2021-04-11T03:18:15.111078Z"
    },
    "papermill": {
     "duration": 0.776843,
     "end_time": "2021-04-11T03:18:15.112163",
     "exception": false,
     "start_time": "2021-04-11T03:18:14.335320",
     "status": "completed"
    },
    "tags": []
   },
   "outputs": [],
   "source": [
    "cart_purchase_users = df.loc[df[\"event_type\"].isin([\"cart\",\"purchase\"])].drop_duplicates(subset=['user_id'])\n",
    "cart_purchase_users.dropna(how='any', inplace=True)\n",
    "cart_purchase_users_all_activity = df.loc[df['user_id'].isin(cart_purchase_users['user_id'])]"
   ]
  },
  {
   "cell_type": "code",
   "execution_count": 33,
   "id": "different-prior",
   "metadata": {
    "execution": {
     "iopub.execute_input": "2021-04-11T03:18:15.250293Z",
     "iopub.status.busy": "2021-04-11T03:18:15.249355Z",
     "iopub.status.idle": "2021-04-11T03:18:15.254839Z",
     "shell.execute_reply": "2021-04-11T03:18:15.254300Z"
    },
    "papermill": {
     "duration": 0.081748,
     "end_time": "2021-04-11T03:18:15.255011",
     "exception": false,
     "start_time": "2021-04-11T03:18:15.173263",
     "status": "completed"
    },
    "tags": []
   },
   "outputs": [
    {
     "data": {
      "text/html": [
       "<div>\n",
       "<style scoped>\n",
       "    .dataframe tbody tr th:only-of-type {\n",
       "        vertical-align: middle;\n",
       "    }\n",
       "\n",
       "    .dataframe tbody tr th {\n",
       "        vertical-align: top;\n",
       "    }\n",
       "\n",
       "    .dataframe thead th {\n",
       "        text-align: right;\n",
       "    }\n",
       "</style>\n",
       "<table border=\"1\" class=\"dataframe\">\n",
       "  <thead>\n",
       "    <tr style=\"text-align: right;\">\n",
       "      <th></th>\n",
       "      <th>event_time</th>\n",
       "      <th>event_type</th>\n",
       "      <th>product_id</th>\n",
       "      <th>category_id</th>\n",
       "      <th>category_code</th>\n",
       "      <th>brand</th>\n",
       "      <th>price</th>\n",
       "      <th>user_id</th>\n",
       "      <th>user_session</th>\n",
       "    </tr>\n",
       "  </thead>\n",
       "  <tbody>\n",
       "    <tr>\n",
       "      <th>252</th>\n",
       "      <td>2019-11-01 00:18:27 UTC</td>\n",
       "      <td>view</td>\n",
       "      <td>5743974</td>\n",
       "      <td>1487580013053083824</td>\n",
       "      <td>stationery.cartrige</td>\n",
       "      <td>italwax</td>\n",
       "      <td>1.98</td>\n",
       "      <td>370706182</td>\n",
       "      <td>6223f8f8-7eb1-498a-b35e-8292ea3c7b9e</td>\n",
       "    </tr>\n",
       "    <tr>\n",
       "      <th>365</th>\n",
       "      <td>2019-11-01 00:28:53 UTC</td>\n",
       "      <td>view</td>\n",
       "      <td>5657900</td>\n",
       "      <td>1487580013053083824</td>\n",
       "      <td>stationery.cartrige</td>\n",
       "      <td>NaN</td>\n",
       "      <td>2.06</td>\n",
       "      <td>457604149</td>\n",
       "      <td>34adbc64-eebc-4d45-8542-547b9c20f6c1</td>\n",
       "    </tr>\n",
       "    <tr>\n",
       "      <th>376</th>\n",
       "      <td>2019-11-01 00:29:32 UTC</td>\n",
       "      <td>cart</td>\n",
       "      <td>5749199</td>\n",
       "      <td>1487580013053083824</td>\n",
       "      <td>stationery.cartrige</td>\n",
       "      <td>italwax</td>\n",
       "      <td>1.98</td>\n",
       "      <td>457604149</td>\n",
       "      <td>34adbc64-eebc-4d45-8542-547b9c20f6c1</td>\n",
       "    </tr>\n",
       "    <tr>\n",
       "      <th>382</th>\n",
       "      <td>2019-11-01 00:29:59 UTC</td>\n",
       "      <td>cart</td>\n",
       "      <td>5775814</td>\n",
       "      <td>1487580013053083824</td>\n",
       "      <td>stationery.cartrige</td>\n",
       "      <td>italwax</td>\n",
       "      <td>1.98</td>\n",
       "      <td>457604149</td>\n",
       "      <td>34adbc64-eebc-4d45-8542-547b9c20f6c1</td>\n",
       "    </tr>\n",
       "    <tr>\n",
       "      <th>387</th>\n",
       "      <td>2019-11-01 00:30:07 UTC</td>\n",
       "      <td>view</td>\n",
       "      <td>5885590</td>\n",
       "      <td>1487580006350586771</td>\n",
       "      <td>appliances.environment.vacuum</td>\n",
       "      <td>polarus</td>\n",
       "      <td>78.57</td>\n",
       "      <td>566283723</td>\n",
       "      <td>b023f80f-362b-43fe-a3b0-d32279f42a82</td>\n",
       "    </tr>\n",
       "  </tbody>\n",
       "</table>\n",
       "</div>"
      ],
      "text/plain": [
       "                  event_time event_type  product_id          category_id  \\\n",
       "252  2019-11-01 00:18:27 UTC       view     5743974  1487580013053083824   \n",
       "365  2019-11-01 00:28:53 UTC       view     5657900  1487580013053083824   \n",
       "376  2019-11-01 00:29:32 UTC       cart     5749199  1487580013053083824   \n",
       "382  2019-11-01 00:29:59 UTC       cart     5775814  1487580013053083824   \n",
       "387  2019-11-01 00:30:07 UTC       view     5885590  1487580006350586771   \n",
       "\n",
       "                     category_code    brand  price    user_id  \\\n",
       "252            stationery.cartrige  italwax   1.98  370706182   \n",
       "365            stationery.cartrige      NaN   2.06  457604149   \n",
       "376            stationery.cartrige  italwax   1.98  457604149   \n",
       "382            stationery.cartrige  italwax   1.98  457604149   \n",
       "387  appliances.environment.vacuum  polarus  78.57  566283723   \n",
       "\n",
       "                             user_session  \n",
       "252  6223f8f8-7eb1-498a-b35e-8292ea3c7b9e  \n",
       "365  34adbc64-eebc-4d45-8542-547b9c20f6c1  \n",
       "376  34adbc64-eebc-4d45-8542-547b9c20f6c1  \n",
       "382  34adbc64-eebc-4d45-8542-547b9c20f6c1  \n",
       "387  b023f80f-362b-43fe-a3b0-d32279f42a82  "
      ]
     },
     "execution_count": 33,
     "metadata": {},
     "output_type": "execute_result"
    }
   ],
   "source": [
    "cart_purchase_users_all_activity.head()"
   ]
  },
  {
   "cell_type": "markdown",
   "id": "frank-above",
   "metadata": {
    "papermill": {
     "duration": 0.061395,
     "end_time": "2021-04-11T03:18:15.378425",
     "exception": false,
     "start_time": "2021-04-11T03:18:15.317030",
     "status": "completed"
    },
    "tags": []
   },
   "source": [
    "#### session 안의 activity를 카운트하기 위한 df 생성"
   ]
  },
  {
   "cell_type": "code",
   "execution_count": 34,
   "id": "potential-stability",
   "metadata": {
    "execution": {
     "iopub.execute_input": "2021-04-11T03:18:15.528067Z",
     "iopub.status.busy": "2021-04-11T03:18:15.527072Z",
     "iopub.status.idle": "2021-04-11T03:18:15.551386Z",
     "shell.execute_reply": "2021-04-11T03:18:15.550152Z"
    },
    "papermill": {
     "duration": 0.111247,
     "end_time": "2021-04-11T03:18:15.551562",
     "exception": false,
     "start_time": "2021-04-11T03:18:15.440315",
     "status": "completed"
    },
    "tags": []
   },
   "outputs": [
    {
     "data": {
      "text/html": [
       "<div>\n",
       "<style scoped>\n",
       "    .dataframe tbody tr th:only-of-type {\n",
       "        vertical-align: middle;\n",
       "    }\n",
       "\n",
       "    .dataframe tbody tr th {\n",
       "        vertical-align: top;\n",
       "    }\n",
       "\n",
       "    .dataframe thead th {\n",
       "        text-align: right;\n",
       "    }\n",
       "</style>\n",
       "<table border=\"1\" class=\"dataframe\">\n",
       "  <thead>\n",
       "    <tr style=\"text-align: right;\">\n",
       "      <th></th>\n",
       "      <th>user_session</th>\n",
       "      <th>activity_count</th>\n",
       "    </tr>\n",
       "  </thead>\n",
       "  <tbody>\n",
       "    <tr>\n",
       "      <th>0</th>\n",
       "      <td>0014f534-f34d-47b9-9720-363d184b21b9</td>\n",
       "      <td>1</td>\n",
       "    </tr>\n",
       "    <tr>\n",
       "      <th>1</th>\n",
       "      <td>0036d3ff-652f-4cc7-b1f0-b7d23ecfc092</td>\n",
       "      <td>4</td>\n",
       "    </tr>\n",
       "    <tr>\n",
       "      <th>2</th>\n",
       "      <td>003c1d09-749a-44b2-b0af-9c82c9a11182</td>\n",
       "      <td>70</td>\n",
       "    </tr>\n",
       "    <tr>\n",
       "      <th>3</th>\n",
       "      <td>0043a9c0-6a69-4a8e-bad0-e065c2797118</td>\n",
       "      <td>1</td>\n",
       "    </tr>\n",
       "    <tr>\n",
       "      <th>4</th>\n",
       "      <td>0048da97-22ea-4d7b-a2c2-4a376f754a51</td>\n",
       "      <td>1</td>\n",
       "    </tr>\n",
       "    <tr>\n",
       "      <th>...</th>\n",
       "      <td>...</td>\n",
       "      <td>...</td>\n",
       "    </tr>\n",
       "    <tr>\n",
       "      <th>6861</th>\n",
       "      <td>ffe1f40e-242a-4a39-926b-e5df4321bf61</td>\n",
       "      <td>1</td>\n",
       "    </tr>\n",
       "    <tr>\n",
       "      <th>6862</th>\n",
       "      <td>ffe2ee5c-2b63-46f8-b7bd-090e9f0b4966</td>\n",
       "      <td>3</td>\n",
       "    </tr>\n",
       "    <tr>\n",
       "      <th>6863</th>\n",
       "      <td>ffe84b00-701e-4501-8e07-f7e41c44600c</td>\n",
       "      <td>11</td>\n",
       "    </tr>\n",
       "    <tr>\n",
       "      <th>6864</th>\n",
       "      <td>fff32e24-e6c9-4aca-a600-ba16c33c5c45</td>\n",
       "      <td>18</td>\n",
       "    </tr>\n",
       "    <tr>\n",
       "      <th>6865</th>\n",
       "      <td>fff6d5a8-c813-48d2-a9e2-49db9d500bfa</td>\n",
       "      <td>1</td>\n",
       "    </tr>\n",
       "  </tbody>\n",
       "</table>\n",
       "<p>6866 rows × 2 columns</p>\n",
       "</div>"
      ],
      "text/plain": [
       "                              user_session  activity_count\n",
       "0     0014f534-f34d-47b9-9720-363d184b21b9               1\n",
       "1     0036d3ff-652f-4cc7-b1f0-b7d23ecfc092               4\n",
       "2     003c1d09-749a-44b2-b0af-9c82c9a11182              70\n",
       "3     0043a9c0-6a69-4a8e-bad0-e065c2797118               1\n",
       "4     0048da97-22ea-4d7b-a2c2-4a376f754a51               1\n",
       "...                                    ...             ...\n",
       "6861  ffe1f40e-242a-4a39-926b-e5df4321bf61               1\n",
       "6862  ffe2ee5c-2b63-46f8-b7bd-090e9f0b4966               3\n",
       "6863  ffe84b00-701e-4501-8e07-f7e41c44600c              11\n",
       "6864  fff32e24-e6c9-4aca-a600-ba16c33c5c45              18\n",
       "6865  fff6d5a8-c813-48d2-a9e2-49db9d500bfa               1\n",
       "\n",
       "[6866 rows x 2 columns]"
      ]
     },
     "execution_count": 34,
     "metadata": {},
     "output_type": "execute_result"
    }
   ],
   "source": [
    "activity_in_session = cart_purchase_users_all_activity.groupby(['user_session'])['event_type'].count().reset_index()\n",
    "activity_in_session = activity_in_session.rename(columns={\"event_type\": \"activity_count\"})\n",
    "activity_in_session"
   ]
  },
  {
   "cell_type": "code",
   "execution_count": 35,
   "id": "martial-quick",
   "metadata": {
    "execution": {
     "iopub.execute_input": "2021-04-11T03:18:15.678622Z",
     "iopub.status.busy": "2021-04-11T03:18:15.678001Z",
     "iopub.status.idle": "2021-04-11T03:18:15.680705Z",
     "shell.execute_reply": "2021-04-11T03:18:15.681166Z"
    },
    "papermill": {
     "duration": 0.068319,
     "end_time": "2021-04-11T03:18:15.681363",
     "exception": false,
     "start_time": "2021-04-11T03:18:15.613044",
     "status": "completed"
    },
    "tags": []
   },
   "outputs": [],
   "source": [
    "del d # free memory"
   ]
  },
  {
   "cell_type": "code",
   "execution_count": 36,
   "id": "literary-journey",
   "metadata": {
    "execution": {
     "iopub.execute_input": "2021-04-11T03:18:15.806956Z",
     "iopub.status.busy": "2021-04-11T03:18:15.806327Z",
     "iopub.status.idle": "2021-04-11T03:18:15.851226Z",
     "shell.execute_reply": "2021-04-11T03:18:15.850625Z"
    },
    "papermill": {
     "duration": 0.108852,
     "end_time": "2021-04-11T03:18:15.851379",
     "exception": false,
     "start_time": "2021-04-11T03:18:15.742527",
     "status": "completed"
    },
    "tags": []
   },
   "outputs": [
    {
     "data": {
      "text/html": [
       "<div>\n",
       "<style scoped>\n",
       "    .dataframe tbody tr th:only-of-type {\n",
       "        vertical-align: middle;\n",
       "    }\n",
       "\n",
       "    .dataframe tbody tr th {\n",
       "        vertical-align: top;\n",
       "    }\n",
       "\n",
       "    .dataframe thead th {\n",
       "        text-align: right;\n",
       "    }\n",
       "</style>\n",
       "<table border=\"1\" class=\"dataframe\">\n",
       "  <thead>\n",
       "    <tr style=\"text-align: right;\">\n",
       "      <th></th>\n",
       "      <th>event_time</th>\n",
       "      <th>event_type</th>\n",
       "      <th>product_id</th>\n",
       "      <th>category_id</th>\n",
       "      <th>category_code</th>\n",
       "      <th>brand</th>\n",
       "      <th>price</th>\n",
       "      <th>user_id</th>\n",
       "      <th>user_session</th>\n",
       "      <th>is_purchased</th>\n",
       "      <th>event_weekday</th>\n",
       "      <th>category_code_level1</th>\n",
       "      <th>category_code_level2</th>\n",
       "      <th>activity_count</th>\n",
       "    </tr>\n",
       "  </thead>\n",
       "  <tbody>\n",
       "    <tr>\n",
       "      <th>0</th>\n",
       "      <td>2019-11-01 00:29:32 UTC</td>\n",
       "      <td>cart</td>\n",
       "      <td>5749199</td>\n",
       "      <td>1487580013053083824</td>\n",
       "      <td>stationery.cartrige</td>\n",
       "      <td>italwax</td>\n",
       "      <td>1.98</td>\n",
       "      <td>457604149</td>\n",
       "      <td>34adbc64-eebc-4d45-8542-547b9c20f6c1</td>\n",
       "      <td>1.0</td>\n",
       "      <td>4</td>\n",
       "      <td>stationery</td>\n",
       "      <td>cartrige</td>\n",
       "      <td>17.0</td>\n",
       "    </tr>\n",
       "    <tr>\n",
       "      <th>1</th>\n",
       "      <td>2019-11-01 00:29:59 UTC</td>\n",
       "      <td>cart</td>\n",
       "      <td>5775814</td>\n",
       "      <td>1487580013053083824</td>\n",
       "      <td>stationery.cartrige</td>\n",
       "      <td>italwax</td>\n",
       "      <td>1.98</td>\n",
       "      <td>457604149</td>\n",
       "      <td>34adbc64-eebc-4d45-8542-547b9c20f6c1</td>\n",
       "      <td>1.0</td>\n",
       "      <td>4</td>\n",
       "      <td>stationery</td>\n",
       "      <td>cartrige</td>\n",
       "      <td>17.0</td>\n",
       "    </tr>\n",
       "    <tr>\n",
       "      <th>2</th>\n",
       "      <td>2019-11-01 00:30:24 UTC</td>\n",
       "      <td>cart</td>\n",
       "      <td>5788783</td>\n",
       "      <td>1487580013053083824</td>\n",
       "      <td>stationery.cartrige</td>\n",
       "      <td>italwax</td>\n",
       "      <td>1.98</td>\n",
       "      <td>457604149</td>\n",
       "      <td>34adbc64-eebc-4d45-8542-547b9c20f6c1</td>\n",
       "      <td>1.0</td>\n",
       "      <td>4</td>\n",
       "      <td>stationery</td>\n",
       "      <td>cartrige</td>\n",
       "      <td>17.0</td>\n",
       "    </tr>\n",
       "    <tr>\n",
       "      <th>3</th>\n",
       "      <td>2019-11-01 00:30:49 UTC</td>\n",
       "      <td>cart</td>\n",
       "      <td>5855510</td>\n",
       "      <td>1487580006350586771</td>\n",
       "      <td>appliances.environment.vacuum</td>\n",
       "      <td>max</td>\n",
       "      <td>95.08</td>\n",
       "      <td>513114494</td>\n",
       "      <td>4d9cd992-d34d-4dc4-abe8-0f941ae1fa97</td>\n",
       "      <td>0.0</td>\n",
       "      <td>4</td>\n",
       "      <td>appliances</td>\n",
       "      <td>environment</td>\n",
       "      <td>0.0</td>\n",
       "    </tr>\n",
       "    <tr>\n",
       "      <th>4</th>\n",
       "      <td>2019-11-01 00:34:01 UTC</td>\n",
       "      <td>cart</td>\n",
       "      <td>5885590</td>\n",
       "      <td>1487580006350586771</td>\n",
       "      <td>appliances.environment.vacuum</td>\n",
       "      <td>polarus</td>\n",
       "      <td>78.57</td>\n",
       "      <td>566283723</td>\n",
       "      <td>b023f80f-362b-43fe-a3b0-d32279f42a82</td>\n",
       "      <td>0.0</td>\n",
       "      <td>4</td>\n",
       "      <td>appliances</td>\n",
       "      <td>environment</td>\n",
       "      <td>5.0</td>\n",
       "    </tr>\n",
       "  </tbody>\n",
       "</table>\n",
       "</div>"
      ],
      "text/plain": [
       "                event_time event_type  product_id          category_id  \\\n",
       "0  2019-11-01 00:29:32 UTC       cart     5749199  1487580013053083824   \n",
       "1  2019-11-01 00:29:59 UTC       cart     5775814  1487580013053083824   \n",
       "2  2019-11-01 00:30:24 UTC       cart     5788783  1487580013053083824   \n",
       "3  2019-11-01 00:30:49 UTC       cart     5855510  1487580006350586771   \n",
       "4  2019-11-01 00:34:01 UTC       cart     5885590  1487580006350586771   \n",
       "\n",
       "                   category_code    brand  price    user_id  \\\n",
       "0            stationery.cartrige  italwax   1.98  457604149   \n",
       "1            stationery.cartrige  italwax   1.98  457604149   \n",
       "2            stationery.cartrige  italwax   1.98  457604149   \n",
       "3  appliances.environment.vacuum      max  95.08  513114494   \n",
       "4  appliances.environment.vacuum  polarus  78.57  566283723   \n",
       "\n",
       "                           user_session  is_purchased event_weekday  \\\n",
       "0  34adbc64-eebc-4d45-8542-547b9c20f6c1           1.0             4   \n",
       "1  34adbc64-eebc-4d45-8542-547b9c20f6c1           1.0             4   \n",
       "2  34adbc64-eebc-4d45-8542-547b9c20f6c1           1.0             4   \n",
       "3  4d9cd992-d34d-4dc4-abe8-0f941ae1fa97           0.0             4   \n",
       "4  b023f80f-362b-43fe-a3b0-d32279f42a82           0.0             4   \n",
       "\n",
       "  category_code_level1 category_code_level2  activity_count  \n",
       "0           stationery             cartrige            17.0  \n",
       "1           stationery             cartrige            17.0  \n",
       "2           stationery             cartrige            17.0  \n",
       "3           appliances          environment             0.0  \n",
       "4           appliances          environment             5.0  "
      ]
     },
     "execution_count": 36,
     "metadata": {},
     "output_type": "execute_result"
    }
   ],
   "source": [
    "#위에서 만든 'activity_count' 열을 새로운 컬럼으로 생성 \n",
    "df_targets = df_targets.merge(activity_in_session, on='user_session', how='left')\n",
    "df_targets['activity_count'] = df_targets['activity_count'].fillna(0)\n",
    "df_targets.head()"
   ]
  },
  {
   "cell_type": "markdown",
   "id": "likely-contrary",
   "metadata": {
    "papermill": {
     "duration": 0.061648,
     "end_time": "2021-04-11T03:18:15.975531",
     "exception": false,
     "start_time": "2021-04-11T03:18:15.913883",
     "status": "completed"
    },
    "tags": []
   },
   "source": [
    "### 본격 모델링"
   ]
  },
  {
   "cell_type": "code",
   "execution_count": 37,
   "id": "toxic-archives",
   "metadata": {
    "execution": {
     "iopub.execute_input": "2021-04-11T03:18:16.105083Z",
     "iopub.status.busy": "2021-04-11T03:18:16.104259Z",
     "iopub.status.idle": "2021-04-11T03:18:16.227951Z",
     "shell.execute_reply": "2021-04-11T03:18:16.227237Z"
    },
    "papermill": {
     "duration": 0.191327,
     "end_time": "2021-04-11T03:18:16.228094",
     "exception": false,
     "start_time": "2021-04-11T03:18:16.036767",
     "status": "completed"
    },
    "tags": []
   },
   "outputs": [],
   "source": [
    "#미리 저장해두기\n",
    "df_targets.to_csv('training_data.csv')"
   ]
  },
  {
   "cell_type": "code",
   "execution_count": 38,
   "id": "floppy-pregnancy",
   "metadata": {
    "execution": {
     "iopub.execute_input": "2021-04-11T03:18:16.380581Z",
     "iopub.status.busy": "2021-04-11T03:18:16.370558Z",
     "iopub.status.idle": "2021-04-11T03:18:16.385149Z",
     "shell.execute_reply": "2021-04-11T03:18:16.385619Z"
    },
    "papermill": {
     "duration": 0.096198,
     "end_time": "2021-04-11T03:18:16.385793",
     "exception": false,
     "start_time": "2021-04-11T03:18:16.289595",
     "status": "completed"
    },
    "tags": []
   },
   "outputs": [
    {
     "name": "stdout",
     "output_type": "stream",
     "text": [
      "<class 'pandas.core.frame.DataFrame'>\n",
      "Int64Index: 8763 entries, 0 to 8762\n",
      "Data columns (total 14 columns):\n",
      " #   Column                Non-Null Count  Dtype   \n",
      "---  ------                --------------  -----   \n",
      " 0   event_time            8763 non-null   object  \n",
      " 1   event_type            8763 non-null   object  \n",
      " 2   product_id            8763 non-null   int64   \n",
      " 3   category_id           8763 non-null   int64   \n",
      " 4   category_code         8763 non-null   object  \n",
      " 5   brand                 8763 non-null   object  \n",
      " 6   price                 8763 non-null   float64 \n",
      " 7   user_id               8763 non-null   int64   \n",
      " 8   user_session          8763 non-null   object  \n",
      " 9   is_purchased          8763 non-null   float64 \n",
      " 10  event_weekday         8763 non-null   object  \n",
      " 11  category_code_level1  8763 non-null   category\n",
      " 12  category_code_level2  8763 non-null   category\n",
      " 13  activity_count        8763 non-null   float64 \n",
      "dtypes: category(2), float64(3), int64(3), object(6)\n",
      "memory usage: 907.7+ KB\n"
     ]
    }
   ],
   "source": [
    "df_targets.info()"
   ]
  },
  {
   "cell_type": "code",
   "execution_count": 39,
   "id": "combined-eugene",
   "metadata": {
    "execution": {
     "iopub.execute_input": "2021-04-11T03:18:16.514869Z",
     "iopub.status.busy": "2021-04-11T03:18:16.514021Z",
     "iopub.status.idle": "2021-04-11T03:18:17.856258Z",
     "shell.execute_reply": "2021-04-11T03:18:17.855655Z"
    },
    "papermill": {
     "duration": 1.408941,
     "end_time": "2021-04-11T03:18:17.856449",
     "exception": false,
     "start_time": "2021-04-11T03:18:16.447508",
     "status": "completed"
    },
    "tags": []
   },
   "outputs": [],
   "source": [
    "from sklearn.preprocessing import LabelEncoder\n",
    "from sklearn.preprocessing import MinMaxScaler\n",
    "from sklearn.model_selection import train_test_split\n",
    "from xgboost import plot_importance\n",
    "from sklearn.utils import resample\n",
    "from sklearn import metrics"
   ]
  },
  {
   "cell_type": "markdown",
   "id": "supposed-necessity",
   "metadata": {
    "papermill": {
     "duration": 0.062238,
     "end_time": "2021-04-11T03:18:17.982007",
     "exception": false,
     "start_time": "2021-04-11T03:18:17.919769",
     "status": "completed"
    },
    "tags": []
   },
   "source": [
    "### Resampling training set"
   ]
  },
  {
   "cell_type": "code",
   "execution_count": 40,
   "id": "racial-folder",
   "metadata": {
    "execution": {
     "iopub.execute_input": "2021-04-11T03:18:18.114911Z",
     "iopub.status.busy": "2021-04-11T03:18:18.114013Z",
     "iopub.status.idle": "2021-04-11T03:18:18.125121Z",
     "shell.execute_reply": "2021-04-11T03:18:18.124583Z"
    },
    "papermill": {
     "duration": 0.079908,
     "end_time": "2021-04-11T03:18:18.125257",
     "exception": false,
     "start_time": "2021-04-11T03:18:18.045349",
     "status": "completed"
    },
    "tags": []
   },
   "outputs": [
    {
     "data": {
      "text/plain": [
       "1622"
      ]
     },
     "execution_count": 40,
     "metadata": {},
     "output_type": "execute_result"
    }
   ],
   "source": [
    "#타겟인 is_purchased만 떼어내기 \n",
    "is_purcahase_set = df_targets[df_targets['is_purchased']== 1]\n",
    "is_purcahase_set.shape[0] #is_purchased=1인 것은 1622개"
   ]
  },
  {
   "cell_type": "code",
   "execution_count": 41,
   "id": "acknowledged-cyprus",
   "metadata": {
    "execution": {
     "iopub.execute_input": "2021-04-11T03:18:18.254082Z",
     "iopub.status.busy": "2021-04-11T03:18:18.253465Z",
     "iopub.status.idle": "2021-04-11T03:18:18.264875Z",
     "shell.execute_reply": "2021-04-11T03:18:18.264269Z"
    },
    "papermill": {
     "duration": 0.077834,
     "end_time": "2021-04-11T03:18:18.265048",
     "exception": false,
     "start_time": "2021-04-11T03:18:18.187214",
     "status": "completed"
    },
    "tags": []
   },
   "outputs": [
    {
     "data": {
      "text/plain": [
       "7141"
      ]
     },
     "execution_count": 41,
     "metadata": {},
     "output_type": "execute_result"
    }
   ],
   "source": [
    "not_purcahase_set = df_targets[df_targets['is_purchased']== 0]\n",
    "not_purcahase_set.shape[0] #반대로 is_purchased=0은 7141개"
   ]
  },
  {
   "cell_type": "code",
   "execution_count": 42,
   "id": "inside-interview",
   "metadata": {
    "execution": {
     "iopub.execute_input": "2021-04-11T03:18:18.401427Z",
     "iopub.status.busy": "2021-04-11T03:18:18.400419Z",
     "iopub.status.idle": "2021-04-11T03:18:18.426708Z",
     "shell.execute_reply": "2021-04-11T03:18:18.427232Z"
    },
    "papermill": {
     "duration": 0.095213,
     "end_time": "2021-04-11T03:18:18.427461",
     "exception": false,
     "start_time": "2021-04-11T03:18:18.332248",
     "status": "completed"
    },
    "tags": []
   },
   "outputs": [],
   "source": [
    "## train set 리샘플링 \n",
    "#본 데이터가(구매만 뽑은거) 만개가 안넘지만, 좀더 데이터를 많이 만들고자 5만개로 늘림.\n",
    "#그래서 replace=True로 생성 \n",
    "n_samples = 50000\n",
    "is_purchase_downsampled = resample(is_purcahase_set,\n",
    "                                replace = True, \n",
    "                                n_samples = n_samples,\n",
    "                                random_state = 27)\n",
    "not_purcahase_set_downsampled = resample(not_purcahase_set,\n",
    "                                replace = True,\n",
    "                                n_samples = n_samples,\n",
    "                                random_state = 27)"
   ]
  },
  {
   "cell_type": "code",
   "execution_count": 43,
   "id": "polish-technical",
   "metadata": {
    "execution": {
     "iopub.execute_input": "2021-04-11T03:18:18.563521Z",
     "iopub.status.busy": "2021-04-11T03:18:18.562502Z",
     "iopub.status.idle": "2021-04-11T03:18:18.620047Z",
     "shell.execute_reply": "2021-04-11T03:18:18.620623Z"
    },
    "papermill": {
     "duration": 0.128404,
     "end_time": "2021-04-11T03:18:18.620825",
     "exception": false,
     "start_time": "2021-04-11T03:18:18.492421",
     "status": "completed"
    },
    "tags": []
   },
   "outputs": [
    {
     "data": {
      "text/plain": [
       "0.0    50000\n",
       "1.0    50000\n",
       "Name: is_purchased, dtype: int64"
      ]
     },
     "execution_count": 43,
     "metadata": {},
     "output_type": "execute_result"
    }
   ],
   "source": [
    "#만든것들 붙이기 \n",
    "downsampled = pd.concat([is_purchase_downsampled, not_purcahase_set_downsampled])\n",
    "downsampled['is_purchased'].value_counts()"
   ]
  },
  {
   "cell_type": "code",
   "execution_count": 44,
   "id": "accurate-allowance",
   "metadata": {
    "execution": {
     "iopub.execute_input": "2021-04-11T03:18:18.753127Z",
     "iopub.status.busy": "2021-04-11T03:18:18.752503Z",
     "iopub.status.idle": "2021-04-11T03:18:18.812646Z",
     "shell.execute_reply": "2021-04-11T03:18:18.812088Z"
    },
    "papermill": {
     "duration": 0.127582,
     "end_time": "2021-04-11T03:18:18.812784",
     "exception": false,
     "start_time": "2021-04-11T03:18:18.685202",
     "status": "completed"
    },
    "tags": []
   },
   "outputs": [
    {
     "data": {
      "text/html": [
       "<div>\n",
       "<style scoped>\n",
       "    .dataframe tbody tr th:only-of-type {\n",
       "        vertical-align: middle;\n",
       "    }\n",
       "\n",
       "    .dataframe tbody tr th {\n",
       "        vertical-align: top;\n",
       "    }\n",
       "\n",
       "    .dataframe thead th {\n",
       "        text-align: right;\n",
       "    }\n",
       "</style>\n",
       "<table border=\"1\" class=\"dataframe\">\n",
       "  <thead>\n",
       "    <tr style=\"text-align: right;\">\n",
       "      <th></th>\n",
       "      <th>brand</th>\n",
       "      <th>price</th>\n",
       "      <th>event_weekday</th>\n",
       "      <th>category_code_level1</th>\n",
       "      <th>category_code_level2</th>\n",
       "      <th>activity_count</th>\n",
       "    </tr>\n",
       "  </thead>\n",
       "  <tbody>\n",
       "    <tr>\n",
       "      <th>5684</th>\n",
       "      <td>italwax</td>\n",
       "      <td>1.78</td>\n",
       "      <td>4</td>\n",
       "      <td>stationery</td>\n",
       "      <td>cartrige</td>\n",
       "      <td>43.0</td>\n",
       "    </tr>\n",
       "    <tr>\n",
       "      <th>2833</th>\n",
       "      <td>benovy</td>\n",
       "      <td>5.57</td>\n",
       "      <td>1</td>\n",
       "      <td>apparel</td>\n",
       "      <td>glove</td>\n",
       "      <td>0.0</td>\n",
       "    </tr>\n",
       "    <tr>\n",
       "      <th>4017</th>\n",
       "      <td>gehwol</td>\n",
       "      <td>16.67</td>\n",
       "      <td>5</td>\n",
       "      <td>furniture</td>\n",
       "      <td>bathroom</td>\n",
       "      <td>0.0</td>\n",
       "    </tr>\n",
       "    <tr>\n",
       "      <th>7019</th>\n",
       "      <td>italwax</td>\n",
       "      <td>1.98</td>\n",
       "      <td>0</td>\n",
       "      <td>stationery</td>\n",
       "      <td>cartrige</td>\n",
       "      <td>0.0</td>\n",
       "    </tr>\n",
       "    <tr>\n",
       "      <th>5704</th>\n",
       "      <td>benovy</td>\n",
       "      <td>5.22</td>\n",
       "      <td>4</td>\n",
       "      <td>apparel</td>\n",
       "      <td>glove</td>\n",
       "      <td>0.0</td>\n",
       "    </tr>\n",
       "  </tbody>\n",
       "</table>\n",
       "</div>"
      ],
      "text/plain": [
       "        brand  price event_weekday category_code_level1 category_code_level2  \\\n",
       "5684  italwax   1.78             4           stationery             cartrige   \n",
       "2833   benovy   5.57             1              apparel                glove   \n",
       "4017   gehwol  16.67             5            furniture             bathroom   \n",
       "7019  italwax   1.98             0           stationery             cartrige   \n",
       "5704   benovy   5.22             4              apparel                glove   \n",
       "\n",
       "      activity_count  \n",
       "5684            43.0  \n",
       "2833             0.0  \n",
       "4017             0.0  \n",
       "7019             0.0  \n",
       "5704             0.0  "
      ]
     },
     "execution_count": 44,
     "metadata": {},
     "output_type": "execute_result"
    }
   ],
   "source": [
    "features = downsampled.loc[:,['brand', 'price', 'event_weekday', 'category_code_level1', 'category_code_level2', 'activity_count']]\n",
    "features.head()"
   ]
  },
  {
   "cell_type": "markdown",
   "id": "revolutionary-pennsylvania",
   "metadata": {
    "papermill": {
     "duration": 0.063739,
     "end_time": "2021-04-11T03:18:18.940571",
     "exception": false,
     "start_time": "2021-04-11T03:18:18.876832",
     "status": "completed"
    },
    "tags": []
   },
   "source": [
    "이제 downsampled의 'is_purchased'가 타겟, 그리고 따로 떼어낸 'features'를 피처로 사용할 것!"
   ]
  },
  {
   "cell_type": "code",
   "execution_count": 45,
   "id": "pursuant-beach",
   "metadata": {
    "execution": {
     "iopub.execute_input": "2021-04-11T03:18:19.119623Z",
     "iopub.status.busy": "2021-04-11T03:18:19.083359Z",
     "iopub.status.idle": "2021-04-11T03:18:19.270445Z",
     "shell.execute_reply": "2021-04-11T03:18:19.271310Z"
    },
    "papermill": {
     "duration": 0.26684,
     "end_time": "2021-04-11T03:18:19.271598",
     "exception": false,
     "start_time": "2021-04-11T03:18:19.004758",
     "status": "completed"
    },
    "tags": []
   },
   "outputs": [
    {
     "data": {
      "text/html": [
       "<div>\n",
       "<style scoped>\n",
       "    .dataframe tbody tr th:only-of-type {\n",
       "        vertical-align: middle;\n",
       "    }\n",
       "\n",
       "    .dataframe tbody tr th {\n",
       "        vertical-align: top;\n",
       "    }\n",
       "\n",
       "    .dataframe thead th {\n",
       "        text-align: right;\n",
       "    }\n",
       "</style>\n",
       "<table border=\"1\" class=\"dataframe\">\n",
       "  <thead>\n",
       "    <tr style=\"text-align: right;\">\n",
       "      <th></th>\n",
       "      <th>brand</th>\n",
       "      <th>price</th>\n",
       "      <th>event_weekday</th>\n",
       "      <th>category_code_level1</th>\n",
       "      <th>category_code_level2</th>\n",
       "      <th>activity_count</th>\n",
       "    </tr>\n",
       "  </thead>\n",
       "  <tbody>\n",
       "    <tr>\n",
       "      <th>5684</th>\n",
       "      <td>9</td>\n",
       "      <td>1.78</td>\n",
       "      <td>4</td>\n",
       "      <td>4</td>\n",
       "      <td>2</td>\n",
       "      <td>43.0</td>\n",
       "    </tr>\n",
       "    <tr>\n",
       "      <th>2833</th>\n",
       "      <td>0</td>\n",
       "      <td>5.57</td>\n",
       "      <td>1</td>\n",
       "      <td>1</td>\n",
       "      <td>5</td>\n",
       "      <td>0.0</td>\n",
       "    </tr>\n",
       "    <tr>\n",
       "      <th>4017</th>\n",
       "      <td>7</td>\n",
       "      <td>16.67</td>\n",
       "      <td>5</td>\n",
       "      <td>3</td>\n",
       "      <td>1</td>\n",
       "      <td>0.0</td>\n",
       "    </tr>\n",
       "    <tr>\n",
       "      <th>7019</th>\n",
       "      <td>9</td>\n",
       "      <td>1.98</td>\n",
       "      <td>0</td>\n",
       "      <td>4</td>\n",
       "      <td>2</td>\n",
       "      <td>0.0</td>\n",
       "    </tr>\n",
       "    <tr>\n",
       "      <th>5704</th>\n",
       "      <td>0</td>\n",
       "      <td>5.22</td>\n",
       "      <td>4</td>\n",
       "      <td>1</td>\n",
       "      <td>5</td>\n",
       "      <td>0.0</td>\n",
       "    </tr>\n",
       "  </tbody>\n",
       "</table>\n",
       "</div>"
      ],
      "text/plain": [
       "      brand  price  event_weekday  category_code_level1  category_code_level2  \\\n",
       "5684      9   1.78              4                     4                     2   \n",
       "2833      0   5.57              1                     1                     5   \n",
       "4017      7  16.67              5                     3                     1   \n",
       "7019      9   1.98              0                     4                     2   \n",
       "5704      0   5.22              4                     1                     5   \n",
       "\n",
       "      activity_count  \n",
       "5684            43.0  \n",
       "2833             0.0  \n",
       "4017             0.0  \n",
       "7019             0.0  \n",
       "5704             0.0  "
      ]
     },
     "execution_count": 45,
     "metadata": {},
     "output_type": "execute_result"
    }
   ],
   "source": [
    "## features의 범주형 변수 변경 \n",
    "features.loc[:,'brand'] = LabelEncoder().fit_transform(downsampled.loc[:,'brand'].copy())\n",
    "features.loc[:,'event_weekday'] = LabelEncoder().fit_transform(downsampled.loc[:,'event_weekday'].copy())\n",
    "features.loc[:,'category_code_level1'] = LabelEncoder().fit_transform(downsampled.loc[:,'category_code_level1'].copy())\n",
    "features.loc[:,'category_code_level2'] = LabelEncoder().fit_transform(downsampled.loc[:,'category_code_level2'].copy())\n",
    "\n",
    "is_purchased = LabelEncoder().fit_transform(downsampled['is_purchased'])\n",
    "features.head()"
   ]
  },
  {
   "cell_type": "code",
   "execution_count": 46,
   "id": "functioning-blind",
   "metadata": {
    "execution": {
     "iopub.execute_input": "2021-04-11T03:18:19.442119Z",
     "iopub.status.busy": "2021-04-11T03:18:19.441440Z",
     "iopub.status.idle": "2021-04-11T03:18:19.446446Z",
     "shell.execute_reply": "2021-04-11T03:18:19.445913Z"
    },
    "papermill": {
     "duration": 0.080739,
     "end_time": "2021-04-11T03:18:19.446601",
     "exception": false,
     "start_time": "2021-04-11T03:18:19.365862",
     "status": "completed"
    },
    "tags": []
   },
   "outputs": [
    {
     "name": "stdout",
     "output_type": "stream",
     "text": [
      "['brand', 'price', 'event_weekday', 'category_code_level1', 'category_code_level2', 'activity_count']\n"
     ]
    }
   ],
   "source": [
    "print(list(features.columns))"
   ]
  },
  {
   "cell_type": "markdown",
   "id": "hourly-projection",
   "metadata": {
    "papermill": {
     "duration": 0.070919,
     "end_time": "2021-04-11T03:18:19.589024",
     "exception": false,
     "start_time": "2021-04-11T03:18:19.518105",
     "status": "completed"
    },
    "tags": []
   },
   "source": [
    "### Split the data"
   ]
  },
  {
   "cell_type": "code",
   "execution_count": 47,
   "id": "confident-position",
   "metadata": {
    "execution": {
     "iopub.execute_input": "2021-04-11T03:18:19.740471Z",
     "iopub.status.busy": "2021-04-11T03:18:19.739356Z",
     "iopub.status.idle": "2021-04-11T03:18:19.754498Z",
     "shell.execute_reply": "2021-04-11T03:18:19.753572Z"
    },
    "papermill": {
     "duration": 0.094457,
     "end_time": "2021-04-11T03:18:19.754670",
     "exception": false,
     "start_time": "2021-04-11T03:18:19.660213",
     "status": "completed"
    },
    "tags": []
   },
   "outputs": [],
   "source": [
    "X_train, X_test, y_train, y_test = train_test_split(features, \n",
    "                                                    is_purchased, \n",
    "                                                    test_size = 0.3, \n",
    "                                                    random_state = 0)"
   ]
  },
  {
   "cell_type": "markdown",
   "id": "simplified-marker",
   "metadata": {
    "papermill": {
     "duration": 0.068309,
     "end_time": "2021-04-11T03:18:19.894802",
     "exception": false,
     "start_time": "2021-04-11T03:18:19.826493",
     "status": "completed"
    },
    "tags": []
   },
   "source": [
    "### Model Training"
   ]
  },
  {
   "cell_type": "code",
   "execution_count": 48,
   "id": "burning-technician",
   "metadata": {
    "execution": {
     "iopub.execute_input": "2021-04-11T03:18:20.037267Z",
     "iopub.status.busy": "2021-04-11T03:18:20.036621Z",
     "iopub.status.idle": "2021-04-11T03:18:22.119920Z",
     "shell.execute_reply": "2021-04-11T03:18:22.120586Z"
    },
    "papermill": {
     "duration": 2.158817,
     "end_time": "2021-04-11T03:18:22.120828",
     "exception": false,
     "start_time": "2021-04-11T03:18:19.962011",
     "status": "completed"
    },
    "tags": []
   },
   "outputs": [
    {
     "name": "stderr",
     "output_type": "stream",
     "text": [
      "/opt/conda/lib/python3.7/site-packages/xgboost/sklearn.py:888: UserWarning: The use of label encoder in XGBClassifier is deprecated and will be removed in a future release. To remove this warning, do the following: 1) Pass option use_label_encoder=False when constructing XGBClassifier object; and 2) Encode your labels (y) as integers starting with 0, i.e. 0, 1, 2, ..., [num_class - 1].\n",
      "  warnings.warn(label_encoder_deprecation_msg, UserWarning)\n"
     ]
    },
    {
     "name": "stdout",
     "output_type": "stream",
     "text": [
      "[03:18:20] WARNING: ../src/learner.cc:1061: Starting in XGBoost 1.3.0, the default evaluation metric used with the objective 'binary:logistic' was changed from 'error' to 'logloss'. Explicitly set eval_metric if you'd like to restore the old behavior.\n"
     ]
    }
   ],
   "source": [
    "from xgboost import XGBClassifier\n",
    "model = XGBClassifier(learning_rate=0.1)\n",
    "model.fit(X_train, y_train)\n",
    "y_pred = model.predict(X_test)"
   ]
  },
  {
   "cell_type": "code",
   "execution_count": 49,
   "id": "developed-location",
   "metadata": {
    "execution": {
     "iopub.execute_input": "2021-04-11T03:18:22.287464Z",
     "iopub.status.busy": "2021-04-11T03:18:22.286741Z",
     "iopub.status.idle": "2021-04-11T03:18:22.338574Z",
     "shell.execute_reply": "2021-04-11T03:18:22.337665Z"
    },
    "papermill": {
     "duration": 0.140361,
     "end_time": "2021-04-11T03:18:22.338789",
     "exception": false,
     "start_time": "2021-04-11T03:18:22.198428",
     "status": "completed"
    },
    "tags": []
   },
   "outputs": [
    {
     "name": "stdout",
     "output_type": "stream",
     "text": [
      "Accuracy: 0.7025333333333333\n",
      "Precision: 0.6688293370944993\n",
      "Recall: 0.7951572875444363\n",
      "fbeta: 0.7045960533115201\n"
     ]
    }
   ],
   "source": [
    "print(\"Accuracy:\",metrics.accuracy_score(y_test, y_pred))\n",
    "print(\"Precision:\",metrics.precision_score(y_test, y_pred))\n",
    "print(\"Recall:\",metrics.recall_score(y_test, y_pred))\n",
    "print(\"fbeta:\",metrics.fbeta_score(y_test, y_pred, average='weighted', beta=0.5))"
   ]
  },
  {
   "cell_type": "code",
   "execution_count": 50,
   "id": "falling-argentina",
   "metadata": {
    "execution": {
     "iopub.execute_input": "2021-04-11T03:18:22.491012Z",
     "iopub.status.busy": "2021-04-11T03:18:22.489789Z",
     "iopub.status.idle": "2021-04-11T03:18:22.778419Z",
     "shell.execute_reply": "2021-04-11T03:18:22.776994Z"
    },
    "papermill": {
     "duration": 0.366184,
     "end_time": "2021-04-11T03:18:22.778615",
     "exception": false,
     "start_time": "2021-04-11T03:18:22.412431",
     "status": "completed"
    },
    "tags": []
   },
   "outputs": [
    {
     "data": {
      "image/png": "[encoded data removed]",
      "text/plain": [
       "<Figure size 576x576 with 1 Axes>"
      ]
     },
     "metadata": {
      "needs_background": "light"
     },
     "output_type": "display_data"
    }
   ],
   "source": [
    "plot_importance(model, max_num_features=10, importance_type ='gain')\n",
    "plt.rcParams['figure.figsize'] = (40,10)\n",
    "plt.show()"
   ]
  },
  {
   "cell_type": "code",
   "execution_count": null,
   "id": "handy-master",
   "metadata": {
    "papermill": {
     "duration": 0.067991,
     "end_time": "2021-04-11T03:18:22.920324",
     "exception": false,
     "start_time": "2021-04-11T03:18:22.852333",
     "status": "completed"
    },
    "tags": []
   },
   "outputs": [],
   "source": []
  }
 ],
 "metadata": {
  "kernelspec": {
   "display_name": "Python 3",
   "language": "python",
   "name": "python3"
  },
  "language_info": {
   "codemirror_mode": {
    "name": "ipython",
    "version": 3
   },
   "file_extension": ".py",
   "mimetype": "text/x-python",
   "name": "python",
   "nbconvert_exporter": "python",
   "pygments_lexer": "ipython3",
   "version": "3.7.9"
  },
  "papermill": {
   "default_parameters": {},
   "duration": 70.470014,
   "end_time": "2021-04-11T03:18:24.303687",
   "environment_variables": {},
   "exception": null,
   "input_path": "__notebook__.ipynb",
   "output_path": "__notebook__.ipynb",
   "parameters": {},
   "start_time": "2021-04-11T03:17:13.833673",
   "version": "2.3.2"
  }
 },
 "nbformat": 4,
 "nbformat_minor": 5
}
